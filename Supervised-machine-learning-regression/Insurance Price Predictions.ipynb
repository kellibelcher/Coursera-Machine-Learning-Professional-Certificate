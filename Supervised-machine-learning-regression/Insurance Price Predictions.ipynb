{
 "cells": [
  {
   "cell_type": "markdown",
   "id": "67356040",
   "metadata": {},
   "source": [
    "# Predicting Insurance Costs by Region\n",
    "\n",
    "----"
   ]
  },
  {
   "cell_type": "markdown",
   "id": "9c1a5548",
   "metadata": {
    "papermill": {
     "duration": 0.0324,
     "end_time": "2021-12-18T19:09:55.099959",
     "exception": false,
     "start_time": "2021-12-18T19:09:55.067559",
     "status": "completed"
    },
    "tags": []
   },
   "source": [
    "# Business Objective"
   ]
  },
  {
   "cell_type": "markdown",
   "id": "2e2e1355",
   "metadata": {
    "papermill": {
     "duration": 0.030907,
     "end_time": "2021-12-18T19:09:55.164216",
     "exception": false,
     "start_time": "2021-12-18T19:09:55.133309",
     "status": "completed"
    },
    "tags": []
   },
   "source": [
    "The client in this case study is an insurance company in the healthcare industry. One of their main areas of focus is the cost of future insurance claims. They would like to understand the factors that lead to higher healthcare costs and develop a predictive model to prepare for future claims and help manage their risk. To provide a more targeted cost prediction, I will build a model for each of the four regions where the company's policyholders reside."
   ]
  },
  {
   "cell_type": "markdown",
   "id": "8d2247bb",
   "metadata": {
    "papermill": {
     "duration": 0.030768,
     "end_time": "2021-12-18T19:09:55.226212",
     "exception": false,
     "start_time": "2021-12-18T19:09:55.195444",
     "status": "completed"
    },
    "tags": []
   },
   "source": [
    "# Data Overview"
   ]
  },
  {
   "cell_type": "markdown",
   "id": "02ef0c65",
   "metadata": {
    "papermill": {
     "duration": 0.030727,
     "end_time": "2021-12-18T19:09:55.287602",
     "exception": false,
     "start_time": "2021-12-18T19:09:55.256875",
     "status": "completed"
    },
    "tags": []
   },
   "source": [
    "The [data set](https://www.kaggle.com/mirichoi0218/insurance) consists of 1,338 policyholders with 7 attributes that describe their health and demographic information, including their age, gender, BMI, and smoking status. The data set also contains the US region each beneficiary is located in: Southwest, Southeast, Northwest, and Northeast. Our target variable is the total claim amount, `charges`, that were billed to the insurance company."
   ]
  },
  {
   "cell_type": "code",
   "execution_count": 1,
   "id": "455abc79",
   "metadata": {
    "_kg_hide-input": true,
    "execution": {
     "iopub.execute_input": "2021-12-18T19:09:55.353969Z",
     "iopub.status.busy": "2021-12-18T19:09:55.352773Z",
     "iopub.status.idle": "2021-12-18T19:09:58.254307Z",
     "shell.execute_reply": "2021-12-18T19:09:58.253634Z",
     "shell.execute_reply.started": "2021-12-18T18:30:02.758701Z"
    },
    "papermill": {
     "duration": 2.935912,
     "end_time": "2021-12-18T19:09:58.254473",
     "exception": false,
     "start_time": "2021-12-18T19:09:55.318561",
     "status": "completed"
    },
    "tags": []
   },
   "outputs": [
    {
     "name": "stdout",
     "output_type": "stream",
     "text": [
      "There are 1,338 observations and 7 columns in the data set.\n",
      "There are 0 missing values in the data.\n"
     ]
    },
    {
     "data": {
      "text/html": [
       "<div>\n",
       "<style scoped>\n",
       "    .dataframe tbody tr th:only-of-type {\n",
       "        vertical-align: middle;\n",
       "    }\n",
       "\n",
       "    .dataframe tbody tr th {\n",
       "        vertical-align: top;\n",
       "    }\n",
       "\n",
       "    .dataframe thead th {\n",
       "        text-align: right;\n",
       "    }\n",
       "</style>\n",
       "<table border=\"1\" class=\"dataframe\">\n",
       "  <thead>\n",
       "    <tr style=\"text-align: right;\">\n",
       "      <th></th>\n",
       "      <th>age</th>\n",
       "      <th>sex</th>\n",
       "      <th>bmi</th>\n",
       "      <th>children</th>\n",
       "      <th>smoker</th>\n",
       "      <th>region</th>\n",
       "      <th>charges</th>\n",
       "    </tr>\n",
       "  </thead>\n",
       "  <tbody>\n",
       "    <tr>\n",
       "      <th>0</th>\n",
       "      <td>19</td>\n",
       "      <td>Female</td>\n",
       "      <td>27.900</td>\n",
       "      <td>0</td>\n",
       "      <td>Smoker</td>\n",
       "      <td>Southwest</td>\n",
       "      <td>16884.92400</td>\n",
       "    </tr>\n",
       "    <tr>\n",
       "      <th>1</th>\n",
       "      <td>18</td>\n",
       "      <td>Male</td>\n",
       "      <td>33.770</td>\n",
       "      <td>1</td>\n",
       "      <td>Non-Smoker</td>\n",
       "      <td>Southeast</td>\n",
       "      <td>1725.55230</td>\n",
       "    </tr>\n",
       "    <tr>\n",
       "      <th>2</th>\n",
       "      <td>28</td>\n",
       "      <td>Male</td>\n",
       "      <td>33.000</td>\n",
       "      <td>3</td>\n",
       "      <td>Non-Smoker</td>\n",
       "      <td>Southeast</td>\n",
       "      <td>4449.46200</td>\n",
       "    </tr>\n",
       "    <tr>\n",
       "      <th>3</th>\n",
       "      <td>33</td>\n",
       "      <td>Male</td>\n",
       "      <td>22.705</td>\n",
       "      <td>0</td>\n",
       "      <td>Non-Smoker</td>\n",
       "      <td>Northwest</td>\n",
       "      <td>21984.47061</td>\n",
       "    </tr>\n",
       "    <tr>\n",
       "      <th>4</th>\n",
       "      <td>32</td>\n",
       "      <td>Male</td>\n",
       "      <td>28.880</td>\n",
       "      <td>0</td>\n",
       "      <td>Non-Smoker</td>\n",
       "      <td>Northwest</td>\n",
       "      <td>3866.85520</td>\n",
       "    </tr>\n",
       "  </tbody>\n",
       "</table>\n",
       "</div>"
      ],
      "text/plain": [
       "   age     sex     bmi  children      smoker     region      charges\n",
       "0   19  Female  27.900         0      Smoker  Southwest  16884.92400\n",
       "1   18    Male  33.770         1  Non-Smoker  Southeast   1725.55230\n",
       "2   28    Male  33.000         3  Non-Smoker  Southeast   4449.46200\n",
       "3   33    Male  22.705         0  Non-Smoker  Northwest  21984.47061\n",
       "4   32    Male  28.880         0  Non-Smoker  Northwest   3866.85520"
      ]
     },
     "execution_count": 1,
     "metadata": {},
     "output_type": "execute_result"
    }
   ],
   "source": [
    "import numpy as np\n",
    "import pandas as pd\n",
    "import seaborn as sns\n",
    "import matplotlib.pyplot as plt\n",
    "import plotly.express as px\n",
    "import plotly.graph_objects as go\n",
    "from plotly.offline import plot, iplot, init_notebook_mode\n",
    "from sklearn.preprocessing import StandardScaler, PolynomialFeatures\n",
    "from sklearn.decomposition import PCA\n",
    "from sklearn.linear_model import LinearRegression\n",
    "from sklearn.neighbors import KNeighborsRegressor\n",
    "from sklearn.svm import SVR\n",
    "from sklearn.ensemble import GradientBoostingRegressor\n",
    "from sklearn.model_selection import train_test_split, RandomizedSearchCV\n",
    "from sklearn.metrics import r2_score, mean_squared_error\n",
    "import warnings\n",
    "warnings.filterwarnings(\"ignore\")\n",
    "\n",
    "# Load data\n",
    "ins = pd.read_csv(\"data/insurance.csv\")\n",
    "print(\"There are {:,} observations and {} columns in the data set.\".format(ins.shape[0], ins.shape[1]))\n",
    "print(\"There are {} missing values in the data.\".format(ins.isna().sum().sum()))\n",
    "ins['sex'] = ins['sex'].str.capitalize()\n",
    "ins['smoker'] = ins['smoker'].apply(lambda x: 'Smoker' if x=='yes' else 'Non-Smoker')\n",
    "ins['region'] = ins['region'].str.capitalize()\n",
    "ins.head()"
   ]
  },
  {
   "cell_type": "markdown",
   "id": "f4de32bf",
   "metadata": {
    "papermill": {
     "duration": 0.032987,
     "end_time": "2021-12-18T19:09:58.321085",
     "exception": false,
     "start_time": "2021-12-18T19:09:58.288098",
     "status": "completed"
    },
    "tags": []
   },
   "source": [
    "# Summary Statistics\n",
    "## Numeric Columns"
   ]
  },
  {
   "cell_type": "code",
   "execution_count": 2,
   "id": "3658b071",
   "metadata": {
    "_kg_hide-input": true,
    "execution": {
     "iopub.execute_input": "2021-12-18T19:09:58.388688Z",
     "iopub.status.busy": "2021-12-18T19:09:58.388021Z",
     "iopub.status.idle": "2021-12-18T19:09:58.421898Z",
     "shell.execute_reply": "2021-12-18T19:09:58.422432Z",
     "shell.execute_reply.started": "2021-12-18T16:10:41.780601Z"
    },
    "papermill": {
     "duration": 0.068909,
     "end_time": "2021-12-18T19:09:58.422619",
     "exception": false,
     "start_time": "2021-12-18T19:09:58.353710",
     "status": "completed"
    },
    "tags": []
   },
   "outputs": [
    {
     "data": {
      "text/html": [
       "<div>\n",
       "<style scoped>\n",
       "    .dataframe tbody tr th:only-of-type {\n",
       "        vertical-align: middle;\n",
       "    }\n",
       "\n",
       "    .dataframe tbody tr th {\n",
       "        vertical-align: top;\n",
       "    }\n",
       "\n",
       "    .dataframe thead th {\n",
       "        text-align: right;\n",
       "    }\n",
       "</style>\n",
       "<table border=\"1\" class=\"dataframe\">\n",
       "  <thead>\n",
       "    <tr style=\"text-align: right;\">\n",
       "      <th></th>\n",
       "      <th>count</th>\n",
       "      <th>mean</th>\n",
       "      <th>std</th>\n",
       "      <th>min</th>\n",
       "      <th>25%</th>\n",
       "      <th>50%</th>\n",
       "      <th>75%</th>\n",
       "      <th>max</th>\n",
       "    </tr>\n",
       "  </thead>\n",
       "  <tbody>\n",
       "    <tr>\n",
       "      <th>age</th>\n",
       "      <td>1338.0</td>\n",
       "      <td>39.207025</td>\n",
       "      <td>14.049960</td>\n",
       "      <td>18.0000</td>\n",
       "      <td>27.00000</td>\n",
       "      <td>39.000</td>\n",
       "      <td>51.000000</td>\n",
       "      <td>64.00000</td>\n",
       "    </tr>\n",
       "    <tr>\n",
       "      <th>bmi</th>\n",
       "      <td>1338.0</td>\n",
       "      <td>30.663397</td>\n",
       "      <td>6.098187</td>\n",
       "      <td>15.9600</td>\n",
       "      <td>26.29625</td>\n",
       "      <td>30.400</td>\n",
       "      <td>34.693750</td>\n",
       "      <td>53.13000</td>\n",
       "    </tr>\n",
       "    <tr>\n",
       "      <th>children</th>\n",
       "      <td>1338.0</td>\n",
       "      <td>1.094918</td>\n",
       "      <td>1.205493</td>\n",
       "      <td>0.0000</td>\n",
       "      <td>0.00000</td>\n",
       "      <td>1.000</td>\n",
       "      <td>2.000000</td>\n",
       "      <td>5.00000</td>\n",
       "    </tr>\n",
       "    <tr>\n",
       "      <th>charges</th>\n",
       "      <td>1338.0</td>\n",
       "      <td>13270.422265</td>\n",
       "      <td>12110.011237</td>\n",
       "      <td>1121.8739</td>\n",
       "      <td>4740.28715</td>\n",
       "      <td>9382.033</td>\n",
       "      <td>16639.912515</td>\n",
       "      <td>63770.42801</td>\n",
       "    </tr>\n",
       "  </tbody>\n",
       "</table>\n",
       "</div>"
      ],
      "text/plain": [
       "           count          mean           std        min         25%       50%  \\\n",
       "age       1338.0     39.207025     14.049960    18.0000    27.00000    39.000   \n",
       "bmi       1338.0     30.663397      6.098187    15.9600    26.29625    30.400   \n",
       "children  1338.0      1.094918      1.205493     0.0000     0.00000     1.000   \n",
       "charges   1338.0  13270.422265  12110.011237  1121.8739  4740.28715  9382.033   \n",
       "\n",
       "                   75%          max  \n",
       "age          51.000000     64.00000  \n",
       "bmi          34.693750     53.13000  \n",
       "children      2.000000      5.00000  \n",
       "charges   16639.912515  63770.42801  "
      ]
     },
     "execution_count": 2,
     "metadata": {},
     "output_type": "execute_result"
    }
   ],
   "source": [
    "ins.describe().T"
   ]
  },
  {
   "cell_type": "markdown",
   "id": "e427c715",
   "metadata": {
    "papermill": {
     "duration": 0.032058,
     "end_time": "2021-12-18T19:09:58.486965",
     "exception": false,
     "start_time": "2021-12-18T19:09:58.454907",
     "status": "completed"
    },
    "tags": []
   },
   "source": [
    "## Categorical Columns"
   ]
  },
  {
   "cell_type": "code",
   "execution_count": 3,
   "id": "89979a7e",
   "metadata": {
    "_kg_hide-input": true,
    "execution": {
     "iopub.execute_input": "2021-12-18T19:09:58.555256Z",
     "iopub.status.busy": "2021-12-18T19:09:58.554586Z",
     "iopub.status.idle": "2021-12-18T19:09:58.589086Z",
     "shell.execute_reply": "2021-12-18T19:09:58.589665Z",
     "shell.execute_reply.started": "2021-12-18T18:35:52.272684Z"
    },
    "papermill": {
     "duration": 0.07032,
     "end_time": "2021-12-18T19:09:58.589829",
     "exception": false,
     "start_time": "2021-12-18T19:09:58.519509",
     "status": "completed"
    },
    "tags": []
   },
   "outputs": [
    {
     "name": "stdout",
     "output_type": "stream",
     "text": [
      "\n",
      "Variable: sex\n"
     ]
    },
    {
     "data": {
      "text/html": [
       "<div>\n",
       "<style scoped>\n",
       "    .dataframe tbody tr th:only-of-type {\n",
       "        vertical-align: middle;\n",
       "    }\n",
       "\n",
       "    .dataframe tbody tr th {\n",
       "        vertical-align: top;\n",
       "    }\n",
       "\n",
       "    .dataframe thead th {\n",
       "        text-align: right;\n",
       "    }\n",
       "</style>\n",
       "<table border=\"1\" class=\"dataframe\">\n",
       "  <thead>\n",
       "    <tr style=\"text-align: right;\">\n",
       "      <th></th>\n",
       "      <th>Number of Observations</th>\n",
       "      <th>Average Claim Amount</th>\n",
       "    </tr>\n",
       "  </thead>\n",
       "  <tbody>\n",
       "    <tr>\n",
       "      <th>Female</th>\n",
       "      <td>662</td>\n",
       "      <td>$12,569.58</td>\n",
       "    </tr>\n",
       "    <tr>\n",
       "      <th>Male</th>\n",
       "      <td>676</td>\n",
       "      <td>$13,956.75</td>\n",
       "    </tr>\n",
       "  </tbody>\n",
       "</table>\n",
       "</div>"
      ],
      "text/plain": [
       "        Number of Observations Average Claim Amount\n",
       "Female                     662           $12,569.58\n",
       "Male                       676           $13,956.75"
      ]
     },
     "metadata": {},
     "output_type": "display_data"
    },
    {
     "name": "stdout",
     "output_type": "stream",
     "text": [
      "\n",
      "Variable: smoker\n"
     ]
    },
    {
     "data": {
      "text/html": [
       "<div>\n",
       "<style scoped>\n",
       "    .dataframe tbody tr th:only-of-type {\n",
       "        vertical-align: middle;\n",
       "    }\n",
       "\n",
       "    .dataframe tbody tr th {\n",
       "        vertical-align: top;\n",
       "    }\n",
       "\n",
       "    .dataframe thead th {\n",
       "        text-align: right;\n",
       "    }\n",
       "</style>\n",
       "<table border=\"1\" class=\"dataframe\">\n",
       "  <thead>\n",
       "    <tr style=\"text-align: right;\">\n",
       "      <th></th>\n",
       "      <th>Number of Observations</th>\n",
       "      <th>Average Claim Amount</th>\n",
       "    </tr>\n",
       "  </thead>\n",
       "  <tbody>\n",
       "    <tr>\n",
       "      <th>Non-Smoker</th>\n",
       "      <td>1064</td>\n",
       "      <td>$8,434.27</td>\n",
       "    </tr>\n",
       "    <tr>\n",
       "      <th>Smoker</th>\n",
       "      <td>274</td>\n",
       "      <td>$32,050.23</td>\n",
       "    </tr>\n",
       "  </tbody>\n",
       "</table>\n",
       "</div>"
      ],
      "text/plain": [
       "            Number of Observations Average Claim Amount\n",
       "Non-Smoker                    1064            $8,434.27\n",
       "Smoker                         274           $32,050.23"
      ]
     },
     "metadata": {},
     "output_type": "display_data"
    },
    {
     "name": "stdout",
     "output_type": "stream",
     "text": [
      "\n",
      "Variable: region\n"
     ]
    },
    {
     "data": {
      "text/html": [
       "<div>\n",
       "<style scoped>\n",
       "    .dataframe tbody tr th:only-of-type {\n",
       "        vertical-align: middle;\n",
       "    }\n",
       "\n",
       "    .dataframe tbody tr th {\n",
       "        vertical-align: top;\n",
       "    }\n",
       "\n",
       "    .dataframe thead th {\n",
       "        text-align: right;\n",
       "    }\n",
       "</style>\n",
       "<table border=\"1\" class=\"dataframe\">\n",
       "  <thead>\n",
       "    <tr style=\"text-align: right;\">\n",
       "      <th></th>\n",
       "      <th>Number of Observations</th>\n",
       "      <th>Average Claim Amount</th>\n",
       "    </tr>\n",
       "  </thead>\n",
       "  <tbody>\n",
       "    <tr>\n",
       "      <th>Northeast</th>\n",
       "      <td>324</td>\n",
       "      <td>$13,406.38</td>\n",
       "    </tr>\n",
       "    <tr>\n",
       "      <th>Northwest</th>\n",
       "      <td>325</td>\n",
       "      <td>$12,417.58</td>\n",
       "    </tr>\n",
       "    <tr>\n",
       "      <th>Southeast</th>\n",
       "      <td>364</td>\n",
       "      <td>$14,735.41</td>\n",
       "    </tr>\n",
       "    <tr>\n",
       "      <th>Southwest</th>\n",
       "      <td>325</td>\n",
       "      <td>$12,346.94</td>\n",
       "    </tr>\n",
       "  </tbody>\n",
       "</table>\n",
       "</div>"
      ],
      "text/plain": [
       "           Number of Observations Average Claim Amount\n",
       "Northeast                     324           $13,406.38\n",
       "Northwest                     325           $12,417.58\n",
       "Southeast                     364           $14,735.41\n",
       "Southwest                     325           $12,346.94"
      ]
     },
     "metadata": {},
     "output_type": "display_data"
    }
   ],
   "source": [
    "cat=ins.select_dtypes(include=['object']).columns.tolist()\n",
    "for i in cat:\n",
    "    obs=ins[i].value_counts()\n",
    "    avg_claim=ins.groupby(i)[\"charges\"].mean()\n",
    "    print(\"\\nVariable:\",i)\n",
    "    display(pd.DataFrame({\"Number of Observations\":obs, \"Average Claim Amount\":avg_claim.map('${:,.2f}'.format)}))"
   ]
  },
  {
   "cell_type": "markdown",
   "id": "92912952",
   "metadata": {
    "papermill": {
     "duration": 0.035298,
     "end_time": "2021-12-18T19:09:58.659985",
     "exception": false,
     "start_time": "2021-12-18T19:09:58.624687",
     "status": "completed"
    },
    "tags": []
   },
   "source": [
    "# Exploratory Data Analysis"
   ]
  },
  {
   "cell_type": "code",
   "execution_count": 4,
   "id": "5030063a",
   "metadata": {
    "_kg_hide-input": true,
    "execution": {
     "iopub.execute_input": "2021-12-18T19:09:58.737163Z",
     "iopub.status.busy": "2021-12-18T19:09:58.736419Z",
     "iopub.status.idle": "2021-12-18T19:09:59.948559Z",
     "shell.execute_reply": "2021-12-18T19:09:59.949360Z",
     "shell.execute_reply.started": "2021-12-18T18:31:34.451838Z"
    },
    "papermill": {
     "duration": 1.254317,
     "end_time": "2021-12-18T19:09:59.949591",
     "exception": false,
     "start_time": "2021-12-18T19:09:58.695274",
     "status": "completed"
    },
    "tags": []
   },
   "outputs": [
    {
     "data": {
      "text/html": [
       "        <script type=\"text/javascript\">\n",
       "        window.PlotlyConfig = {MathJaxConfig: 'local'};\n",
       "        if (window.MathJax) {MathJax.Hub.Config({SVG: {font: \"STIX-Web\"}});}\n",
       "        if (typeof require !== 'undefined') {\n",
       "        require.undef(\"plotly\");\n",
       "        requirejs.config({\n",
       "            paths: {\n",
       "                'plotly': ['https://cdn.plot.ly/plotly-2.6.3.min']\n",
       "            }\n",
       "        });\n",
       "        require(['plotly'], function(Plotly) {\n",
       "            window._Plotly = Plotly;\n",
       "        });\n",
       "        }\n",
       "        </script>\n",
       "        "
      ]
     },
     "metadata": {},
     "output_type": "display_data"
    }
   ],
   "source": [
    "init_notebook_mode(connected=True)\n",
    "px.defaults.template = \"plotly_white\"\n",
    "plot_df=ins.copy()\n",
    "fig = px.box(plot_df, x=\"region\", y=\"charges\", color=\"region\", \n",
    "             notched=True, points=\"outliers\", height=600,\n",
    "             title=\"Distribution of Insurance Costs by Region\",\n",
    "             color_discrete_sequence=['#B14B51', '#D0A99C', '#5D8370', '#6C839B'])\n",
    "fig.update_traces(marker=dict(size=9, opacity=0.5, line=dict(width=1,color=\"#F7F7F7\")), showlegend=False)\n",
    "fig.update_layout(font_color=\"#303030\", xaxis_title='Region', yaxis_title='Claim Amount, $',\n",
    "                  yaxis=dict(showgrid=True, gridwidth=1, gridcolor='#EAEAEA', zerolinecolor='#EAEAEA'))\n",
    "fig.write_image(\"data/fig1.svg\")"
   ]
  },
  {
   "cell_type": "markdown",
   "id": "33f9b680",
   "metadata": {},
   "source": [
    "![fig1](data/fig1.svg)"
   ]
  },
  {
   "cell_type": "markdown",
   "id": "8517899b",
   "metadata": {
    "papermill": {
     "duration": 0.052162,
     "end_time": "2021-12-18T19:10:00.066456",
     "exception": false,
     "start_time": "2021-12-18T19:10:00.014294",
     "status": "completed"
    },
    "tags": []
   },
   "source": [
    "For each region, the boxplots show insurance charges are positively skewed with several large outliers. Insurance charges are more variable in the Southeast region, which contains the highest claim in the data set at over \\\\$63,000 as well as the lowest claim at \\$1,121. The Northeast region has the highest median cost overall, although since the notches in the boxplots overlap, the median claim amounts are likely not significantly different."
   ]
  },
  {
   "cell_type": "code",
   "execution_count": 5,
   "id": "8bae03ba",
   "metadata": {
    "_kg_hide-input": true,
    "execution": {
     "iopub.execute_input": "2021-12-18T19:10:00.178070Z",
     "iopub.status.busy": "2021-12-18T19:10:00.177379Z",
     "iopub.status.idle": "2021-12-18T19:10:00.341505Z",
     "shell.execute_reply": "2021-12-18T19:10:00.342463Z",
     "shell.execute_reply.started": "2021-12-18T18:31:14.321566Z"
    },
    "papermill": {
     "duration": 0.224651,
     "end_time": "2021-12-18T19:10:00.342727",
     "exception": false,
     "start_time": "2021-12-18T19:10:00.118076",
     "status": "completed"
    },
    "tags": []
   },
   "outputs": [],
   "source": [
    "fig=px.histogram(ins, x='charges', color='smoker', opacity=0.7, barmode='overlay',\n",
    "                 histnorm='probability density', marginal='box', \n",
    "                 title=\"Distribution of Insurance Costs by Smoking Status\",\n",
    "                 color_discrete_sequence=['#B14B51','#B7A294']) \n",
    "fig.update_layout(font_color=\"#303030\", xaxis_title='Claim Amount, $',\n",
    "                  yaxis=dict(title='Probability Density', gridcolor='#EAEAEA', zerolinecolor='#EAEAEA'),\n",
    "                  legend=dict(orientation=\"h\", yanchor=\"bottom\", y=1.02, xanchor=\"right\", x=1, title=\"\"))\n",
    "fig.update_xaxes(showgrid=False, zerolinecolor='#EAEAEA')\n",
    "fig.write_image(\"data/fig2.svg\")"
   ]
  },
  {
   "cell_type": "markdown",
   "id": "6ed24f1f",
   "metadata": {},
   "source": [
    "![fig2](data/fig2.svg)"
   ]
  },
  {
   "cell_type": "markdown",
   "id": "6c96816b",
   "metadata": {
    "papermill": {
     "duration": 0.06707,
     "end_time": "2021-12-18T19:10:00.486884",
     "exception": false,
     "start_time": "2021-12-18T19:10:00.419814",
     "status": "completed"
    },
    "tags": []
   },
   "source": [
    "The median claim amount of non-smokers is around \\\\$7,300, which is quite lower than the median claim of smokers at over \\\\$34,000. The distribution of insurance costs between the groups is also notably different. For non-smokers, the distribution is skewed to the right, while claim amounts for smokers have more variability with a wider spread in the boxplot and a bimodal distribution with peaks near \\\\$20,000 and \\$40,000."
   ]
  },
  {
   "cell_type": "code",
   "execution_count": 6,
   "id": "2e20c8db",
   "metadata": {
    "_kg_hide-input": true,
    "execution": {
     "iopub.execute_input": "2021-12-18T19:10:00.632860Z",
     "iopub.status.busy": "2021-12-18T19:10:00.632158Z",
     "iopub.status.idle": "2021-12-18T19:10:00.745711Z",
     "shell.execute_reply": "2021-12-18T19:10:00.746312Z",
     "shell.execute_reply.started": "2021-12-18T18:32:10.317281Z"
    },
    "papermill": {
     "duration": 0.192591,
     "end_time": "2021-12-18T19:10:00.746547",
     "exception": false,
     "start_time": "2021-12-18T19:10:00.553956",
     "status": "completed"
    },
    "tags": []
   },
   "outputs": [],
   "source": [
    "plot_df = ins.copy()\n",
    "plot_df[\"Age_Group\"]=['18 to 29' if i<30 else '30 to 44' if (i>=30)&(i<45) else \n",
    "                      '45 to 59' if (i>=45)&(i<60) else '60 and over' for i in ins['age']]\n",
    "plot_df = plot_df.groupby(['Age_Group','smoker'])['charges'].mean()\n",
    "plot_df = plot_df.rename('charges').reset_index().sort_values('smoker', ascending=True)\n",
    "fig = px.bar(plot_df, x='Age_Group', y='charges', color='smoker', height=500, text='charges', \n",
    "             opacity=0.75, barmode='group', color_discrete_sequence=['#B7A294','#B14B51'],\n",
    "             title=\"Average Insurance Costs by Age and Smoking Status\")\n",
    "fig.update_traces(texttemplate='$%{text:,.0f}', textposition='outside', \n",
    "                  marker_line=dict(width=1, color='#303030'))\n",
    "fig.update_layout(font_color=\"#303030\",bargroupgap=0.05, bargap=0.3, \n",
    "                  legend=dict(orientation=\"h\", yanchor=\"bottom\", y=1.02, xanchor=\"right\", x=1, title=\"\"),\n",
    "                  xaxis=dict(title='Age in years',showgrid=False), \n",
    "                  yaxis=dict(title='Claim Amount, $', showgrid=False,zerolinecolor='#DBDBDB',\n",
    "                             showline=True, linecolor='#DBDBDB', linewidth=2))\n",
    "fig.write_image(\"data/fig3.svg\")"
   ]
  },
  {
   "cell_type": "markdown",
   "id": "66d290e1",
   "metadata": {},
   "source": [
    "![fig3](data/fig3.svg)"
   ]
  },
  {
   "cell_type": "markdown",
   "id": "efeeb6b0",
   "metadata": {
    "papermill": {
     "duration": 0.073491,
     "end_time": "2021-12-18T19:10:00.899222",
     "exception": false,
     "start_time": "2021-12-18T19:10:00.825731",
     "status": "completed"
    },
    "tags": []
   },
   "source": [
    "Among each age group, insurance charges are significantly higher on average in smokers than non-smokers. We also see higher claim amounts as age increases with the most expensive claims in the 60 and over age group."
   ]
  },
  {
   "cell_type": "code",
   "execution_count": 8,
   "id": "410d2817",
   "metadata": {
    "_kg_hide-input": true,
    "execution": {
     "iopub.execute_input": "2021-12-18T19:10:01.059766Z",
     "iopub.status.busy": "2021-12-18T19:10:01.059024Z",
     "iopub.status.idle": "2021-12-18T19:10:01.175827Z",
     "shell.execute_reply": "2021-12-18T19:10:01.176455Z",
     "shell.execute_reply.started": "2021-12-18T18:32:35.995436Z"
    },
    "papermill": {
     "duration": 0.201852,
     "end_time": "2021-12-18T19:10:01.176635",
     "exception": false,
     "start_time": "2021-12-18T19:10:00.974783",
     "status": "completed"
    },
    "tags": []
   },
   "outputs": [],
   "source": [
    "fig = px.scatter(ins, x='bmi', y='charges', color='smoker', size='charges',\n",
    "                 title=\"Insurance costs increase with Body Mass Index among Smokers\",\n",
    "                 color_discrete_sequence=['#B14B51','#B7A294'],height=600)\n",
    "fig.update_layout(legend=dict(title='',orientation=\"h\", yanchor=\"bottom\", y=1.02, xanchor=\"right\", x=1),\n",
    "                  font_color=\"#303030\", xaxis=dict(title='Body Mass Index (BMI)',showgrid=False), \n",
    "                  yaxis=dict(title='Claim Amount, $',showgrid=False, zerolinecolor='#E5E5EA',\n",
    "                             showline=True, linecolor='#E5E5EA', linewidth=2))\n",
    "fig.write_image(\"data/fig_4.svg\")"
   ]
  },
  {
   "cell_type": "markdown",
   "id": "1663155d",
   "metadata": {},
   "source": [
    "![fig_4](data/fig_4.svg)"
   ]
  },
  {
   "cell_type": "markdown",
   "id": "80e0c603",
   "metadata": {
    "papermill": {
     "duration": 0.099268,
     "end_time": "2021-12-18T19:10:01.370902",
     "exception": false,
     "start_time": "2021-12-18T19:10:01.271634",
     "status": "completed"
    },
    "tags": []
   },
   "source": [
    "In addition to age, claim amounts are positively correlated to body mass index. Among smokers, insurance charges tend to increase with body mass index, especially in those with BMIs above 30."
   ]
  },
  {
   "cell_type": "code",
   "execution_count": 9,
   "id": "da497f51",
   "metadata": {
    "_kg_hide-input": true,
    "execution": {
     "iopub.execute_input": "2021-12-18T19:10:01.577787Z",
     "iopub.status.busy": "2021-12-18T19:10:01.577065Z",
     "iopub.status.idle": "2021-12-18T19:10:01.726565Z",
     "shell.execute_reply": "2021-12-18T19:10:01.727135Z",
     "shell.execute_reply.started": "2021-12-18T18:32:59.214665Z"
    },
    "papermill": {
     "duration": 0.256346,
     "end_time": "2021-12-18T19:10:01.727360",
     "exception": false,
     "start_time": "2021-12-18T19:10:01.471014",
     "status": "completed"
    },
    "tags": []
   },
   "outputs": [],
   "source": [
    "plot_df = ins.groupby(['region','sex','smoker'])['charges'].mean()\n",
    "plot_df = plot_df.rename('charges').reset_index()\n",
    "fig = px.bar(plot_df, x='region', y='charges', color='sex', height=800,\n",
    "             title=\"Average Insurance Costs by Region and Smoking Status\",\n",
    "             color_discrete_map={'Female': '#BFC5DA','Male': '#5D6A92'}, \n",
    "             facet_row='smoker', text='charges', opacity=0.85, barmode='group')\n",
    "fig.update_traces(texttemplate='$%{text:,.0f}', textposition='outside', \n",
    "                  marker_line=dict(width=1, color='#303030'))\n",
    "fig.layout.yaxis2.update(matches=None)\n",
    "fig.for_each_annotation(lambda a: a.update(text=a.text.split(\"=\")[-1]))\n",
    "fig.update_xaxes(title=\"Region\", row=1)\n",
    "fig.update_yaxes(title=\"Claim Amount, $\",  gridcolor='#E3E3E3', zeroline=True, zerolinewidth=2, \n",
    "                 showgrid=False, zerolinecolor='#E5E5EA',\n",
    "                 showline=True, linecolor='#E5E5EA', linewidth=2)\n",
    "fig.update_layout(font_color=\"#303030\", paper_bgcolor=\"white\", plot_bgcolor=\"white\",\n",
    "                  bargroupgap=0.05, bargap=0.2,\n",
    "                  legend=dict(orientation=\"h\", yanchor=\"bottom\", y=1.02, xanchor=\"right\", x=1, title=\"\"))\n",
    "fig.write_image(\"data/fig5.svg\")"
   ]
  },
  {
   "cell_type": "markdown",
   "id": "6047704c",
   "metadata": {},
   "source": [
    "![fig5](data/fig5.svg)"
   ]
  },
  {
   "cell_type": "markdown",
   "id": "9a9eb069",
   "metadata": {
    "papermill": {
     "duration": 0.103621,
     "end_time": "2021-12-18T19:10:01.935131",
     "exception": false,
     "start_time": "2021-12-18T19:10:01.831510",
     "status": "completed"
    },
    "tags": []
   },
   "source": [
    "Non-smokers tend to have smaller insurance claims on average than smokers at a little under \\\\$10,000 within each region, while smokers' claims range from an average of \\$28,000 to over \\\\$36,000. The graph also shows that women who are non-smokers have slightly higher average costs than men, while among smokers, men have slightly higher charges on average than women."
   ]
  },
  {
   "cell_type": "markdown",
   "id": "69f167e1",
   "metadata": {
    "papermill": {
     "duration": 0.108073,
     "end_time": "2021-12-18T19:10:02.150597",
     "exception": false,
     "start_time": "2021-12-18T19:10:02.042524",
     "status": "completed"
    },
    "tags": []
   },
   "source": [
    "## Correlations of Health Insurance Costs"
   ]
  },
  {
   "cell_type": "code",
   "execution_count": 11,
   "id": "64f290c5",
   "metadata": {
    "_kg_hide-input": true,
    "execution": {
     "iopub.execute_input": "2021-12-18T19:10:02.377697Z",
     "iopub.status.busy": "2021-12-18T19:10:02.377013Z",
     "iopub.status.idle": "2021-12-18T19:10:02.766170Z",
     "shell.execute_reply": "2021-12-18T19:10:02.765491Z",
     "shell.execute_reply.started": "2021-12-18T16:10:43.562458Z"
    },
    "papermill": {
     "duration": 0.507066,
     "end_time": "2021-12-18T19:10:02.766315",
     "exception": false,
     "start_time": "2021-12-18T19:10:02.259249",
     "status": "completed"
    },
    "tags": []
   },
   "outputs": [
    {
     "data": {
      "image/png": "[encoded data removed]",
      "text/plain": [
       "<Figure size 720x432 with 2 Axes>"
      ]
     },
     "metadata": {
      "needs_background": "light"
     },
     "output_type": "display_data"
    }
   ],
   "source": [
    "ins['female'] = ins['sex'].apply(lambda x: 1 if x=='Female' else 0)\n",
    "ins['smoker_yes'] = ins['smoker'].apply(lambda x: 1 if x=='Smoker' else 0)\n",
    "ins.drop(['sex', 'smoker'], axis=1, inplace=True)\n",
    "\n",
    "sns.set_context(\"notebook\")\n",
    "fig, ax = plt.subplots(figsize=(10,6))   \n",
    "corr=ins.corr()\n",
    "mask=np.triu(np.ones_like(corr, dtype=bool))[1:, :-1]\n",
    "corr=corr.iloc[1:,:-1].copy()\n",
    "ax=sns.heatmap(corr, mask=mask, vmin=-1, vmax=1, center=0, annot=True, fmt='.2f', \n",
    "               cmap='seismic', annot_kws={\"fontsize\":12})\n",
    "ax.set_xticklabels(ax.get_xticklabels(), rotation=45, horizontalalignment='right',fontsize=12)\n",
    "ax.set_yticklabels(ax.get_yticklabels(), fontsize=12)\n",
    "fig.show()"
   ]
  },
  {
   "cell_type": "markdown",
   "id": "f56b21da",
   "metadata": {
    "papermill": {
     "duration": 0.103959,
     "end_time": "2021-12-18T19:10:02.977020",
     "exception": false,
     "start_time": "2021-12-18T19:10:02.873061",
     "status": "completed"
    },
    "tags": []
   },
   "source": [
    "The correlation matrix shows that smokers have a strong positive relationship with insurance charges at 0.79, but overall, the variables in the dataset are not too highly correlated with each other."
   ]
  },
  {
   "cell_type": "markdown",
   "id": "e51647d4",
   "metadata": {
    "papermill": {
     "duration": 0.102871,
     "end_time": "2021-12-18T19:10:03.183731",
     "exception": false,
     "start_time": "2021-12-18T19:10:03.080860",
     "status": "completed"
    },
    "tags": []
   },
   "source": [
    "# Methodology"
   ]
  },
  {
   "cell_type": "markdown",
   "id": "204aed32",
   "metadata": {
    "papermill": {
     "duration": 0.104705,
     "end_time": "2021-12-18T19:10:03.391661",
     "exception": false,
     "start_time": "2021-12-18T19:10:03.286956",
     "status": "completed"
    },
    "tags": []
   },
   "source": [
    "To account for the relationships that two independent variables may have on healthcare costs, like smoking status and BMI, I will add interaction terms and second-order polynomial features to the models. This will add a squared term for each variable in the model and an interaction term between each pair of features. \n",
    "\n",
    "There is an approximately equal number of beneficiaries in the four regions, between 324 and 364. To provide a more targeted cost prediction of future claims, I will fit separate models for each region. The models will first filter the data by region and then create individual training and test sets. I'll use several regression models to predict future insurance costs, including Linear Regression, K-Nearest Neighbors, Support Vector Machines, and Gradient Boosting. Hyperparameter tuning will be performed using cross-validation and then the models will be evaluated on the held-out test set."
   ]
  },
  {
   "cell_type": "markdown",
   "id": "39e7f135",
   "metadata": {
    "papermill": {
     "duration": 0.102722,
     "end_time": "2021-12-18T19:10:03.597213",
     "exception": false,
     "start_time": "2021-12-18T19:10:03.494491",
     "status": "completed"
    },
    "tags": []
   },
   "source": [
    "# Linear Regression with PCA Dimensionality Reduction"
   ]
  },
  {
   "cell_type": "markdown",
   "id": "a16e33d3",
   "metadata": {
    "papermill": {
     "duration": 0.103147,
     "end_time": "2021-12-18T19:10:03.803090",
     "exception": false,
     "start_time": "2021-12-18T19:10:03.699943",
     "status": "completed"
    },
    "tags": []
   },
   "source": [
    "With the addition of polynomial features, the number of variables in the dataset increases from 5 to 20. Due to the effects of multicollinearity, I will use Principal Component Analysis (PCA) to reduce the correlation between the features in the linear regression models. Principal Component Analysis is a technique that reduces the dimensionality of a data set by transforming variables that are potentially correlated into linearly uncorrelated principal components."
   ]
  },
  {
   "cell_type": "code",
   "execution_count": 12,
   "id": "0baf98d2",
   "metadata": {
    "_kg_hide-input": true,
    "execution": {
     "iopub.execute_input": "2021-12-18T19:10:04.023579Z",
     "iopub.status.busy": "2021-12-18T19:10:04.022426Z",
     "iopub.status.idle": "2021-12-18T19:10:05.101738Z",
     "shell.execute_reply": "2021-12-18T19:10:05.102290Z",
     "shell.execute_reply.started": "2021-12-18T16:10:43.95174Z"
    },
    "papermill": {
     "duration": 1.192649,
     "end_time": "2021-12-18T19:10:05.102460",
     "exception": false,
     "start_time": "2021-12-18T19:10:03.909811",
     "status": "completed"
    },
    "tags": []
   },
   "outputs": [
    {
     "name": "stdout",
     "output_type": "stream",
     "text": [
      "\n",
      "Region: Southwest\n",
      "\n",
      "Number of Principal Components = 7\n",
      "Train Shape:(260, 7) (260,)  Test Shape:(65, 7) (65,)\n",
      "Test Error (RMSE) = 5,349.04\n",
      "R-Squared = 79.15%, Adjusted R-Squared = 76.59%\n",
      "________________________________________________________\n",
      "\n",
      "Region: Southeast\n",
      "\n",
      "Number of Principal Components = 7\n",
      "Train Shape:(291, 7) (291,)  Test Shape:(73, 7) (73,)\n",
      "Test Error (RMSE) = 4,699.59\n",
      "R-Squared = 90.32%, Adjusted R-Squared = 89.27%\n",
      "________________________________________________________\n",
      "\n",
      "Region: Northwest\n",
      "\n",
      "Number of Principal Components = 6\n",
      "Train Shape:(260, 6) (260,)  Test Shape:(65, 6) (65,)\n",
      "Test Error (RMSE) = 6,305.7\n",
      "R-Squared = 74.43%, Adjusted R-Squared = 71.79%\n",
      "________________________________________________________\n",
      "\n",
      "Region: Northeast\n",
      "\n",
      "Number of Principal Components = 7\n",
      "Train Shape:(259, 7) (259,)  Test Shape:(65, 7) (65,)\n",
      "Test Error (RMSE) = 6,231.75\n",
      "R-Squared = 63.27%, Adjusted R-Squared = 58.76%\n"
     ]
    }
   ],
   "source": [
    "# Dataframe to save results\n",
    "models=[\"Linear Regression\", \"KNN\", \"SVM\", \"Gradient Boosting\"]\n",
    "mod_res=pd.DataFrame(columns=[\"Average RMSE\", \"Average R2 (Adjusted)\"], index=models)\n",
    "regions = ins.region.unique()\n",
    "s = StandardScaler()\n",
    "\n",
    "actuals=[]\n",
    "preds=[]\n",
    "rmses=[]\n",
    "r2_scores=[]\n",
    "adj_r2_scores=[]\n",
    "\n",
    "for i in regions:\n",
    "    \n",
    "    # Filter data by region\n",
    "    print(\"\\nRegion: {}\\n\".format(i))\n",
    "    ins_df = ins[ins.region==i]\n",
    "    X=ins_df.drop(['charges', 'region'], axis=1)\n",
    "    y=ins_df.charges\n",
    "    \n",
    "    # Add polynomial features\n",
    "    pf = PolynomialFeatures(degree=2, include_bias=False)\n",
    "    X_pf = pd.DataFrame(data=pf.fit_transform(X), columns=pf.get_feature_names(X.columns))\n",
    "    \n",
    "    # Create train and test sets\n",
    "    X_train, X_test, y_train, y_test = train_test_split(X_pf, y, test_size=0.2, random_state=1)\n",
    "    \n",
    "    # Scale features\n",
    "    X_train_scaled = s.fit_transform(X_train)\n",
    "    X_test_scaled = s.transform(X_test)\n",
    "    \n",
    "    # PCA\n",
    "    pca = PCA(.95)\n",
    "    X_train_pca=pca.fit_transform(X_train_scaled)\n",
    "    X_test_pca=pca.transform(X_test_scaled)\n",
    "    print(\"Number of Principal Components = {}\".format(pca.n_components_))\n",
    "    print(\"Train Shape:{} {}  Test Shape:{} {}\".format(X_train_pca.shape, y_train.shape, X_test_pca.shape, y_test.shape))\n",
    "    \n",
    "    # Linear Regression\n",
    "    lr = LinearRegression().fit(X_train_pca, y_train)\n",
    "    y_pred=lr.predict(X_test_pca)\n",
    "    rmse=np.sqrt(mean_squared_error(y_test, y_pred)).round(2)\n",
    "    r2=r2_score(y_test, y_pred)\n",
    "    adj_r2 = 1 - (1-r2)*(len(y_test)-1)/(len(y_test)-X_test_pca.shape[1]-1)\n",
    "    \n",
    "    actuals.append(pd.Series(y_test, name='actuals').reset_index())\n",
    "    preds.append(pd.Series(y_pred, name='preds').reset_index(drop=True))\n",
    "    rmses.append(rmse)\n",
    "    r2_scores.append(r2)\n",
    "    adj_r2_scores.append(adj_r2)\n",
    "    \n",
    "    print(\"Test Error (RMSE) = {:,}\".format(rmse))\n",
    "    print(\"R-Squared = {:.2f}%, Adjusted R-Squared = {:.2f}%\".format(r2*100, adj_r2*100))\n",
    "    if i != 'Northeast':\n",
    "        print(\"________________________________________________________\")\n",
    "\n",
    "# Plot results\n",
    "for i in range(0,4):\n",
    "    actuals[i].loc[:,'index']=regions[i]\n",
    "actual = pd.concat([actuals[i] for i in range(4)], axis = 0)\n",
    "pred = pd.concat([preds[i] for i in range(4)], axis = 0)\n",
    "df = pd.concat([actual, pred], axis=1).reset_index(drop=True)\n",
    "col = [\"#B14B51\", '#D0A99C', '#5D8370','#6C839B']\n",
    "fig = px.scatter(df, x=\"actuals\", y=\"preds\", color=\"index\", trendline=\"ols\", height=700,\n",
    "                 title=\"Actual vs Predicted Insurance Costs by Region,<br>Linear Regression with Principal Component Analysis\",\n",
    "                 color_discrete_sequence=col, opacity=0.7, facet_col='index', facet_col_wrap=2)\n",
    "\n",
    "fig.for_each_annotation(lambda a: a.update(text=a.text.split(\"=\")[-1]))\n",
    "fig.add_annotation(text=\"R-Squared = {:.1f}%<br>RMSE = {:,.0f}\".format(adj_r2_scores[0]*100,rmses[0]),\n",
    "                   x=51e3,y=15e3, row=2,col=1, showarrow=False)\n",
    "fig.add_annotation(text=\"R-Squared = {:.1f}%<br>RMSE = {:,.0f}\".format(adj_r2_scores[1]*100,rmses[1]),\n",
    "                   x=51e3,y=15e3, row=2,col=2, showarrow=False)\n",
    "fig.add_annotation(text=\"R-Squared = {:.1f}%<br>RMSE = {:,.0f}\".format(adj_r2_scores[2]*100,rmses[2]),\n",
    "                   x=51e3,y=15e3, row=1,col=1, showarrow=False)\n",
    "fig.add_annotation(text=\"R-Squared = {:.1f}%<br>RMSE = {:,.0f}\".format(adj_r2_scores[3]*100,rmses[3]),\n",
    "                   x=51e3,y=15e3, row=1,col=2, showarrow=False)\n",
    "\n",
    "fig.update_traces(hovertemplate=\"Actual Cost: %{x:$,.2f}<br>Predicted Cost: %{y:$,.2f}\",\n",
    "                  marker=dict(size=10, line=dict(width=1,color=\"#F7F7F7\")),\n",
    "                  selector=dict(mode=\"markers\"), showlegend=False)\n",
    "fig.update_xaxes(title=\"Actual Cost, $\", row=1)\n",
    "fig.update_xaxes(showgrid=True, gridwidth=1, gridcolor='#EAEAEA',\n",
    "                 zeroline=True, zerolinewidth=2, zerolinecolor='#5E5E5E')\n",
    "fig.update_yaxes(title=\"Predicted Cost, $\", col=1)\n",
    "fig.update_yaxes(showgrid=True, gridwidth=1, gridcolor='#E3E3E3',\n",
    "                 zeroline=True, zerolinewidth=2, zerolinecolor='#5E5E5E')\n",
    "fig.update_layout(font_color=\"#303030\", paper_bgcolor=\"white\", plot_bgcolor=\"white\")\n",
    "fig.write_image(\"data/fig6.svg\")"
   ]
  },
  {
   "cell_type": "markdown",
   "id": "0185e2a0",
   "metadata": {},
   "source": [
    "![fig6](data/fig6.svg)"
   ]
  },
  {
   "cell_type": "code",
   "execution_count": 13,
   "id": "338f02bf",
   "metadata": {
    "_kg_hide-input": true,
    "execution": {
     "iopub.execute_input": "2021-12-18T19:10:05.354176Z",
     "iopub.status.busy": "2021-12-18T19:10:05.353389Z",
     "iopub.status.idle": "2021-12-18T19:10:05.357633Z",
     "shell.execute_reply": "2021-12-18T19:10:05.357101Z",
     "shell.execute_reply.started": "2021-12-18T16:10:44.960183Z"
    },
    "papermill": {
     "duration": 0.137609,
     "end_time": "2021-12-18T19:10:05.357782",
     "exception": false,
     "start_time": "2021-12-18T19:10:05.220173",
     "status": "completed"
    },
    "tags": []
   },
   "outputs": [
    {
     "data": {
      "text/html": [
       "<div>\n",
       "<style scoped>\n",
       "    .dataframe tbody tr th:only-of-type {\n",
       "        vertical-align: middle;\n",
       "    }\n",
       "\n",
       "    .dataframe tbody tr th {\n",
       "        vertical-align: top;\n",
       "    }\n",
       "\n",
       "    .dataframe thead th {\n",
       "        text-align: right;\n",
       "    }\n",
       "</style>\n",
       "<table border=\"1\" class=\"dataframe\">\n",
       "  <thead>\n",
       "    <tr style=\"text-align: right;\">\n",
       "      <th></th>\n",
       "      <th>Average RMSE</th>\n",
       "      <th>Average R2 (Adjusted)</th>\n",
       "    </tr>\n",
       "  </thead>\n",
       "  <tbody>\n",
       "    <tr>\n",
       "      <th>Linear Regression</th>\n",
       "      <td>5646.52</td>\n",
       "      <td>0.741028</td>\n",
       "    </tr>\n",
       "  </tbody>\n",
       "</table>\n",
       "</div>"
      ],
      "text/plain": [
       "                  Average RMSE Average R2 (Adjusted)\n",
       "Linear Regression      5646.52              0.741028"
      ]
     },
     "metadata": {},
     "output_type": "display_data"
    }
   ],
   "source": [
    "mod_res.iloc[0,0]=pd.Series(rmses).mean()\n",
    "mod_res.iloc[0,1]=pd.Series(adj_r2_scores).mean()\n",
    "display(mod_res.iloc[:1,].sort_values(\"Average RMSE\"))"
   ]
  },
  {
   "cell_type": "markdown",
   "id": "ad9a1247",
   "metadata": {
    "papermill": {
     "duration": 0.117617,
     "end_time": "2021-12-18T19:10:05.593288",
     "exception": false,
     "start_time": "2021-12-18T19:10:05.475671",
     "status": "completed"
    },
    "tags": []
   },
   "source": [
    "Out of the four models, linear regression performs the best predicting insurance costs in the Southeast region with an adjusted $R^2$ of 89.3% and an RMSE of about 4,700. This indicates that our model can explain about 89% of the variation in insurance costs in the Southeast region and leads to test predictions that are within approximately $4,700 of the true median claim amount.\n",
    "\n",
    "Each model uses 7 principal components, except for the Northwest region. The Northwest model uses just 6 principal components and can explain over 70% of the variance in insurance costs, although it produces the highest test error out of all the regions.\n",
    "\n",
    "Overall, the test error of the linear models range from a low of 4,700 in the Southeast to a high of about 6,300 in the Northwest and produce an average adjusted $R^2$ of 74.1%."
   ]
  },
  {
   "cell_type": "markdown",
   "id": "6583ea56",
   "metadata": {
    "papermill": {
     "duration": 0.117469,
     "end_time": "2021-12-18T19:10:05.827927",
     "exception": false,
     "start_time": "2021-12-18T19:10:05.710458",
     "status": "completed"
    },
    "tags": []
   },
   "source": [
    "# K-Nearest Neighbors"
   ]
  },
  {
   "cell_type": "code",
   "execution_count": 14,
   "id": "a3acdd8f",
   "metadata": {
    "_kg_hide-input": true,
    "execution": {
     "iopub.execute_input": "2021-12-18T19:10:06.072521Z",
     "iopub.status.busy": "2021-12-18T19:10:06.071453Z",
     "iopub.status.idle": "2021-12-18T19:10:12.950811Z",
     "shell.execute_reply": "2021-12-18T19:10:12.951427Z",
     "shell.execute_reply.started": "2021-12-18T16:23:31.376955Z"
    },
    "papermill": {
     "duration": 7.003136,
     "end_time": "2021-12-18T19:10:12.951605",
     "exception": false,
     "start_time": "2021-12-18T19:10:05.948469",
     "status": "completed"
    },
    "scrolled": false,
    "tags": []
   },
   "outputs": [
    {
     "name": "stdout",
     "output_type": "stream",
     "text": [
      "\n",
      "Region: Southwest\n",
      "\n",
      "Train Shape:(260, 20) (260,)  Test Shape:(65, 20) (65,)\n",
      "Test Error (RMSE) = 5,227.12\n",
      "R-Squared = 80.09%, Adjusted R-Squared = 71.04%\n",
      "________________________________________________________\n",
      "\n",
      "Region: Southeast\n",
      "\n",
      "Train Shape:(291, 20) (291,)  Test Shape:(73, 20) (73,)\n",
      "Test Error (RMSE) = 4,455.86\n",
      "R-Squared = 91.29%, Adjusted R-Squared = 87.95%\n",
      "________________________________________________________\n",
      "\n",
      "Region: Northwest\n",
      "\n",
      "Train Shape:(260, 20) (260,)  Test Shape:(65, 20) (65,)\n",
      "Test Error (RMSE) = 6,179.18\n",
      "R-Squared = 75.45%, Adjusted R-Squared = 64.29%\n",
      "________________________________________________________\n",
      "\n",
      "Region: Northeast\n",
      "\n",
      "Train Shape:(259, 20) (259,)  Test Shape:(65, 20) (65,)\n",
      "Test Error (RMSE) = 5,617.89\n",
      "R-Squared = 70.15%, Adjusted R-Squared = 56.58%\n"
     ]
    }
   ],
   "source": [
    "actuals=[]\n",
    "preds=[]\n",
    "rmses=[]\n",
    "r2_scores=[]\n",
    "adj_r2_scores=[]\n",
    "\n",
    "for i in regions:\n",
    "    \n",
    "    # Filter data by region\n",
    "    ins_df = ins[ins.region==i]\n",
    "    X=ins_df.drop(['charges', 'region'], axis=1)\n",
    "    y=ins_df.charges\n",
    "    \n",
    "    # Add polynomial features\n",
    "    pf = PolynomialFeatures(degree=2, include_bias=False)\n",
    "    X_pf = pd.DataFrame(data=pf.fit_transform(X), columns=pf.get_feature_names(X.columns))\n",
    "    \n",
    "    # Create train and test sets\n",
    "    X_train, X_test, y_train, y_test = train_test_split(X_pf, y, test_size=0.2, random_state=1)\n",
    "    X_train = pd.DataFrame(X_train, columns = X_pf.columns)\n",
    "    X_test = pd.DataFrame(X_test, columns = X_pf.columns)\n",
    "    actuals.append(pd.Series(y_test, name='actuals').reset_index())\n",
    "    print(\"\\nRegion: {}\\n\".format(i))\n",
    "    print(\"Train Shape:{} {}  Test Shape:{} {}\".format(X_train.shape, y_train.shape, X_test.shape, y_test.shape))\n",
    "    \n",
    "    # Scale features\n",
    "    X_train = pd.DataFrame(data=s.fit_transform(X_train), columns=X_pf.columns)\n",
    "    X_test = pd.DataFrame(data=s.transform(X_test), columns=X_pf.columns)\n",
    "    \n",
    "    # KNN\n",
    "    grid = {'n_neighbors': range(2, 20),\n",
    "            'weights': ['uniform', 'distance'],\n",
    "            'algorithm': ['auto', 'ball_tree', 'kd_tree', 'brute'],\n",
    "            'leaf_size': [int(x) for x in np.linspace(10, 50, num = 5)],\n",
    "            'p': [1, 2]}\n",
    "    knn=KNeighborsRegressor()\n",
    "    knn_cv=RandomizedSearchCV(estimator=knn, param_distributions=grid, scoring='neg_mean_squared_error', \n",
    "                              n_iter=100, cv=3, random_state=21, n_jobs=-1)\n",
    "    knn_cv.fit(X_train, y_train)\n",
    "    y_pred=knn_cv.predict(X_test)\n",
    "    preds.append(pd.Series(y_pred, name='preds').reset_index(drop=True))\n",
    "    rmse=np.sqrt(mean_squared_error(y_test, y_pred)).round(2)\n",
    "    r2=r2_score(y_test, y_pred)\n",
    "    adj_r2 = 1 - (1-r2)*(len(y_test)-1)/(len(y_test)-X_test.shape[1]-1)\n",
    "    rmses.append(rmse)\n",
    "    r2_scores.append(r2)\n",
    "    adj_r2_scores.append(adj_r2)\n",
    "    \n",
    "    print(\"Test Error (RMSE) = {:,}\".format(rmse))\n",
    "    print(\"R-Squared = {:.2f}%, Adjusted R-Squared = {:.2f}%\".format(r2*100, adj_r2*100))\n",
    "    if i != 'Northeast':\n",
    "        print(\"________________________________________________________\")\n",
    "\n",
    "    \n",
    "# Plot results\n",
    "for i in range(0,4):\n",
    "    actuals[i].loc[:,'index']=regions[i]\n",
    "actual = pd.concat([actuals[i] for i in range(4)], axis = 0)\n",
    "pred = pd.concat([preds[i] for i in range(4)], axis = 0)\n",
    "df = pd.concat([actual, pred], axis=1).reset_index(drop=True)\n",
    "\n",
    "fig = px.scatter(df, x=\"actuals\", y=\"preds\", color=\"index\", trendline=\"lowess\", height=700,\n",
    "                 title=\"Actual vs Predicted Insurance Costs by Region,<br>K-Nearest Neighbors\",\n",
    "                 color_discrete_sequence=col, opacity=0.7, facet_col='index', facet_col_wrap=2)\n",
    "\n",
    "fig.for_each_annotation(lambda a: a.update(text=a.text.split(\"=\")[-1]))\n",
    "fig.add_annotation(text=\"R-Squared = {:.1f}%<br>RMSE = {:,.0f}\".format(adj_r2_scores[0]*100,rmses[0]),\n",
    "                   x=51e3,y=15e3, row=2,col=1, showarrow=False)\n",
    "fig.add_annotation(text=\"R-Squared = {:.1f}%<br>RMSE = {:,.0f}\".format(adj_r2_scores[1]*100,rmses[1]),\n",
    "                   x=51e3,y=15e3, row=2,col=2, showarrow=False)\n",
    "fig.add_annotation(text=\"R-Squared = {:.1f}%<br>RMSE = {:,.0f}\".format(adj_r2_scores[2]*100,rmses[2]),\n",
    "                   x=51e3,y=15e3, row=1,col=1, showarrow=False)\n",
    "fig.add_annotation(text=\"R-Squared = {:.1f}%<br>RMSE = {:,.0f}\".format(adj_r2_scores[3]*100,rmses[3]),\n",
    "                   x=51e3,y=15e3, row=1,col=2, showarrow=False)\n",
    "\n",
    "fig.update_traces(hovertemplate=\"Actual Cost: %{x:$,.2f}<br>Predicted Cost: %{y:$,.2f}\",\n",
    "                  marker=dict(size=10,line=dict(width=1,color=\"#F7F7F7\")),\n",
    "                  selector=dict(mode=\"markers\"), showlegend=False)\n",
    "fig.update_xaxes(title=\"Actual Cost, $\", row=1)\n",
    "fig.update_xaxes(showgrid=True, gridwidth=1, gridcolor='#EAEAEA',\n",
    "                 zeroline=True, zerolinewidth=2, zerolinecolor='#5E5E5E')\n",
    "fig.update_yaxes(title=\"Predicted Cost, $\", col=1)\n",
    "fig.update_yaxes(showgrid=True, gridwidth=1, gridcolor='#E3E3E3',\n",
    "                 zeroline=True, zerolinewidth=2, zerolinecolor='#5E5E5E')\n",
    "fig.update_layout(font_color=\"#303030\", paper_bgcolor=\"white\", plot_bgcolor=\"white\")\n",
    "fig.write_image(\"data/fig7.svg\")"
   ]
  },
  {
   "cell_type": "markdown",
   "id": "b34cd63d",
   "metadata": {},
   "source": [
    "![fig7](data/fig7.svg)"
   ]
  },
  {
   "cell_type": "code",
   "execution_count": 15,
   "id": "aae9e99b",
   "metadata": {
    "_kg_hide-input": true,
    "execution": {
     "iopub.execute_input": "2021-12-18T19:10:13.231967Z",
     "iopub.status.busy": "2021-12-18T19:10:13.231075Z",
     "iopub.status.idle": "2021-12-18T19:10:13.235669Z",
     "shell.execute_reply": "2021-12-18T19:10:13.235144Z",
     "shell.execute_reply.started": "2021-12-18T16:10:51.73753Z"
    },
    "papermill": {
     "duration": 0.150227,
     "end_time": "2021-12-18T19:10:13.235812",
     "exception": false,
     "start_time": "2021-12-18T19:10:13.085585",
     "status": "completed"
    },
    "tags": []
   },
   "outputs": [
    {
     "data": {
      "text/html": [
       "<div>\n",
       "<style scoped>\n",
       "    .dataframe tbody tr th:only-of-type {\n",
       "        vertical-align: middle;\n",
       "    }\n",
       "\n",
       "    .dataframe tbody tr th {\n",
       "        vertical-align: top;\n",
       "    }\n",
       "\n",
       "    .dataframe thead th {\n",
       "        text-align: right;\n",
       "    }\n",
       "</style>\n",
       "<table border=\"1\" class=\"dataframe\">\n",
       "  <thead>\n",
       "    <tr style=\"text-align: right;\">\n",
       "      <th></th>\n",
       "      <th>Average RMSE</th>\n",
       "      <th>Average R2 (Adjusted)</th>\n",
       "    </tr>\n",
       "  </thead>\n",
       "  <tbody>\n",
       "    <tr>\n",
       "      <th>KNN</th>\n",
       "      <td>5370.0125</td>\n",
       "      <td>0.699643</td>\n",
       "    </tr>\n",
       "    <tr>\n",
       "      <th>Linear Regression</th>\n",
       "      <td>5646.52</td>\n",
       "      <td>0.741028</td>\n",
       "    </tr>\n",
       "  </tbody>\n",
       "</table>\n",
       "</div>"
      ],
      "text/plain": [
       "                  Average RMSE Average R2 (Adjusted)\n",
       "KNN                  5370.0125              0.699643\n",
       "Linear Regression      5646.52              0.741028"
      ]
     },
     "metadata": {},
     "output_type": "display_data"
    }
   ],
   "source": [
    "mod_res.iloc[1,0]=pd.Series(rmses).mean()\n",
    "mod_res.iloc[1,1]=pd.Series(adj_r2_scores).mean()\n",
    "display(mod_res.iloc[:2,].sort_values(\"Average RMSE\"))"
   ]
  },
  {
   "cell_type": "markdown",
   "id": "c6314cae",
   "metadata": {
    "papermill": {
     "duration": 0.132441,
     "end_time": "2021-12-18T19:10:13.502996",
     "exception": false,
     "start_time": "2021-12-18T19:10:13.370555",
     "status": "completed"
    },
    "tags": []
   },
   "source": [
    "The KNN models produce a better test error overall than linear regression, but explains less of the observed variation in insurance costs across all four regions."
   ]
  },
  {
   "cell_type": "markdown",
   "id": "f8313e50",
   "metadata": {
    "papermill": {
     "duration": 0.132235,
     "end_time": "2021-12-18T19:10:13.767582",
     "exception": false,
     "start_time": "2021-12-18T19:10:13.635347",
     "status": "completed"
    },
    "tags": []
   },
   "source": [
    "# Support Vector Regression"
   ]
  },
  {
   "cell_type": "code",
   "execution_count": 16,
   "id": "a3f1ef05",
   "metadata": {
    "_kg_hide-input": true,
    "execution": {
     "iopub.execute_input": "2021-12-18T19:10:14.052701Z",
     "iopub.status.busy": "2021-12-18T19:10:14.051950Z",
     "iopub.status.idle": "2021-12-18T19:17:24.478021Z",
     "shell.execute_reply": "2021-12-18T19:17:24.478664Z",
     "shell.execute_reply.started": "2021-12-18T16:10:51.753277Z"
    },
    "papermill": {
     "duration": 430.578506,
     "end_time": "2021-12-18T19:17:24.478910",
     "exception": false,
     "start_time": "2021-12-18T19:10:13.900404",
     "status": "completed"
    },
    "tags": []
   },
   "outputs": [
    {
     "name": "stdout",
     "output_type": "stream",
     "text": [
      "\n",
      "Region: Southwest\n",
      "\n",
      "Best SVM Parameters:\n",
      " {'kernel': 'poly', 'gamma': 10.0, 'C': 0.021544346900318832}\n",
      "\n",
      "Test Error (RMSE) = 5,119.96\n",
      "R-Squared = 80.90%, Adjusted R-Squared = 72.21%\n",
      "________________________________________________________\n",
      "\n",
      "Region: Southeast\n",
      "\n",
      "Best SVM Parameters:\n",
      " {'kernel': 'poly', 'gamma': 10.0, 'C': 0.021544346900318832}\n",
      "\n",
      "Test Error (RMSE) = 4,276.06\n",
      "R-Squared = 91.98%, Adjusted R-Squared = 88.90%\n",
      "________________________________________________________\n",
      "\n",
      "Region: Northwest\n",
      "\n",
      "Best SVM Parameters:\n",
      " {'kernel': 'poly', 'gamma': 10.0, 'C': 0.021544346900318832}\n",
      "\n",
      "Test Error (RMSE) = 6,092.5\n",
      "R-Squared = 76.13%, Adjusted R-Squared = 65.28%\n",
      "________________________________________________________\n",
      "\n",
      "Region: Northeast\n",
      "\n",
      "Best SVM Parameters:\n",
      " {'kernel': 'poly', 'gamma': 10.0, 'C': 0.021544346900318832}\n",
      "\n",
      "Test Error (RMSE) = 4,688.98\n",
      "R-Squared = 79.21%, Adjusted R-Squared = 69.75%\n"
     ]
    }
   ],
   "source": [
    "actuals=[]\n",
    "preds=[]\n",
    "rmses=[]\n",
    "r2_scores=[]\n",
    "adj_r2_scores=[]\n",
    "feat_importance=pd.DataFrame()\n",
    "\n",
    "for i in regions:\n",
    "    \n",
    "    print(\"\\nRegion: {}\\n\".format(i))\n",
    "    \n",
    "    # Filter data by region\n",
    "    ins_df = ins[ins.region==i]\n",
    "    X=ins_df.drop(['charges', 'region'], axis=1)\n",
    "    y=ins_df.charges\n",
    "    \n",
    "    # Add polynomial features\n",
    "    pf = PolynomialFeatures(degree=2, include_bias=False)\n",
    "    X_pf = pd.DataFrame(data=pf.fit_transform(X), columns=pf.get_feature_names(X.columns))\n",
    "    \n",
    "    # Create train and test sets\n",
    "    X_train, X_test, y_train, y_test = train_test_split(X_pf, y, test_size=0.2, random_state=1)\n",
    "    X_train = pd.DataFrame(X_train, columns = X_pf.columns)\n",
    "    X_test = pd.DataFrame(X_test, columns = X_pf.columns)\n",
    "    actuals.append(pd.Series(y_test, name='actuals').reset_index())\n",
    "    \n",
    "    # Scale features\n",
    "    X_train = pd.DataFrame(data=s.fit_transform(X_train), columns=X_pf.columns)\n",
    "    X_test = pd.DataFrame(data=s.transform(X_test), columns=X_pf.columns)\n",
    "    \n",
    "    # Tuning Params\n",
    "    grid = {'kernel':['linear','rbf','poly','sigmoid'],\n",
    "            'C': np.logspace(-3, 3, 10),\n",
    "            'gamma':np.logspace(-3, 3, 10)}\n",
    "    svm = SVR()\n",
    "    svm_cv=RandomizedSearchCV(estimator=svm, param_distributions=grid, scoring='neg_mean_squared_error', \n",
    "                              n_iter=10, cv=3, random_state=21, n_jobs=-1)\n",
    "    svm_cv.fit(X_train, y_train)\n",
    "    print(\"Best SVM Parameters:\\n\",svm_cv.best_params_)\n",
    "    y_pred=svm_cv.predict(X_test)\n",
    "    preds.append(pd.Series(y_pred, name='preds').reset_index(drop=True))\n",
    "    rmse=np.sqrt(mean_squared_error(y_test, y_pred)).round(2)\n",
    "    r2=r2_score(y_test, y_pred)\n",
    "    adj_r2 = 1 - (1-r2)*(len(y_test)-1)/(len(y_test)-X_test.shape[1]-1)\n",
    "    rmses.append(rmse)\n",
    "    r2_scores.append(r2)\n",
    "    adj_r2_scores.append(adj_r2)\n",
    "    \n",
    "    print(\"\\nTest Error (RMSE) = {:,}\".format(rmse))\n",
    "    print(\"R-Squared = {:.2f}%, Adjusted R-Squared = {:.2f}%\".format(r2*100, adj_r2*100))\n",
    "    if i != 'Northeast':\n",
    "        print(\"________________________________________________________\")\n",
    "\n",
    "    \n",
    "# Plot results\n",
    "for i in range(0,4):\n",
    "    actuals[i].loc[:,'index']=regions[i]\n",
    "actual = pd.concat([actuals[i] for i in range(4)], axis = 0)\n",
    "pred = pd.concat([preds[i] for i in range(4)], axis = 0)\n",
    "df = pd.concat([actual, pred], axis=1).reset_index(drop=True)\n",
    "\n",
    "fig = px.scatter(df, x=\"actuals\", y=\"preds\", color=\"index\", trendline=\"lowess\", height=700,\n",
    "                 title=\"Actual vs Predicted Insurance Costs by Region,<br>Support Vector Regression\",\n",
    "                 color_discrete_sequence=col, opacity=0.7, facet_col='index', facet_col_wrap=2)\n",
    "\n",
    "fig.for_each_annotation(lambda a: a.update(text=a.text.split(\"=\")[-1]))\n",
    "fig.add_annotation(text=\"R-Squared = {:.1f}%<br>RMSE = {:,.0f}\".format(adj_r2_scores[0]*100,rmses[0]),\n",
    "                   x=51e3,y=15e3, row=2,col=1, showarrow=False)\n",
    "fig.add_annotation(text=\"R-Squared = {:.1f}%<br>RMSE = {:,.0f}\".format(adj_r2_scores[1]*100,rmses[1]),\n",
    "                   x=51e3,y=15e3, row=2,col=2, showarrow=False)\n",
    "fig.add_annotation(text=\"R-Squared = {:.1f}%<br>RMSE = {:,.0f}\".format(adj_r2_scores[2]*100,rmses[2]),\n",
    "                   x=51e3,y=15e3, row=1,col=1, showarrow=False)\n",
    "fig.add_annotation(text=\"R-Squared = {:.1f}%<br>RMSE = {:,.0f}\".format(adj_r2_scores[3]*100,rmses[3]),\n",
    "                   x=51e3,y=15e3, row=1,col=2, showarrow=False)\n",
    "\n",
    "fig.update_traces(hovertemplate=\"Actual Cost: %{x:$,.2f}<br>Predicted Cost: %{y:$,.2f}\",\n",
    "                  marker=dict(size=10,line=dict(width=1,color=\"#F7F7F7\")),\n",
    "                  selector=dict(mode=\"markers\"), showlegend=False)\n",
    "fig.update_xaxes(title=\"Actual Cost, $\", row=1)\n",
    "fig.update_xaxes(showgrid=True, gridwidth=1, gridcolor='#EAEAEA',\n",
    "                 zeroline=True, zerolinewidth=2, zerolinecolor='#5E5E5E')\n",
    "fig.update_yaxes(title=\"Predicted Cost, $\", col=1)\n",
    "fig.update_yaxes(showgrid=True, gridwidth=1, gridcolor='#E3E3E3',\n",
    "                 zeroline=True, zerolinewidth=2, zerolinecolor='#5E5E5E')\n",
    "fig.update_layout(font_color=\"#303030\", paper_bgcolor=\"white\", plot_bgcolor=\"white\")\n",
    "fig.write_image(\"data/fig8.svg\")"
   ]
  },
  {
   "cell_type": "markdown",
   "id": "144eb8e3",
   "metadata": {},
   "source": [
    "![fig8](data/fig8.svg)"
   ]
  },
  {
   "cell_type": "code",
   "execution_count": 17,
   "id": "aeaa7bd3",
   "metadata": {
    "_kg_hide-input": true,
    "execution": {
     "iopub.execute_input": "2021-12-18T19:17:24.797745Z",
     "iopub.status.busy": "2021-12-18T19:17:24.797057Z",
     "iopub.status.idle": "2021-12-18T19:17:24.801148Z",
     "shell.execute_reply": "2021-12-18T19:17:24.800589Z",
     "shell.execute_reply.started": "2021-12-18T16:17:59.755355Z"
    },
    "papermill": {
     "duration": 0.163496,
     "end_time": "2021-12-18T19:17:24.801294",
     "exception": false,
     "start_time": "2021-12-18T19:17:24.637798",
     "status": "completed"
    },
    "tags": []
   },
   "outputs": [
    {
     "data": {
      "text/html": [
       "<div>\n",
       "<style scoped>\n",
       "    .dataframe tbody tr th:only-of-type {\n",
       "        vertical-align: middle;\n",
       "    }\n",
       "\n",
       "    .dataframe tbody tr th {\n",
       "        vertical-align: top;\n",
       "    }\n",
       "\n",
       "    .dataframe thead th {\n",
       "        text-align: right;\n",
       "    }\n",
       "</style>\n",
       "<table border=\"1\" class=\"dataframe\">\n",
       "  <thead>\n",
       "    <tr style=\"text-align: right;\">\n",
       "      <th></th>\n",
       "      <th>Average RMSE</th>\n",
       "      <th>Average R2 (Adjusted)</th>\n",
       "    </tr>\n",
       "  </thead>\n",
       "  <tbody>\n",
       "    <tr>\n",
       "      <th>SVM</th>\n",
       "      <td>5044.375</td>\n",
       "      <td>0.740378</td>\n",
       "    </tr>\n",
       "    <tr>\n",
       "      <th>KNN</th>\n",
       "      <td>5370.0125</td>\n",
       "      <td>0.699643</td>\n",
       "    </tr>\n",
       "    <tr>\n",
       "      <th>Linear Regression</th>\n",
       "      <td>5646.52</td>\n",
       "      <td>0.741028</td>\n",
       "    </tr>\n",
       "  </tbody>\n",
       "</table>\n",
       "</div>"
      ],
      "text/plain": [
       "                  Average RMSE Average R2 (Adjusted)\n",
       "SVM                   5044.375              0.740378\n",
       "KNN                  5370.0125              0.699643\n",
       "Linear Regression      5646.52              0.741028"
      ]
     },
     "metadata": {},
     "output_type": "display_data"
    }
   ],
   "source": [
    "mod_res.iloc[2,0]=pd.Series(rmses).mean()\n",
    "mod_res.iloc[2,1]=pd.Series(adj_r2_scores).mean()\n",
    "display(mod_res.iloc[:3,].sort_values(\"Average RMSE\"))"
   ]
  },
  {
   "cell_type": "markdown",
   "id": "b1c1f63b",
   "metadata": {
    "papermill": {
     "duration": 0.215445,
     "end_time": "2021-12-18T19:17:25.165653",
     "exception": false,
     "start_time": "2021-12-18T19:17:24.950208",
     "status": "completed"
    },
    "tags": []
   },
   "source": [
    "Support Vector Regression produces the lowest average test error out of the three models with an adjusted $R^2$ score of 74%. Using a polynomial kernel, the SVM models produce a lower test error across all four regions. The Northeast model made the biggest improvement with a nearly 1,000 decrease in RMSE from the KNN model. "
   ]
  },
  {
   "cell_type": "markdown",
   "id": "b847486c",
   "metadata": {
    "papermill": {
     "duration": 0.14911,
     "end_time": "2021-12-18T19:17:25.462757",
     "exception": false,
     "start_time": "2021-12-18T19:17:25.313647",
     "status": "completed"
    },
    "tags": []
   },
   "source": [
    "# Gradient Boosting"
   ]
  },
  {
   "cell_type": "code",
   "execution_count": 18,
   "id": "e11be456",
   "metadata": {
    "_kg_hide-input": true,
    "execution": {
     "iopub.execute_input": "2021-12-18T19:17:25.763002Z",
     "iopub.status.busy": "2021-12-18T19:17:25.762257Z",
     "iopub.status.idle": "2021-12-18T19:20:55.569077Z",
     "shell.execute_reply": "2021-12-18T19:20:55.568354Z",
     "shell.execute_reply.started": "2021-12-18T16:17:59.769228Z"
    },
    "papermill": {
     "duration": 209.956866,
     "end_time": "2021-12-18T19:20:55.569352",
     "exception": false,
     "start_time": "2021-12-18T19:17:25.612486",
     "status": "completed"
    },
    "tags": []
   },
   "outputs": [
    {
     "name": "stdout",
     "output_type": "stream",
     "text": [
      "\n",
      "Region: Southwest\n",
      "\n",
      "Train Shape:(260, 20) (260,)  Test Shape:(65, 20) (65,)\n",
      "Test Error (RMSE) = 4,117.69\n",
      "R-Squared = 87.64%, Adjusted R-Squared = 82.03%\n",
      "________________________________________________________\n",
      "\n",
      "Region: Southeast\n",
      "\n",
      "Train Shape:(291, 20) (291,)  Test Shape:(73, 20) (73,)\n",
      "Test Error (RMSE) = 3,212.02\n",
      "R-Squared = 95.48%, Adjusted R-Squared = 93.74%\n",
      "________________________________________________________\n",
      "\n",
      "Region: Northwest\n",
      "\n",
      "Train Shape:(260, 20) (260,)  Test Shape:(65, 20) (65,)\n",
      "Test Error (RMSE) = 4,559.91\n",
      "R-Squared = 86.63%, Adjusted R-Squared = 80.55%\n",
      "________________________________________________________\n",
      "\n",
      "Region: Northeast\n",
      "\n",
      "Train Shape:(259, 20) (259,)  Test Shape:(65, 20) (65,)\n",
      "Test Error (RMSE) = 5,275.79\n",
      "R-Squared = 73.68%, Adjusted R-Squared = 61.71%\n"
     ]
    }
   ],
   "source": [
    "actuals=[]\n",
    "preds=[]\n",
    "rmses=[]\n",
    "r2_scores=[]\n",
    "adj_r2_scores=[]\n",
    "feat_importance=pd.DataFrame()\n",
    "\n",
    "for i in regions:\n",
    "    \n",
    "    # Filter data by region\n",
    "    ins_df = ins[ins.region==i]\n",
    "    X=ins_df.drop(['charges', 'region'], axis=1)\n",
    "    y=ins_df.charges\n",
    "    \n",
    "    # Add polynomial features\n",
    "    pf = PolynomialFeatures(degree=2, include_bias=False)\n",
    "    X_pf = pd.DataFrame(data=pf.fit_transform(X), columns=pf.get_feature_names(X.columns))\n",
    "    \n",
    "    # Create train and test sets\n",
    "    X_train, X_test, y_train, y_test = train_test_split(X_pf, y, test_size=0.2, random_state=1)\n",
    "    X_train = pd.DataFrame(X_train, columns = X_pf.columns)\n",
    "    X_test = pd.DataFrame(X_test, columns = X_pf.columns)\n",
    "    actuals.append(pd.Series(y_test, name='actuals').reset_index())\n",
    "    print(\"\\nRegion: {}\\n\".format(i))\n",
    "    print(\"Train Shape:{} {}  Test Shape:{} {}\".format(X_train.shape, y_train.shape, X_test.shape, y_test.shape))\n",
    "    \n",
    "    # Scale features\n",
    "    X_train = pd.DataFrame(data=s.fit_transform(X_train), columns=X_pf.columns)\n",
    "    X_test = pd.DataFrame(data=s.transform(X_test), columns=X_pf.columns)\n",
    "    \n",
    "    # Tuning \n",
    "    grid = {'learning_rate': [0.0001, 0.001, 0.01, 0.1, 0.25, 0.5],\n",
    "            'n_estimators': [int(x) for x in np.linspace(start = 200, stop = 1000, num = 5)],\n",
    "            'subsample': [0.5, 0.8, 1],\n",
    "            'min_samples_split': [2, 5, 10],\n",
    "            'min_samples_leaf': [1, 2, 4],\n",
    "            'max_depth': [int(x) for x in np.linspace(2, 10, num = 5)],\n",
    "            'max_features': [None, 'sqrt']}\n",
    "    xgb=GradientBoostingRegressor(random_state=21)\n",
    "    xgb_cv=RandomizedSearchCV(estimator=xgb, param_distributions=grid, scoring='neg_mean_squared_error', \n",
    "                              n_iter=100, cv=3, random_state=21, n_jobs=-1)\n",
    "    xgb_cv.fit(X_train, y_train)\n",
    "    y_pred=xgb_cv.predict(X_test)\n",
    "    preds.append(pd.Series(y_pred, name='preds').reset_index(drop=True))\n",
    "    rmse=np.sqrt(mean_squared_error(y_test, y_pred)).round(2)\n",
    "    r2=r2_score(y_test, y_pred)\n",
    "    adj_r2 = 1 - (1-r2)*(len(y_test)-1)/(len(y_test)-X_test.shape[1]-1)\n",
    "    rmses.append(rmse)\n",
    "    r2_scores.append(r2)\n",
    "    adj_r2_scores.append(adj_r2)\n",
    "    \n",
    "    # Save feature importance\n",
    "    feat_importance[\"Importance_\"+str(i)]=xgb_cv.best_estimator_.feature_importances_\n",
    "    \n",
    "    print(\"Test Error (RMSE) = {:,}\".format(rmse))\n",
    "    print(\"R-Squared = {:.2f}%, Adjusted R-Squared = {:.2f}%\".format(r2*100, adj_r2*100))\n",
    "    if i != 'Northeast':\n",
    "        print(\"________________________________________________________\")\n",
    "\n",
    "# Plot results\n",
    "for i in range(0,4):\n",
    "    actuals[i].loc[:,'index']=regions[i]\n",
    "actual = pd.concat([actuals[i] for i in range(4)], axis = 0)\n",
    "pred = pd.concat([preds[i] for i in range(4)], axis = 0)\n",
    "df = pd.concat([actual, pred], axis=1).reset_index(drop=True)\n",
    "\n",
    "fig = px.scatter(df, x=\"actuals\", y=\"preds\", color=\"index\", trendline=\"lowess\", height=700,\n",
    "                 title=\"Actual vs Predicted Insurance Costs by Region,<br>Gradient Boosting\",\n",
    "                 color_discrete_sequence=col, opacity=0.7, facet_col='index', facet_col_wrap=2)\n",
    "\n",
    "fig.for_each_annotation(lambda a: a.update(text=a.text.split(\"=\")[-1]))\n",
    "fig.add_annotation(text=\"R-Squared = {:.1f}%<br>RMSE = {:,.0f}\".format(adj_r2_scores[0]*100,rmses[0]),\n",
    "                   x=51e3,y=15e3, row=2,col=1, showarrow=False)\n",
    "fig.add_annotation(text=\"R-Squared = {:.1f}%<br>RMSE = {:,.0f}\".format(adj_r2_scores[1]*100,rmses[1]),\n",
    "                   x=51e3,y=15e3, row=2,col=2, showarrow=False)\n",
    "fig.add_annotation(text=\"R-Squared = {:.1f}%<br>RMSE = {:,.0f}\".format(adj_r2_scores[2]*100,rmses[2]),\n",
    "                   x=51e3,y=15e3, row=1,col=1, showarrow=False)\n",
    "fig.add_annotation(text=\"R-Squared = {:.1f}%<br>RMSE = {:,.0f}\".format(adj_r2_scores[3]*100,rmses[3]),\n",
    "                   x=51e3,y=15e3, row=1,col=2, showarrow=False)\n",
    "\n",
    "fig.update_traces(hovertemplate=\"Actual Cost: %{x:$,.2f}<br>Predicted Cost: %{y:$,.2f}\",\n",
    "                  marker=dict(size=10,line=dict(width=1,color=\"#F7F7F7\")),\n",
    "                  selector=dict(mode=\"markers\"), showlegend=False)\n",
    "fig.update_xaxes(title=\"Actual Cost, $\", row=1)\n",
    "fig.update_xaxes(showgrid=True, gridwidth=1, gridcolor='#EAEAEA',\n",
    "                 zeroline=True, zerolinewidth=2, zerolinecolor='#5E5E5E')\n",
    "fig.update_yaxes(title=\"Predicted Cost, $\", col=1)\n",
    "fig.update_yaxes(showgrid=True, gridwidth=1, gridcolor='#E3E3E3',\n",
    "                 zeroline=True, zerolinewidth=2, zerolinecolor='#5E5E5E')\n",
    "fig.update_layout(font_color=\"#303030\", paper_bgcolor=\"white\", plot_bgcolor=\"white\")\n",
    "fig.write_image(\"data/fig9.svg\")"
   ]
  },
  {
   "cell_type": "markdown",
   "id": "9e5e73d3",
   "metadata": {},
   "source": [
    "![fig9](data/fig9.svg)"
   ]
  },
  {
   "cell_type": "markdown",
   "id": "c0169592",
   "metadata": {
    "papermill": {
     "duration": 0.164038,
     "end_time": "2021-12-18T19:20:55.896938",
     "exception": false,
     "start_time": "2021-12-18T19:20:55.732900",
     "status": "completed"
    },
    "tags": []
   },
   "source": [
    "## Overall Model Results"
   ]
  },
  {
   "cell_type": "code",
   "execution_count": 19,
   "id": "05a9bde1",
   "metadata": {
    "_kg_hide-input": true,
    "execution": {
     "iopub.execute_input": "2021-12-18T19:20:56.241440Z",
     "iopub.status.busy": "2021-12-18T19:20:56.240441Z",
     "iopub.status.idle": "2021-12-18T19:20:56.244655Z",
     "shell.execute_reply": "2021-12-18T19:20:56.244102Z",
     "shell.execute_reply.started": "2021-12-18T16:21:26.242752Z"
    },
    "papermill": {
     "duration": 0.182387,
     "end_time": "2021-12-18T19:20:56.244799",
     "exception": false,
     "start_time": "2021-12-18T19:20:56.062412",
     "status": "completed"
    },
    "tags": []
   },
   "outputs": [
    {
     "data": {
      "text/html": [
       "<div>\n",
       "<style scoped>\n",
       "    .dataframe tbody tr th:only-of-type {\n",
       "        vertical-align: middle;\n",
       "    }\n",
       "\n",
       "    .dataframe tbody tr th {\n",
       "        vertical-align: top;\n",
       "    }\n",
       "\n",
       "    .dataframe thead th {\n",
       "        text-align: right;\n",
       "    }\n",
       "</style>\n",
       "<table border=\"1\" class=\"dataframe\">\n",
       "  <thead>\n",
       "    <tr style=\"text-align: right;\">\n",
       "      <th></th>\n",
       "      <th>Average RMSE</th>\n",
       "      <th>Average R2 (Adjusted)</th>\n",
       "    </tr>\n",
       "  </thead>\n",
       "  <tbody>\n",
       "    <tr>\n",
       "      <th>Gradient Boosting</th>\n",
       "      <td>4,291.35</td>\n",
       "      <td>79.51%</td>\n",
       "    </tr>\n",
       "    <tr>\n",
       "      <th>SVM</th>\n",
       "      <td>5,044.38</td>\n",
       "      <td>74.04%</td>\n",
       "    </tr>\n",
       "    <tr>\n",
       "      <th>KNN</th>\n",
       "      <td>5,370.01</td>\n",
       "      <td>69.96%</td>\n",
       "    </tr>\n",
       "    <tr>\n",
       "      <th>Linear Regression</th>\n",
       "      <td>5,646.52</td>\n",
       "      <td>74.10%</td>\n",
       "    </tr>\n",
       "  </tbody>\n",
       "</table>\n",
       "</div>"
      ],
      "text/plain": [
       "                  Average RMSE Average R2 (Adjusted)\n",
       "Gradient Boosting     4,291.35                79.51%\n",
       "SVM                   5,044.38                74.04%\n",
       "KNN                   5,370.01                69.96%\n",
       "Linear Regression     5,646.52                74.10%"
      ]
     },
     "metadata": {},
     "output_type": "display_data"
    }
   ],
   "source": [
    "mod_res.iloc[3,0]=pd.Series(rmses).mean()\n",
    "mod_res.iloc[3,1]=pd.Series(adj_r2_scores).mean()\n",
    "mod_res[\"Average RMSE\"]=mod_res[\"Average RMSE\"].map('{:,.2f}'.format)\n",
    "mod_res[\"Average R2 (Adjusted)\"]=mod_res[\"Average R2 (Adjusted)\"].mul(100).map('{:.2f}%'.format)\n",
    "display(mod_res.sort_values(\"Average RMSE\"))"
   ]
  },
  {
   "cell_type": "markdown",
   "id": "87c2f2e5",
   "metadata": {
    "papermill": {
     "duration": 0.162372,
     "end_time": "2021-12-18T19:20:56.570401",
     "exception": false,
     "start_time": "2021-12-18T19:20:56.408029",
     "status": "completed"
    },
    "tags": []
   },
   "source": [
    "Gradient Boosting was able to reduce the test error of the models even further to 4,291 overall and increase the average adjusted $R^2$ to nearly 80%. Gradient boosting outperforms the SVM models for each region except the Northeast. Support Vector Regression provides the lowest test error in the Northeast region."
   ]
  },
  {
   "cell_type": "markdown",
   "id": "023cce50",
   "metadata": {
    "papermill": {
     "duration": 0.164251,
     "end_time": "2021-12-18T19:20:56.905507",
     "exception": false,
     "start_time": "2021-12-18T19:20:56.741256",
     "status": "completed"
    },
    "tags": []
   },
   "source": [
    "# Feature Importance"
   ]
  },
  {
   "cell_type": "code",
   "execution_count": 20,
   "id": "cc839672",
   "metadata": {
    "_kg_hide-input": true,
    "execution": {
     "iopub.execute_input": "2021-12-18T19:20:57.237863Z",
     "iopub.status.busy": "2021-12-18T19:20:57.237189Z",
     "iopub.status.idle": "2021-12-18T19:20:57.470500Z",
     "shell.execute_reply": "2021-12-18T19:20:57.471031Z",
     "shell.execute_reply.started": "2021-12-18T16:21:26.258985Z"
    },
    "papermill": {
     "duration": 0.400324,
     "end_time": "2021-12-18T19:20:57.471218",
     "exception": false,
     "start_time": "2021-12-18T19:20:57.070894",
     "status": "completed"
    },
    "tags": []
   },
   "outputs": [],
   "source": [
    "col=sns.color_palette(\"magma\", 20).as_hex()[::-1]\n",
    "feat_importance.set_index(X_train.columns, inplace=True)\n",
    "ft=pd.DataFrame({\"Average Importance\":feat_importance.mean(axis=1)})\n",
    "plot_df=ft.nlargest(20, columns=\"Average Importance\").sort_values(by=\"Average Importance\",ascending=False)\n",
    "fig = px.bar(plot_df, x=\"Average Importance\", y=plot_df.index, text=\"Average Importance\", height=700,\n",
    "             color=plot_df.index, opacity=.8,color_discrete_sequence=col)\n",
    "fig.update_traces(texttemplate='%{text:.2f}', textposition='outside',\n",
    "                  marker_line=dict(width=1, color='#3F3B3A'), showlegend=False, \n",
    "                  hovertemplate='<b>Importance</b> = %{x:.2}')\n",
    "fig.update_layout(title_text='Feature Importance in Predicting Health Insurance Costs', \n",
    "                  coloraxis_showscale=False, yaxis_title=\"\", font_color=\"#303030\", yaxis_linecolor=\"#D8D8D8\", \n",
    "                  xaxis=dict(title=\"Average Feature Importance\", showgrid=True, showline=True, \n",
    "                             linecolor=\"#9A9A9A\", gridcolor=\"#F5F5F5\"))\n",
    "fig.write_image(\"data/fig10.svg\")"
   ]
  },
  {
   "cell_type": "markdown",
   "id": "1b8a08f4",
   "metadata": {},
   "source": [
    "![fig10](data/fig10.svg)"
   ]
  },
  {
   "cell_type": "markdown",
   "id": "8b0d5ab6",
   "metadata": {
    "papermill": {
     "duration": 0.17652,
     "end_time": "2021-12-18T19:20:57.823051",
     "exception": false,
     "start_time": "2021-12-18T19:20:57.646531",
     "status": "completed"
    },
    "tags": []
   },
   "source": [
    "Using the average feature importance's from the Gradient Boosting models, the interaction effect of a patient's BMI and their smoking status is the most important predictor of healthcare costs. Smoking status produces the highest average importance across the models with interactions between age and BMI among the top 5 predictors. The polynomial features of Age and BMI are also within the top 10, while gender and children are among the lowest."
   ]
  },
  {
   "cell_type": "markdown",
   "id": "29eccb0a",
   "metadata": {
    "papermill": {
     "duration": 0.173527,
     "end_time": "2021-12-18T19:20:58.172099",
     "exception": false,
     "start_time": "2021-12-18T19:20:57.998572",
     "status": "completed"
    },
    "tags": []
   },
   "source": [
    "# Conclusion"
   ]
  },
  {
   "cell_type": "markdown",
   "id": "878d4f43",
   "metadata": {
    "papermill": {
     "duration": 0.173799,
     "end_time": "2021-12-18T19:20:58.520053",
     "exception": false,
     "start_time": "2021-12-18T19:20:58.346254",
     "status": "completed"
    },
    "tags": []
   },
   "source": [
    "In predicting insurance costs, Gradient Boosting provides the best results in the Southwest, Southeast, and Northwest regions, while the Support Vector model produces the lowest test error in the Northeast region. The models can explain over 93% of the observed variation in insurance costs in the Southeast region to almost 70% in the Northeast with the SVM model. \n",
    "\n",
    "The polynomial features and interaction effects that were added to the models were among some of the most important predictors of health insurance costs, particularly between a patient's smoking status and their BMI. We also saw that healthcare costs increase with age and are notably higher in smokers. Gender and number of children had the least amount of influence in the models overall.  \n",
    "\n",
    "The gradient boosting model in the Northeast could potentially be improved with additional hyperparameter tuning or the company could implement a hybrid modeling approach that uses both boosted trees and support vector regression to predict insurance claims by region."
   ]
  },
  {
   "cell_type": "markdown",
   "id": "52b1530b",
   "metadata": {
    "papermill": {
     "duration": 0.174798,
     "end_time": "2021-12-18T19:20:58.868955",
     "exception": false,
     "start_time": "2021-12-18T19:20:58.694157",
     "status": "completed"
    },
    "tags": []
   },
   "source": [
    "<br>\n",
    " \n",
    "\n",
    "\n",
    "*****\n",
    "\n",
    "\n",
    "-&nbsp;Thank you for viewing my notebook! 🙂"
   ]
  }
 ],
 "metadata": {
  "kernelspec": {
   "display_name": "Python 3 (ipykernel)",
   "language": "python",
   "name": "python3"
  },
  "language_info": {
   "codemirror_mode": {
    "name": "ipython",
    "version": 3
   },
   "file_extension": ".py",
   "mimetype": "text/x-python",
   "name": "python",
   "nbconvert_exporter": "python",
   "pygments_lexer": "ipython3",
   "version": "3.9.7"
  },
  "papermill": {
   "default_parameters": {},
   "duration": 675.62455,
   "end_time": "2021-12-18T19:21:00.160726",
   "environment_variables": {},
   "exception": null,
   "input_path": "__notebook__.ipynb",
   "output_path": "__notebook__.ipynb",
   "parameters": {},
   "start_time": "2021-12-18T19:09:44.536176",
   "version": "2.3.3"
  }
 },
 "nbformat": 4,
 "nbformat_minor": 5
}
