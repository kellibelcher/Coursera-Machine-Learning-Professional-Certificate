{
 "cells": [
  {
   "cell_type": "markdown",
   "id": "a009f2a6",
   "metadata": {
    "papermill": {
     "duration": 0.036685,
     "end_time": "2022-01-20T06:54:39.327230",
     "exception": false,
     "start_time": "2022-01-20T06:54:39.290545",
     "status": "completed"
    },
    "tags": []
   },
   "source": [
    "<img src=\"https://media.istockphoto.com/vectors/tangled-grungy-heart-scribble-vector-id1133171858?k=20&m=1133171858&s=612x612&w=0&h=AmR7GfalsyvR_RCLqaTGe0Tbxi3pGQx2psSJZ_YpfSg=\" \n",
    "     width=\"700\" \n",
    "     height=\"200\" />\n",
    "# <div style=\"color:white;display:fill;border-radius:5px;background-color:#CB7272;font-size:140%;letter-spacing:0.5px;overflow:hidden\"><p style=\"padding:20px;color:white;overflow:hidden;margin:0\"><b>1 |</b> Introduction</p></div>\n",
    "Cardiovascular diseases are a group of disorders involving the heart and blood vessels and one of the leading causes of death globally, according to the [American Heart Association](https://www.ahajournals.org/doi/10.1161/CIR.0000000000000950?utm_campaign=ahajournals&utm_source=heart&utm_medium=link&utm_content=statshome). In 2019, cardiovascular diseases took the lives of nearly 18 million people, accounting for 32% of deaths worldwide [(World Health Organization, 2021)](https://www.who.int/news-room/fact-sheets/detail/cardiovascular-diseases-(cvds)). 85% of these deaths were due to heart attacks and strokes, with 38% among people under the age of 70. Early detection is critical in the treatment and management of cardiovascular diseases, wherein machine learning can be a powerful tool in identifying a potential heart disease diagnosis. "
   ]
  },
  {
   "cell_type": "markdown",
   "id": "c91b0081",
   "metadata": {
    "papermill": {
     "duration": 0.034842,
     "end_time": "2022-01-20T06:54:39.399513",
     "exception": false,
     "start_time": "2022-01-20T06:54:39.364671",
     "status": "completed"
    },
    "tags": []
   },
   "source": [
    "# <div style=\"color:white;display:fill;border-radius:5px;background-color:#CB7272;font-size:140%;letter-spacing:0.5px;overflow:hidden\"><p style=\"padding:20px;color:white;overflow:hidden;margin:0\"><b>2 |</b> Data Overview</p></div>\n",
    "The [Heart Disease data](https://www.kaggle.com/fedesoriano/heart-failure-prediction) used in this study is a synthesis of data sets sourced from the UCI Machine Learning Repository and contains 11 features that can be used to predict the presence of heart failure, a common cardiovascular disease that greatly increases the risk of a CV-related death. The target variable is a binary attribute indicating a diagnosis of Heart Failure when `HeartDisease` = 1. A brief description of the variables in the data set is listed below.\n",
    "1. **`Age`**: The age of the patient, in years.\n",
    "2. **`Sex`**: The patient's gender, male or female.\n",
    "3. **`ChestPainType`**: The type of chest pain experienced by the patient:  \n",
    "    i. `TA`: Typical Angina  \n",
    "    ii. `ATA`: Atypical Angina  \n",
    "    iii. `NAP`: Non-Anginal Pain  \n",
    "    iv. `ASY`: Asymptomatic\n",
    "4. **`RestingBP`**: The patient's resting blood pressure (mmHg).\n",
    "5. **`Cholesterol`**: The patient's serum cholesterol (mg/dl).\n",
    "6. **`FastingBS`**: The patient's fasting blood sugar.  \n",
    "    i. `1` if glucose > 120 mg/dl  \n",
    "    ii. `0` otherwise\n",
    "7. **`RestingECG`**: Resting electrocardiogram results:  \n",
    "    i. `Normal`  \n",
    "    ii. `ST`: having ST-T wave abnormality (T wave inversions and/or ST elevation or depression of > 0.05 mV)  \n",
    "    iii. `LVH`: showing probable or definite left ventricular hypertrophy by Estes' criteria\n",
    "8. **`MaxHR`**: Maximum heart rate achieved, beats per minute.\n",
    "9. **`ExerciseAngina`**: Exercise-induced angina, yes or no.\n",
    "10. **`Oldpeak`**: Numeric measure of ST depression induced by exercise relative to rest.\n",
    "11. **`ST_Slope`**: The slope of the peak exercise ST segment.   \n",
    "    i. `Up`: upsloping  \n",
    "    ii. `Flat`  \n",
    "    iii. `Down`: downsloping   "
   ]
  },
  {
   "cell_type": "markdown",
   "id": "dc7b5cbd",
   "metadata": {
    "papermill": {
     "duration": 0.035352,
     "end_time": "2022-01-20T06:54:39.470331",
     "exception": false,
     "start_time": "2022-01-20T06:54:39.434979",
     "status": "completed"
    },
    "tags": []
   },
   "source": [
    "### <b><span style='color:#CB7272'>2.1</span> | Summary Statistics of Numeric Columns</b>"
   ]
  },
  {
   "cell_type": "code",
   "execution_count": 1,
   "id": "d960a0ad",
   "metadata": {
    "_kg_hide-input": true,
    "execution": {
     "iopub.execute_input": "2022-01-20T06:54:39.546001Z",
     "iopub.status.busy": "2022-01-20T06:54:39.544699Z",
     "iopub.status.idle": "2022-01-20T06:54:43.706439Z",
     "shell.execute_reply": "2022-01-20T06:54:43.707374Z",
     "shell.execute_reply.started": "2022-01-20T06:33:51.247877Z"
    },
    "papermill": {
     "duration": 4.201993,
     "end_time": "2022-01-20T06:54:43.707727",
     "exception": false,
     "start_time": "2022-01-20T06:54:39.505734",
     "status": "completed"
    },
    "tags": []
   },
   "outputs": [
    {
     "data": {
      "text/html": [
       "        <script type=\"text/javascript\">\n",
       "        window.PlotlyConfig = {MathJaxConfig: 'local'};\n",
       "        if (window.MathJax) {MathJax.Hub.Config({SVG: {font: \"STIX-Web\"}});}\n",
       "        if (typeof require !== 'undefined') {\n",
       "        require.undef(\"plotly\");\n",
       "        requirejs.config({\n",
       "            paths: {\n",
       "                'plotly': ['https://cdn.plot.ly/plotly-2.6.3.min']\n",
       "            }\n",
       "        });\n",
       "        require(['plotly'], function(Plotly) {\n",
       "            window._Plotly = Plotly;\n",
       "        });\n",
       "        }\n",
       "        </script>\n",
       "        "
      ]
     },
     "metadata": {},
     "output_type": "display_data"
    },
    {
     "name": "stdout",
     "output_type": "stream",
     "text": [
      "There are 918 observations and 12 columns in the data set.\n",
      "There are 0 missing values in the data.\n"
     ]
    },
    {
     "data": {
      "text/html": [
       "<div>\n",
       "<style scoped>\n",
       "    .dataframe tbody tr th:only-of-type {\n",
       "        vertical-align: middle;\n",
       "    }\n",
       "\n",
       "    .dataframe tbody tr th {\n",
       "        vertical-align: top;\n",
       "    }\n",
       "\n",
       "    .dataframe thead th {\n",
       "        text-align: right;\n",
       "    }\n",
       "</style>\n",
       "<table border=\"1\" class=\"dataframe\">\n",
       "  <thead>\n",
       "    <tr style=\"text-align: right;\">\n",
       "      <th></th>\n",
       "      <th>Age</th>\n",
       "      <th>RestingBP</th>\n",
       "      <th>Cholesterol</th>\n",
       "      <th>FastingBS</th>\n",
       "      <th>MaxHR</th>\n",
       "      <th>Oldpeak</th>\n",
       "      <th>HeartDisease</th>\n",
       "    </tr>\n",
       "  </thead>\n",
       "  <tbody>\n",
       "    <tr>\n",
       "      <th>count</th>\n",
       "      <td>918.000000</td>\n",
       "      <td>918.000000</td>\n",
       "      <td>918.000000</td>\n",
       "      <td>918.000000</td>\n",
       "      <td>918.000000</td>\n",
       "      <td>918.000000</td>\n",
       "      <td>918.000000</td>\n",
       "    </tr>\n",
       "    <tr>\n",
       "      <th>mean</th>\n",
       "      <td>53.510893</td>\n",
       "      <td>132.396514</td>\n",
       "      <td>198.799564</td>\n",
       "      <td>0.233115</td>\n",
       "      <td>136.809368</td>\n",
       "      <td>0.887364</td>\n",
       "      <td>0.553377</td>\n",
       "    </tr>\n",
       "    <tr>\n",
       "      <th>std</th>\n",
       "      <td>9.432617</td>\n",
       "      <td>18.514154</td>\n",
       "      <td>109.384145</td>\n",
       "      <td>0.423046</td>\n",
       "      <td>25.460334</td>\n",
       "      <td>1.066570</td>\n",
       "      <td>0.497414</td>\n",
       "    </tr>\n",
       "    <tr>\n",
       "      <th>min</th>\n",
       "      <td>28.000000</td>\n",
       "      <td>0.000000</td>\n",
       "      <td>0.000000</td>\n",
       "      <td>0.000000</td>\n",
       "      <td>60.000000</td>\n",
       "      <td>-2.600000</td>\n",
       "      <td>0.000000</td>\n",
       "    </tr>\n",
       "    <tr>\n",
       "      <th>25%</th>\n",
       "      <td>47.000000</td>\n",
       "      <td>120.000000</td>\n",
       "      <td>173.250000</td>\n",
       "      <td>0.000000</td>\n",
       "      <td>120.000000</td>\n",
       "      <td>0.000000</td>\n",
       "      <td>0.000000</td>\n",
       "    </tr>\n",
       "    <tr>\n",
       "      <th>50%</th>\n",
       "      <td>54.000000</td>\n",
       "      <td>130.000000</td>\n",
       "      <td>223.000000</td>\n",
       "      <td>0.000000</td>\n",
       "      <td>138.000000</td>\n",
       "      <td>0.600000</td>\n",
       "      <td>1.000000</td>\n",
       "    </tr>\n",
       "    <tr>\n",
       "      <th>75%</th>\n",
       "      <td>60.000000</td>\n",
       "      <td>140.000000</td>\n",
       "      <td>267.000000</td>\n",
       "      <td>0.000000</td>\n",
       "      <td>156.000000</td>\n",
       "      <td>1.500000</td>\n",
       "      <td>1.000000</td>\n",
       "    </tr>\n",
       "    <tr>\n",
       "      <th>max</th>\n",
       "      <td>77.000000</td>\n",
       "      <td>200.000000</td>\n",
       "      <td>603.000000</td>\n",
       "      <td>1.000000</td>\n",
       "      <td>202.000000</td>\n",
       "      <td>6.200000</td>\n",
       "      <td>1.000000</td>\n",
       "    </tr>\n",
       "  </tbody>\n",
       "</table>\n",
       "</div>"
      ],
      "text/plain": [
       "              Age   RestingBP  Cholesterol   FastingBS       MaxHR  \\\n",
       "count  918.000000  918.000000   918.000000  918.000000  918.000000   \n",
       "mean    53.510893  132.396514   198.799564    0.233115  136.809368   \n",
       "std      9.432617   18.514154   109.384145    0.423046   25.460334   \n",
       "min     28.000000    0.000000     0.000000    0.000000   60.000000   \n",
       "25%     47.000000  120.000000   173.250000    0.000000  120.000000   \n",
       "50%     54.000000  130.000000   223.000000    0.000000  138.000000   \n",
       "75%     60.000000  140.000000   267.000000    0.000000  156.000000   \n",
       "max     77.000000  200.000000   603.000000    1.000000  202.000000   \n",
       "\n",
       "          Oldpeak  HeartDisease  \n",
       "count  918.000000    918.000000  \n",
       "mean     0.887364      0.553377  \n",
       "std      1.066570      0.497414  \n",
       "min     -2.600000      0.000000  \n",
       "25%      0.000000      0.000000  \n",
       "50%      0.600000      1.000000  \n",
       "75%      1.500000      1.000000  \n",
       "max      6.200000      1.000000  "
      ]
     },
     "execution_count": 1,
     "metadata": {},
     "output_type": "execute_result"
    }
   ],
   "source": [
    "import numpy as np\n",
    "import pandas as pd\n",
    "import seaborn as sns\n",
    "import matplotlib.pyplot as plt\n",
    "import plotly.express as px\n",
    "import plotly.graph_objects as go\n",
    "import plotly.figure_factory as ff\n",
    "from plotly.subplots import make_subplots\n",
    "from plotly.offline import plot, iplot, init_notebook_mode\n",
    "from matplotlib.colors import LinearSegmentedColormap\n",
    "from scipy.stats import chi2_contingency \n",
    "from sklearn.preprocessing import StandardScaler, PolynomialFeatures\n",
    "import lightgbm as lgb\n",
    "from sklearn.ensemble import RandomForestClassifier, ExtraTreesClassifier, AdaBoostClassifier\n",
    "from sklearn.tree import DecisionTreeClassifier\n",
    "from sklearn.model_selection import train_test_split, RandomizedSearchCV, cross_val_score, StratifiedKFold\n",
    "from sklearn.metrics import f1_score, precision_score, recall_score, roc_auc_score\n",
    "from sklearn.metrics import confusion_matrix, roc_curve, classification_report\n",
    "import copy\n",
    "import warnings\n",
    "warnings.filterwarnings(\"ignore\")\n",
    "init_notebook_mode(connected=True)\n",
    "\n",
    "# Load data\n",
    "heart = pd.read_csv(\"data/heart.csv\")\n",
    "print(\"There are {:,} observations and {} columns in the data set.\".format(heart.shape[0], heart.shape[1]))\n",
    "print(\"There are {} missing values in the data.\".format(heart.isna().sum().sum()))\n",
    "heart.describe()"
   ]
  },
  {
   "cell_type": "markdown",
   "id": "5626a650",
   "metadata": {
    "papermill": {
     "duration": 0.03704,
     "end_time": "2022-01-20T06:54:43.782977",
     "exception": false,
     "start_time": "2022-01-20T06:54:43.745937",
     "status": "completed"
    },
    "tags": []
   },
   "source": [
    "### <b><span style='color:#CB7272'>2.2</span> | Summary Statistics of Categorical Columns</b>"
   ]
  },
  {
   "cell_type": "code",
   "execution_count": 2,
   "id": "4b47d1e9",
   "metadata": {
    "_kg_hide-input": true,
    "execution": {
     "iopub.execute_input": "2022-01-20T06:54:43.862825Z",
     "iopub.status.busy": "2022-01-20T06:54:43.861794Z",
     "iopub.status.idle": "2022-01-20T06:54:43.987095Z",
     "shell.execute_reply": "2022-01-20T06:54:43.986363Z",
     "shell.execute_reply.started": "2022-01-20T06:33:51.304121Z"
    },
    "papermill": {
     "duration": 0.166962,
     "end_time": "2022-01-20T06:54:43.987265",
     "exception": false,
     "start_time": "2022-01-20T06:54:43.820303",
     "status": "completed"
    },
    "tags": []
   },
   "outputs": [
    {
     "data": {
      "text/html": [
       "<style type=\"text/css\">\n",
       "#T_c73bd_row0_col0, #T_c73bd_row0_col1 {\n",
       "  font-weight: bold;\n",
       "  color: white;\n",
       "  background-color: #D78080;\n",
       "}\n",
       "</style>\n",
       "<table id=\"T_c73bd_\">\n",
       "  <caption>Variable: Sex</caption>\n",
       "  <thead>\n",
       "    <tr>\n",
       "      <th class=\"blank level0\" >&nbsp;</th>\n",
       "      <th class=\"col_heading level0 col0\" >Total Patients</th>\n",
       "      <th class=\"col_heading level0 col1\" >Proportion of Heart Disease</th>\n",
       "    </tr>\n",
       "  </thead>\n",
       "  <tbody>\n",
       "    <tr>\n",
       "      <th id=\"T_c73bd_level0_row0\" class=\"row_heading level0 row0\" >M</th>\n",
       "      <td id=\"T_c73bd_row0_col0\" class=\"data row0 col0\" >725</td>\n",
       "      <td id=\"T_c73bd_row0_col1\" class=\"data row0 col1\" >90.2%</td>\n",
       "    </tr>\n",
       "    <tr>\n",
       "      <th id=\"T_c73bd_level0_row1\" class=\"row_heading level0 row1\" >F</th>\n",
       "      <td id=\"T_c73bd_row1_col0\" class=\"data row1 col0\" >193</td>\n",
       "      <td id=\"T_c73bd_row1_col1\" class=\"data row1 col1\" >9.8%</td>\n",
       "    </tr>\n",
       "  </tbody>\n",
       "</table>\n"
      ],
      "text/plain": [
       "<pandas.io.formats.style.Styler at 0x1f03a0433d0>"
      ]
     },
     "metadata": {},
     "output_type": "display_data"
    },
    {
     "data": {
      "text/html": [
       "<style type=\"text/css\">\n",
       "#T_a0c1a_row0_col0, #T_a0c1a_row0_col1 {\n",
       "  font-weight: bold;\n",
       "  color: white;\n",
       "  background-color: #D78080;\n",
       "}\n",
       "</style>\n",
       "<table id=\"T_a0c1a_\">\n",
       "  <caption>Variable: ChestPainType</caption>\n",
       "  <thead>\n",
       "    <tr>\n",
       "      <th class=\"blank level0\" >&nbsp;</th>\n",
       "      <th class=\"col_heading level0 col0\" >Total Patients</th>\n",
       "      <th class=\"col_heading level0 col1\" >Proportion of Heart Disease</th>\n",
       "    </tr>\n",
       "  </thead>\n",
       "  <tbody>\n",
       "    <tr>\n",
       "      <th id=\"T_a0c1a_level0_row0\" class=\"row_heading level0 row0\" >ASY</th>\n",
       "      <td id=\"T_a0c1a_row0_col0\" class=\"data row0 col0\" >496</td>\n",
       "      <td id=\"T_a0c1a_row0_col1\" class=\"data row0 col1\" >77.2%</td>\n",
       "    </tr>\n",
       "    <tr>\n",
       "      <th id=\"T_a0c1a_level0_row1\" class=\"row_heading level0 row1\" >NAP</th>\n",
       "      <td id=\"T_a0c1a_row1_col0\" class=\"data row1 col0\" >203</td>\n",
       "      <td id=\"T_a0c1a_row1_col1\" class=\"data row1 col1\" >14.2%</td>\n",
       "    </tr>\n",
       "    <tr>\n",
       "      <th id=\"T_a0c1a_level0_row2\" class=\"row_heading level0 row2\" >ATA</th>\n",
       "      <td id=\"T_a0c1a_row2_col0\" class=\"data row2 col0\" >173</td>\n",
       "      <td id=\"T_a0c1a_row2_col1\" class=\"data row2 col1\" >4.7%</td>\n",
       "    </tr>\n",
       "    <tr>\n",
       "      <th id=\"T_a0c1a_level0_row3\" class=\"row_heading level0 row3\" >TA</th>\n",
       "      <td id=\"T_a0c1a_row3_col0\" class=\"data row3 col0\" >46</td>\n",
       "      <td id=\"T_a0c1a_row3_col1\" class=\"data row3 col1\" >3.9%</td>\n",
       "    </tr>\n",
       "  </tbody>\n",
       "</table>\n"
      ],
      "text/plain": [
       "<pandas.io.formats.style.Styler at 0x1f03a043b50>"
      ]
     },
     "metadata": {},
     "output_type": "display_data"
    },
    {
     "data": {
      "text/html": [
       "<style type=\"text/css\">\n",
       "#T_396d3_row0_col0, #T_396d3_row0_col1 {\n",
       "  font-weight: bold;\n",
       "  color: white;\n",
       "  background-color: #D78080;\n",
       "}\n",
       "</style>\n",
       "<table id=\"T_396d3_\">\n",
       "  <caption>Variable: RestingECG</caption>\n",
       "  <thead>\n",
       "    <tr>\n",
       "      <th class=\"blank level0\" >&nbsp;</th>\n",
       "      <th class=\"col_heading level0 col0\" >Total Patients</th>\n",
       "      <th class=\"col_heading level0 col1\" >Proportion of Heart Disease</th>\n",
       "    </tr>\n",
       "  </thead>\n",
       "  <tbody>\n",
       "    <tr>\n",
       "      <th id=\"T_396d3_level0_row0\" class=\"row_heading level0 row0\" >Normal</th>\n",
       "      <td id=\"T_396d3_row0_col0\" class=\"data row0 col0\" >552</td>\n",
       "      <td id=\"T_396d3_row0_col1\" class=\"data row0 col1\" >56.1%</td>\n",
       "    </tr>\n",
       "    <tr>\n",
       "      <th id=\"T_396d3_level0_row1\" class=\"row_heading level0 row1\" >ST</th>\n",
       "      <td id=\"T_396d3_row1_col0\" class=\"data row1 col0\" >178</td>\n",
       "      <td id=\"T_396d3_row1_col1\" class=\"data row1 col1\" >23.0%</td>\n",
       "    </tr>\n",
       "    <tr>\n",
       "      <th id=\"T_396d3_level0_row2\" class=\"row_heading level0 row2\" >LVH</th>\n",
       "      <td id=\"T_396d3_row2_col0\" class=\"data row2 col0\" >188</td>\n",
       "      <td id=\"T_396d3_row2_col1\" class=\"data row2 col1\" >20.9%</td>\n",
       "    </tr>\n",
       "  </tbody>\n",
       "</table>\n"
      ],
      "text/plain": [
       "<pandas.io.formats.style.Styler at 0x1f03a043370>"
      ]
     },
     "metadata": {},
     "output_type": "display_data"
    },
    {
     "data": {
      "text/html": [
       "<style type=\"text/css\">\n",
       "#T_8dd09_row0_col1, #T_8dd09_row1_col0 {\n",
       "  font-weight: bold;\n",
       "  color: white;\n",
       "  background-color: #D78080;\n",
       "}\n",
       "</style>\n",
       "<table id=\"T_8dd09_\">\n",
       "  <caption>Variable: ExerciseAngina</caption>\n",
       "  <thead>\n",
       "    <tr>\n",
       "      <th class=\"blank level0\" >&nbsp;</th>\n",
       "      <th class=\"col_heading level0 col0\" >Total Patients</th>\n",
       "      <th class=\"col_heading level0 col1\" >Proportion of Heart Disease</th>\n",
       "    </tr>\n",
       "  </thead>\n",
       "  <tbody>\n",
       "    <tr>\n",
       "      <th id=\"T_8dd09_level0_row0\" class=\"row_heading level0 row0\" >Y</th>\n",
       "      <td id=\"T_8dd09_row0_col0\" class=\"data row0 col0\" >371</td>\n",
       "      <td id=\"T_8dd09_row0_col1\" class=\"data row0 col1\" >62.2%</td>\n",
       "    </tr>\n",
       "    <tr>\n",
       "      <th id=\"T_8dd09_level0_row1\" class=\"row_heading level0 row1\" >N</th>\n",
       "      <td id=\"T_8dd09_row1_col0\" class=\"data row1 col0\" >547</td>\n",
       "      <td id=\"T_8dd09_row1_col1\" class=\"data row1 col1\" >37.8%</td>\n",
       "    </tr>\n",
       "  </tbody>\n",
       "</table>\n"
      ],
      "text/plain": [
       "<pandas.io.formats.style.Styler at 0x1f03a058880>"
      ]
     },
     "metadata": {},
     "output_type": "display_data"
    },
    {
     "data": {
      "text/html": [
       "<style type=\"text/css\">\n",
       "#T_374f6_row0_col0, #T_374f6_row0_col1 {\n",
       "  font-weight: bold;\n",
       "  color: white;\n",
       "  background-color: #D78080;\n",
       "}\n",
       "</style>\n",
       "<table id=\"T_374f6_\">\n",
       "  <caption>Variable: ST_Slope</caption>\n",
       "  <thead>\n",
       "    <tr>\n",
       "      <th class=\"blank level0\" >&nbsp;</th>\n",
       "      <th class=\"col_heading level0 col0\" >Total Patients</th>\n",
       "      <th class=\"col_heading level0 col1\" >Proportion of Heart Disease</th>\n",
       "    </tr>\n",
       "  </thead>\n",
       "  <tbody>\n",
       "    <tr>\n",
       "      <th id=\"T_374f6_level0_row0\" class=\"row_heading level0 row0\" >Flat</th>\n",
       "      <td id=\"T_374f6_row0_col0\" class=\"data row0 col0\" >460</td>\n",
       "      <td id=\"T_374f6_row0_col1\" class=\"data row0 col1\" >75.0%</td>\n",
       "    </tr>\n",
       "    <tr>\n",
       "      <th id=\"T_374f6_level0_row1\" class=\"row_heading level0 row1\" >Up</th>\n",
       "      <td id=\"T_374f6_row1_col0\" class=\"data row1 col0\" >395</td>\n",
       "      <td id=\"T_374f6_row1_col1\" class=\"data row1 col1\" >15.4%</td>\n",
       "    </tr>\n",
       "    <tr>\n",
       "      <th id=\"T_374f6_level0_row2\" class=\"row_heading level0 row2\" >Down</th>\n",
       "      <td id=\"T_374f6_row2_col0\" class=\"data row2 col0\" >63</td>\n",
       "      <td id=\"T_374f6_row2_col1\" class=\"data row2 col1\" >9.6%</td>\n",
       "    </tr>\n",
       "  </tbody>\n",
       "</table>\n"
      ],
      "text/plain": [
       "<pandas.io.formats.style.Styler at 0x1f03a087100>"
      ]
     },
     "metadata": {},
     "output_type": "display_data"
    }
   ],
   "source": [
    "cat=heart.select_dtypes(include=['object']).columns.tolist()\n",
    "for i in cat:\n",
    "    obs=heart[i].value_counts()\n",
    "    avg_hd=heart.groupby(['HeartDisease'])[i].value_counts(normalize=True)[1]\n",
    "    display(pd.DataFrame({\"Total Patients\":obs, \"Proportion of Heart Disease\":avg_hd*100})\\\n",
    "            .sort_values(\"Proportion of Heart Disease\", ascending=False)\n",
    "            .style.set_caption('Variable: {}'.format(i))\\\n",
    "            .format({\"Proportion of Heart Disease\": \"{:,.1f}%\"})\\\n",
    "            .highlight_max(props='font-weight:bold; color:white; background-color:#D78080;', axis=0)) "
   ]
  },
  {
   "cell_type": "markdown",
   "id": "93040e3b",
   "metadata": {
    "papermill": {
     "duration": 0.039858,
     "end_time": "2022-01-20T06:54:44.068443",
     "exception": false,
     "start_time": "2022-01-20T06:54:44.028585",
     "status": "completed"
    },
    "tags": []
   },
   "source": [
    "# <div style=\"color:white;display:fill;border-radius:5px;background-color:#CB7272;font-size:140%;letter-spacing:0.5px;overflow:hidden\"><p style=\"padding:20px;color:white;overflow:hidden;margin:0\"><b>3 |</b> Exploratory Data Analysis</p></div>"
   ]
  },
  {
   "cell_type": "code",
   "execution_count": 3,
   "id": "569db037",
   "metadata": {
    "_kg_hide-input": true,
    "execution": {
     "iopub.execute_input": "2022-01-20T06:54:44.173212Z",
     "iopub.status.busy": "2022-01-20T06:54:44.170790Z",
     "iopub.status.idle": "2022-01-20T06:54:44.510410Z",
     "shell.execute_reply": "2022-01-20T06:54:44.509834Z",
     "shell.execute_reply.started": "2022-01-20T06:33:51.372908Z"
    },
    "papermill": {
     "duration": 0.401667,
     "end_time": "2022-01-20T06:54:44.510564",
     "exception": false,
     "start_time": "2022-01-20T06:54:44.108897",
     "status": "completed"
    },
    "tags": []
   },
   "outputs": [],
   "source": [
    "# Plot 1\n",
    "plot_df=heart.copy()\n",
    "p1=plot_df.HeartDisease.value_counts()\n",
    "p1=p1.rename('count').reset_index().sort_values('count', ascending=False)\n",
    "x1=p1['index'].apply(lambda x: 'Heart Disease' if x==1 else 'No Disease')\n",
    "\n",
    "# Plot 2\n",
    "p2=plot_df.groupby('HeartDisease')['Age'].median().round(0).astype(int)\n",
    "p2=p2.rename('age').reset_index().sort_values('age', ascending=False)\n",
    "\n",
    "# Plot 3\n",
    "p3=plot_df.groupby('Sex')['HeartDisease'].value_counts(normalize=True)\n",
    "p3=p3.mul(100).rename('pct').reset_index()\n",
    "x2=p3.Sex.apply(lambda x: 'Women' if x=='F' else 'Men').unique()[::-1]\n",
    "y0=p3[p3.HeartDisease==0]['pct'][::-1]\n",
    "y1=p3[p3.HeartDisease==1]['pct'][::-1]\n",
    "\n",
    "\n",
    "temp = dict(layout=go.Layout(font=dict(family=\"Franklin Gothic\", size=12)))\n",
    "fig = make_subplots(rows=2, cols=2,\n",
    "                    specs=[[{}, {}], [{'colspan': 2}, None]],\n",
    "                    subplot_titles=(\"Number of Patients\", \"Median Age\", \n",
    "                                    \"Prevalence of Heart Disease among Men and Women\"))\n",
    "# Plot 1\n",
    "fig.add_trace(go.Bar(x=x1, y=p1['count'], text=p1['count'],texttemplate='n = %{text}', textposition='outside',\n",
    "                     marker=dict(color=['#AF4343', '#C6AA97'], opacity=0.8),\n",
    "                     hovertemplate='Number of Patients with %{x} = %{y}<extra></extra>',\n",
    "                     name=\"Heart Disease\", showlegend=False),row=1,col=1)\n",
    "# Plot 2\n",
    "fig.add_trace(go.Bar(x=x1, y=p2['age'], text=p2['age'], textposition='outside',\n",
    "                     marker=dict(color=['#AF4343', '#C6AA97'], opacity=0.8),\n",
    "                     hovertemplate='Median Age of Patients with %{x} = %{y} years<extra></extra>',\n",
    "                     name=\"Heart Disease\", showlegend=False),row=1,col=2)\n",
    "\n",
    "# Plot 3\n",
    "fig.add_trace(go.Bar(x=x2, y=y1, name='Heart Disease', text=y1, textposition='outside',\n",
    "                     texttemplate='%{text:.1f}%', width=0.38, \n",
    "                     hovertemplate='Proportion of %{x} with Heart Disease = %{y:.2f}%<extra></extra>',\n",
    "                     marker=dict(color='#AF4343', opacity=0.8)), row=2,col=1)\n",
    "fig.add_trace(go.Bar(x=x2, y=y0, name='No Disease', text=y0, textposition='outside',\n",
    "                     texttemplate='%{text:.1f}%', width=0.38, \n",
    "                     hovertemplate='Proportion of %{x} without Heart Disease = %{y:.2f}%<extra></extra>',\n",
    "                     marker=dict(color='#C6AA97', opacity=0.8)), row=2,col=1)\n",
    "\n",
    "fig.update_traces(marker=dict(line=dict(width=1, color='#000000')))\n",
    "fig.update_layout(title=\"Heart Disease Statistics\", showlegend=True, template=temp, \n",
    "                  legend=dict(orientation=\"h\", yanchor=\"bottom\", y=.34, xanchor=\"right\", x=.97),\n",
    "                  barmode='group', bargap=.15, height=1000, width=700)\n",
    "fig.update_yaxes(title=\"\", tickmode = 'array', range=[0, 570], dtick=5, row=1,col=1)\n",
    "fig.update_yaxes(title=\"Age, in years\", tickmode = 'array', range=[0, 65], dtick=6, row=1,col=2)\n",
    "fig.update_yaxes(title=\"\", ticksuffix='%',tickmode = 'array', range=[0, 90], dtick=5, row=2,col=1)\n",
    "fig.write_image('data/fig1.svg')"
   ]
  },
  {
   "cell_type": "markdown",
   "id": "7812a185",
   "metadata": {},
   "source": [
    "![fig1](data/fig1.svg)"
   ]
  },
  {
   "cell_type": "markdown",
   "id": "088a89e2",
   "metadata": {
    "papermill": {
     "duration": 0.046499,
     "end_time": "2022-01-20T06:54:44.604554",
     "exception": false,
     "start_time": "2022-01-20T06:54:44.558055",
     "status": "completed"
    },
    "tags": []
   },
   "source": [
    "Overall, the classes in our target variable, `HeartDisease`, are relatively balanced. Out of the total 918 patients in the data, 508 have been diagnosed with heart failure while 410 have not. The median age of patients with heart disease is 57, while those without heart disease are slightly younger with a median age of 51. Among men, approximately 63% have heart disease, while in women, about 1 in every 4 have been diagnosed with heart disease."
   ]
  },
  {
   "cell_type": "code",
   "execution_count": 4,
   "id": "88ebf3df",
   "metadata": {
    "_kg_hide-input": true,
    "execution": {
     "iopub.execute_input": "2022-01-20T06:54:44.703120Z",
     "iopub.status.busy": "2022-01-20T06:54:44.702202Z",
     "iopub.status.idle": "2022-01-20T06:54:45.029022Z",
     "shell.execute_reply": "2022-01-20T06:54:45.029579Z",
     "shell.execute_reply.started": "2022-01-20T06:33:51.47688Z"
    },
    "papermill": {
     "duration": 0.377567,
     "end_time": "2022-01-20T06:54:45.029777",
     "exception": false,
     "start_time": "2022-01-20T06:54:44.652210",
     "status": "completed"
    },
    "tags": []
   },
   "outputs": [],
   "source": [
    "fig = make_subplots(rows=5, cols=2, shared_xaxes=False, shared_yaxes=False,\n",
    "                    subplot_titles=(\"Distribution of Age<br>by Heart Disease\", \"\", \n",
    "                                    \"Distribution of Systolic Blood Pressure<br>by Heart Disease\",  \"\",\n",
    "                                    \"Distribution of Cholesterol<br>by Heart Disease\",  \"\", \n",
    "                                    \"Distribution of Maximum Heart Rate<br>by Heart Disease\", \"\" ,\n",
    "                                    \"Distribution of ST Segment Depression<br>by Heart Disease\", \"\"))\n",
    "\n",
    "fig.add_trace(go.Histogram(x=heart[heart.HeartDisease==1]['Age'], histnorm='probability density', \n",
    "                           marker=dict(color='#AF4343', line=dict(width=1, color='#000000')),\n",
    "                           opacity=0.8, name=\"Heart Disease\"),\n",
    "              row=1, col=1)\n",
    "fig.add_trace(go.Histogram(x=heart[heart.HeartDisease==0]['Age'], histnorm='probability density', \n",
    "                           marker=dict(color='#C6AA97', line=dict(width=1, color='#000000')), \n",
    "                           opacity=0.75, name=\"No Disease\"),\n",
    "              row=1, col=1)\n",
    "fig.add_trace(go.Box(y=heart[heart.HeartDisease==1]['Age'], name=\"Heart Disease\", \n",
    "                     marker_color = '#AF4343', showlegend=False),\n",
    "              row=1, col=2)\n",
    "fig.add_trace(go.Box(y=heart[heart.HeartDisease==0]['Age'], name=\"No Disease\", \n",
    "                     marker_color = '#C6AA97', showlegend=False), \n",
    "              row=1, col=2)\n",
    "fig.add_trace(go.Histogram(x=heart[heart.HeartDisease==1]['RestingBP'], histnorm='probability density', \n",
    "                           marker=dict(color='#AF4343', line=dict(width=1, color='#000000')),\n",
    "                           opacity=0.8, name=\"Heart Disease\", showlegend=False),\n",
    "              row=2, col=1)\n",
    "fig.add_trace(go.Histogram(x=heart[heart.HeartDisease==0]['RestingBP'], histnorm='probability density',\n",
    "                           marker=dict(color='#C6AA97', line=dict(width=1, color='#333333')), \n",
    "                           opacity=0.75, name=\"No Disease\", showlegend=False),\n",
    "              row=2, col=1)\n",
    "fig.add_trace(go.Box(y=heart[heart.HeartDisease==1]['RestingBP'], name=\"Heart Disease\", \n",
    "                     marker_color = '#AF4343', showlegend=False),\n",
    "              row=2, col=2)\n",
    "fig.add_trace(go.Box(y=heart[heart.HeartDisease==0]['RestingBP'], name=\"No Disease\", \n",
    "                     marker_color = '#C6AA97', showlegend=False), \n",
    "              row=2, col=2)\n",
    "fig.add_trace(go.Histogram(x=heart[heart.HeartDisease==1]['Cholesterol'], histnorm='probability density', \n",
    "                           marker=dict(color='#AF4343', line=dict(width=1, color='#000000')),\n",
    "                           opacity=0.8, name=\"Heart Disease\", showlegend=False),\n",
    "             row=3, col=1)\n",
    "fig.add_trace(go.Histogram(x=heart[heart.HeartDisease==0]['Cholesterol'], histnorm='probability density', \n",
    "                           marker=dict(color='#C6AA97', line=dict(width=1, color='#333333')), \n",
    "                           opacity=0.75, name=\"No Disease\", showlegend=False),\n",
    "              row=3, col=1)\n",
    "fig.add_trace(go.Box(y=heart[heart.HeartDisease==1]['Cholesterol'], name=\"Heart Disease\", \n",
    "                     marker_color = '#AF4343', showlegend=False),\n",
    "              row=3, col=2)\n",
    "fig.add_trace(go.Box(y=heart[heart.HeartDisease==0]['Cholesterol'], name=\"No Disease\", \n",
    "                     marker_color = '#C6AA97', showlegend=False), \n",
    "              row=3, col=2)\n",
    "fig.add_trace(go.Histogram(x=heart[heart.HeartDisease==1]['MaxHR'], histnorm='probability density', \n",
    "                           marker=dict(color='#AF4343', line=dict(width=1, color='#000000')),\n",
    "                           opacity=0.8, name=\"Heart Disease\", showlegend=False),\n",
    "             row=4, col=1)\n",
    "fig.add_trace(go.Histogram(x=heart[heart.HeartDisease==0]['MaxHR'], histnorm='probability density', \n",
    "                           marker=dict(color='#C6AA97', line=dict(width=1, color='#333333')), \n",
    "                           opacity=0.75, name=\"No Disease\", showlegend=False),\n",
    "              row=4, col=1)\n",
    "fig.add_trace(go.Box(y=heart[heart.HeartDisease==1]['MaxHR'], name=\"Heart Disease\", \n",
    "                     marker_color = '#AF4343', showlegend=False),\n",
    "              row=4, col=2)\n",
    "fig.add_trace(go.Box(y=heart[heart.HeartDisease==0]['MaxHR'], name=\"No Disease\", \n",
    "                     marker_color = '#C6AA97', showlegend=False), \n",
    "              row=4, col=2)\n",
    "fig.add_trace(go.Histogram(x=heart[heart.HeartDisease==1]['Oldpeak'], histnorm='probability density', \n",
    "                           marker=dict(color='#AF4343', line=dict(width=1, color='#000000')),\n",
    "                           opacity=0.8, name=\"Heart Disease\", showlegend=False),\n",
    "             row=5, col=1)\n",
    "fig.add_trace(go.Histogram(x=heart[heart.HeartDisease==0]['Oldpeak'], histnorm='probability density', \n",
    "                           marker=dict(color='#C6AA97', line=dict(width=1, color='#333333')), \n",
    "                           opacity=0.75, name=\"No Disease\", showlegend=False),\n",
    "              row=5, col=1)\n",
    "fig.add_trace(go.Box(y=heart[heart.HeartDisease==1]['Oldpeak'], name=\"Heart Disease\", \n",
    "                     marker_color = '#AF4343', showlegend=False),\n",
    "              row=5, col=2)\n",
    "fig.add_trace(go.Box(y=heart[heart.HeartDisease==0]['Oldpeak'], name=\"No Disease\", \n",
    "                     marker_color = '#C6AA97', showlegend=False), \n",
    "              row=5, col=2)\n",
    "fig.update_layout(title=\"Heart Disease Distributions\", \n",
    "                  xaxis1_title=\"Age, in years\", yaxis1_title='Probability Density', \n",
    "                  yaxis2_title='Age, in years',\n",
    "                  xaxis3_title=\"Blood Pressure, mmHg\", yaxis3_title='Probability Density', \n",
    "                  yaxis4_title=\"Blood Pressure, mmHg\",\n",
    "                  xaxis5_title=\"Cholesterol, mg/dl\", yaxis5_title='Probability Density',\n",
    "                  yaxis6_title=\"Cholesterol, mg/dl\",\n",
    "                  xaxis7_title=\"Heart Rate, bpm\", yaxis7_title='Probability Density', \n",
    "                  yaxis8_title=\"Heart Rate, bpm\",\n",
    "                  xaxis9_title=\"ST Segment Depression, mm\", yaxis9_title='Probability Density',\n",
    "                  yaxis10_title=\"ST Segment Depression, mm\",\n",
    "                  barmode='overlay', showlegend=True, template=temp,\n",
    "                  legend=dict(orientation=\"h\", yanchor=\"bottom\", y=1.01, xanchor=\"right\", x=.95),\n",
    "                  height=2000, width=800)\n",
    "fig.update_xaxes(showline=True, linewidth=1, linecolor='black', zeroline=False)\n",
    "fig.update_yaxes(showline=False, zeroline=False)\n",
    "fig.write_image('data/fig2.svg')"
   ]
  },
  {
   "cell_type": "markdown",
   "id": "450710f5",
   "metadata": {},
   "source": [
    "![fig2](data/fig2.svg)"
   ]
  },
  {
   "cell_type": "markdown",
   "id": "b08ea4c0",
   "metadata": {
    "papermill": {
     "duration": 0.076219,
     "end_time": "2022-01-20T06:54:45.183339",
     "exception": false,
     "start_time": "2022-01-20T06:54:45.107120",
     "status": "completed"
    },
    "tags": []
   },
   "source": [
    "## <b><span style='color:#CB7272'>3.1</span> | Observations based on the distributions between groups</b>\n",
    "- **Age:** In patients with heart disease, there is a smaller spread in the boxplot with the majority of patients between the ages of 51 to 62. There are also a few younger outliers in this group that are below the lower whisker. In patients without heart disease, there is a slightly wider variation in age that is more evenly distributed, with no outliers. The majority of patients in this group are within a younger age range of 43 to 57.\n",
    "- **Systolic Blood Pressure:** The boxplots between the groups are quite similar. Both have upper and lower outliers, with most patients' blood pressure in the range of 120 to 145 mmHg. The median blood pressure is about 130 mmHg in both groups.\n",
    "- **Cholesterol:** The distribution of cholesterol appears to be skewed to the right, especially in patients with heart disease where there are a large number of observations missing cholesterol levels that were entered as 0. These values will be addressed in the data cleaning section.\n",
    "- **Heart Rate:** Patients without heart disease are able to reach higher maximum heart rates than patients with heart disease, with a median heart rate of 150 beats per minute versus a median of 126 beats per minute in cardiovascular patients. \n",
    "- **ST Segment Depression (`OldPeak`):** There is a notable difference in the distribution of ST segment depression between the groups. In patients with heart disease, there is more variability in ST depression with several larger outliers. Most patients in this group have ST depressions between 0 to 2 mm with a median of 1.2 mm. In patients without heart disease, the range is smaller comparatively, between 0 to 0.6 mm, with a median ST depression of 0 mm, although the distribution of this group exhibits more skewness overall. "
   ]
  },
  {
   "cell_type": "code",
   "execution_count": 5,
   "id": "5b5a113c",
   "metadata": {
    "_kg_hide-input": true,
    "execution": {
     "iopub.execute_input": "2022-01-20T06:54:45.339069Z",
     "iopub.status.busy": "2022-01-20T06:54:45.338352Z",
     "iopub.status.idle": "2022-01-20T06:54:46.137984Z",
     "shell.execute_reply": "2022-01-20T06:54:46.138500Z",
     "shell.execute_reply.started": "2022-01-20T06:33:51.736346Z"
    },
    "papermill": {
     "duration": 0.879056,
     "end_time": "2022-01-20T06:54:46.138700",
     "exception": false,
     "start_time": "2022-01-20T06:54:45.259644",
     "status": "completed"
    },
    "tags": []
   },
   "outputs": [],
   "source": [
    "# Scatter plots\n",
    "hd=heart.HeartDisease.apply(lambda x: 'Heart Disease' if x==1 else 'No Disease')\n",
    "fig = px.scatter_matrix(heart, \n",
    "                        dimensions=[\"Age\", \"Cholesterol\", \"RestingBP\", \"MaxHR\", \"Oldpeak\"],\n",
    "                        color=hd, color_discrete_sequence=['#C6AA97','#AF4343'])\n",
    "fig.update_traces(marker=dict(line_color='white', size=7, opacity=.7, line_width=0.5), \n",
    "                  diagonal_visible=False, showupperhalf=False)\n",
    "fig.update_layout(title='Heart Disease Pair Plots', template=temp, legend_title=\"\",\n",
    "                  width=900, height=700)\n",
    "fig.write_image('data/fig3.svg')\n",
    "\n",
    "# Correlations\n",
    "corr=heart.corr()\n",
    "x = corr.columns.tolist() \n",
    "y = corr.index.tolist()\n",
    "z = corr.values\n",
    "text = corr.values.round(2)\n",
    "\n",
    "fig = ff.create_annotated_heatmap(z=z, x=x, y=y, annotation_text=text, colorscale='matter', \n",
    "                                  reversescale=True, showscale=True,\n",
    "                                  hovertemplate=\"Correlation of %{x} and %{y}= %{z:.3f}\")\n",
    "fig.update_layout(template=temp, title=\"Heart Disease Correlations\")\n",
    "fig.write_image('data/fig4.svg')"
   ]
  },
  {
   "cell_type": "markdown",
   "id": "548330bf",
   "metadata": {},
   "source": [
    "![fig3](data/fig3.svg)"
   ]
  },
  {
   "cell_type": "markdown",
   "id": "70151aff",
   "metadata": {},
   "source": [
    "![fig4](data/fig4.svg)"
   ]
  },
  {
   "cell_type": "markdown",
   "id": "12a2434b",
   "metadata": {
    "papermill": {
     "duration": 0.101529,
     "end_time": "2022-01-20T06:54:46.343002",
     "exception": false,
     "start_time": "2022-01-20T06:54:46.241473",
     "status": "completed"
    },
    "tags": []
   },
   "source": [
    "Based on the correlations and scatterplots, `HeartDisease` has the strongest positive association to `OldPeak` (correlation = 0.4) and the strongest negative association to `MaxHR` (correlation = -0.4). There is also a moderately strong relationship between `Age` and `MaxHR` of -0.38. As age increases, heart rate tends to decrease. "
   ]
  },
  {
   "cell_type": "code",
   "execution_count": 6,
   "id": "aa362bd6",
   "metadata": {
    "_kg_hide-input": true,
    "execution": {
     "iopub.execute_input": "2022-01-20T06:54:46.557001Z",
     "iopub.status.busy": "2022-01-20T06:54:46.556227Z",
     "iopub.status.idle": "2022-01-20T06:54:46.686056Z",
     "shell.execute_reply": "2022-01-20T06:54:46.686618Z",
     "shell.execute_reply.started": "2022-01-20T06:33:51.889514Z"
    },
    "papermill": {
     "duration": 0.241505,
     "end_time": "2022-01-20T06:54:46.686820",
     "exception": false,
     "start_time": "2022-01-20T06:54:46.445315",
     "status": "completed"
    },
    "tags": []
   },
   "outputs": [],
   "source": [
    "# Plot 1\n",
    "p=heart.groupby('FastingBS')['HeartDisease'].value_counts(normalize=True)\n",
    "p=p.mul(100).rename('pct').reset_index().query('FastingBS==1')\n",
    "x=p.HeartDisease.apply(lambda x: 'Heart Disease' if x==1 else 'No Disease').unique()\n",
    "\n",
    "# Plot 2\n",
    "p2=heart.groupby('ExerciseAngina')['HeartDisease'].value_counts(normalize=True)\n",
    "p2=p2.mul(100).rename('pct').reset_index().query('ExerciseAngina==\"Y\"')\n",
    "x2=p2.ExerciseAngina.apply(lambda x: 'Exercise Angina' if x=='Y' else 'No Angina').unique()\n",
    "\n",
    "# Plot 3\n",
    "p3=heart.groupby('RestingECG')['HeartDisease'].value_counts(normalize=True)\n",
    "p3=p3.mul(100).rename('pct').reset_index()\n",
    "x3=p3.RestingECG.unique()[::-1]\n",
    "y5=p3[p3.HeartDisease==1]['pct'][::-1]\n",
    "y6=p3[p3.HeartDisease==0]['pct'][::-1]\n",
    "\n",
    "# Plot 4\n",
    "p4=heart.groupby('ST_Slope')['HeartDisease'].value_counts(normalize=True)\n",
    "p4=p4.mul(100).rename('pct').reset_index()\n",
    "x4=p4.ST_Slope.unique()\n",
    "y7=p4[p4.HeartDisease==1]['pct']\n",
    "y8=p4[p4.HeartDisease==0]['pct']\n",
    "\n",
    "\n",
    "fig = make_subplots(rows=3, cols=2, \n",
    "                    specs=[[{}, {}], [{'colspan': 2}, None], [{'colspan': 2}, None]],\n",
    "                    subplot_titles=(\"Prevalence of Heart Disease in<br>Patients with Diabetes\",\n",
    "                                    \"Prevalence of Heart Disease in Patients<br>with Exercise Angina\",\n",
    "                                    \"Prevalence of Heart Disease by Resting ECG\", \n",
    "                                    \"Prevalence of Heart Disease by ST Slope\"))\n",
    "\n",
    "# Plot 1\n",
    "fig.add_trace(go.Bar(x=x, y=p.pct, name='Heart Disease', text=p.pct, textposition='outside',\n",
    "                     texttemplate='%{text:.1f}%', width=.8, showlegend=False,\n",
    "                     hovertemplate='Prevalence of %{x} among patients with Diabetes = %{y:.2f}%<extra></extra>',\n",
    "                     marker=dict(color=['#AF4343', '#C6AA97'], opacity=0.8)), row=1,col=1) \n",
    "\n",
    "# Plot 2\n",
    "fig.add_trace(go.Bar(x=x, y=p2.pct, name='Heart Disease', text=p2.pct, textposition='outside',\n",
    "                     texttemplate='%{text:.1f}%', width=.8, showlegend=False,\n",
    "                     hovertemplate='Prevalence of %{x} among patients with Exercise Angina = %{y:.2f}%<extra></extra>',\n",
    "                     marker=dict(color=['#AF4343', '#C6AA97'], opacity=0.8)), row=1,col=2)\n",
    "# Plot 3\n",
    "fig.add_trace(go.Bar(x=x3, y=y5, name='Heart Disease', text=y5, textposition='outside',\n",
    "                     texttemplate='%{text:.1f}%', width=0.4, \n",
    "                     hovertemplate='Proportion of Heart Disease in patients with %{x} ECG = %{y:.2f}%<extra></extra>',\n",
    "                     marker=dict(color='#AF4343', opacity=0.8)), row=2,col=1)\n",
    "fig.add_trace(go.Bar(x=x3, y=y6, name='No Disease', text=y6, textposition='outside',\n",
    "                     texttemplate='%{text:.1f}%', width=0.4, \n",
    "                     hovertemplate='Proportion of Non-Cardiovascular patients with %{x} ECG = %{y:.2f}%<extra></extra>',\n",
    "                     marker=dict(color='#C6AA97', opacity=0.8)), row=2,col=1)\n",
    "\n",
    "# Plot 4\n",
    "fig.add_trace(go.Bar(x=x4, y=y7, name='Heart Disease', text=y7, textposition='outside',\n",
    "                     texttemplate='%{text:.1f}%', width=0.4, showlegend=False,\n",
    "                     hovertemplate='Proportion of Heart Disease in patients with %{x} ST Slope = %{y:.2f}%<extra></extra>',\n",
    "                     marker=dict(color='#AF4343', opacity=0.8)), row=3,col=1)\n",
    "fig.add_trace(go.Bar(x=x4, y=y8, name='No Disease', text=y8, textposition='outside',\n",
    "                     texttemplate='%{text:.1f}%', width=0.4, showlegend=False,\n",
    "                     hovertemplate='Proportion of Non-Cardiovascular patients with %{x} ST Slope = %{y:.2f}%<extra></extra>',\n",
    "                     marker=dict(color='#C6AA97', opacity=0.8)), row=3,col=1)\n",
    "\n",
    "fig.update_traces(marker=dict(line=dict(width=1, color='#000000')))\n",
    "fig.update_layout(showlegend=True, template=temp, \n",
    "                  barmode='group', bargap=.15, height=1500, width=700,\n",
    "                  legend=dict(orientation=\"h\", yanchor=\"bottom\", y=.585, xanchor=\"right\", x=.98),\n",
    "                  yaxis1_range=[0,99], yaxis1_ticksuffix='%',\n",
    "                  yaxis2_range=[0,99], yaxis2_ticksuffix='%',\n",
    "                  yaxis3_range=[0,95], yaxis3_ticksuffix='%', xaxis3_title=\"Resting ECG Results\",\n",
    "                  yaxis4_range=[0,99], yaxis4_ticksuffix='%', xaxis4_title=\"Slope of ST segment during peak exercise\")\n",
    "fig.write_image('data/fig5.svg')"
   ]
  },
  {
   "cell_type": "markdown",
   "id": "80cb171e",
   "metadata": {},
   "source": [
    "![fig5](data/fig5.svg)"
   ]
  },
  {
   "cell_type": "markdown",
   "id": "e4e3a524",
   "metadata": {
    "papermill": {
     "duration": 0.109219,
     "end_time": "2022-01-20T06:54:46.907834",
     "exception": false,
     "start_time": "2022-01-20T06:54:46.798615",
     "status": "completed"
    },
    "tags": []
   },
   "source": [
    "## <b><span style='color:#CB7272'>3.2</span> | Inference of heart disease in categorical variables</b>\n",
    "- In patients with diabetes, nearly 80% have heart disease. \n",
    "- The prevalence of heart disease is even higher in patients with exercise angina at over 85%.\n",
    "- Based on the resting ECG test results, over 65% of patients who were diagnosed with heart disease had ST-T wave abnormalities in their ECG, the highest proportion among the groups.\n",
    "- Patients with a Flat or Downward ST Slope while exercising have the highest prevalence of cardiovascular disease at 82.8% and 77.8%, respectively."
   ]
  },
  {
   "cell_type": "code",
   "execution_count": 7,
   "id": "abe609bf",
   "metadata": {
    "_kg_hide-input": true,
    "execution": {
     "iopub.execute_input": "2022-01-20T06:54:47.132566Z",
     "iopub.status.busy": "2022-01-20T06:54:47.131829Z",
     "iopub.status.idle": "2022-01-20T06:54:47.221398Z",
     "shell.execute_reply": "2022-01-20T06:54:47.220857Z",
     "shell.execute_reply.started": "2022-01-20T06:33:52.051574Z"
    },
    "papermill": {
     "duration": 0.202559,
     "end_time": "2022-01-20T06:54:47.221537",
     "exception": false,
     "start_time": "2022-01-20T06:54:47.018978",
     "status": "completed"
    },
    "tags": []
   },
   "outputs": [],
   "source": [
    "# Plot 1\n",
    "p1=heart.groupby('HeartDisease')['ChestPainType'].value_counts(normalize=True)\n",
    "p1=p1.mul(100).rename('pct').reset_index()\n",
    "x1=p1.HeartDisease.apply(lambda x: 'Heart Disease' if x==1 else 'No Disease').unique()[::-1]\n",
    "y0=p1[p1.ChestPainType=='ASY']['pct'][::-1]\n",
    "y1=p1[p1.ChestPainType=='NAP']['pct'][::-1]\n",
    "y2=p1[p1.ChestPainType=='ATA']['pct'][::-1]\n",
    "y3=p1[p1.ChestPainType=='TA']['pct'][::-1]\n",
    "\n",
    "# Plot 2\n",
    "p2=heart.groupby('HeartDisease')['Sex'].value_counts(normalize=True)\n",
    "p2=p2.mul(100).rename('pct').reset_index()\n",
    "x2=p2.HeartDisease.apply(lambda x: 'Heart Disease' if x==1 else 'No Disease').unique()[::-1]\n",
    "y4=p2[p2.Sex=='M']['pct'][::-1]\n",
    "y5=p2[p2.Sex=='F']['pct'][::-1]\n",
    "\n",
    "\n",
    "fig = make_subplots(rows=2, cols=1, \n",
    "                    subplot_titles=(\"Prevalence of Chest Pain in Heart Disease\", \n",
    "                                    \"Gender Distribution in Heart Disease\"))\n",
    "# Plot 1\n",
    "fig.append_trace(go.Bar(x=x1, y=y0, name='Asymptomatic', text=y0, textposition='outside',\n",
    "                     texttemplate='%{text:.3s}%', width=0.2, legendgroup = '1',\n",
    "                     hovertemplate='Prevalence of Asymptomatic Chest Pain in Patients with %{x} = %{y:.2f}%',\n",
    "                     marker=dict(color='#E5BAB4', opacity=0.8)), row=1,col=1) #E2C3B5\n",
    "fig.append_trace(go.Bar(x=x1, y=y1, name='Non-Anginal Pain', text=y1, textposition='outside',\n",
    "                     texttemplate='%{text:.3s}%', width=0.2, legendgroup = '1',\n",
    "                     hovertemplate='Prevalence of Non-Anginal Pain in Patients with %{x} = %{y:.2f}%',\n",
    "                     marker=dict(color='#BE6B6B', opacity=0.8)), row=1,col=1)\n",
    "fig.append_trace(go.Bar(x=x1, y=y2, name='Atypical Angina', text=y2, textposition='outside',\n",
    "                     texttemplate='%{text:.3s}%', width=0.2, legendgroup = '1',\n",
    "                     hovertemplate='Prevalence E3C7BAof Atypical Angina in Patients with %{x} = %{y:.2f}%',\n",
    "                     marker=dict(color='#C1D2D1', opacity=0.8)), row=1,col=1)\n",
    "fig.append_trace(go.Bar(x=x1, y=y3, name='Typical Angina', text=y3, textposition='outside',\n",
    "                     texttemplate='%{text:.3s}%', width=0.2, legendgroup = '1',\n",
    "                     hovertemplate='Prevalence of Typical Angina in Patients with %{x} = %{y:.2f}%',\n",
    "                     marker=dict(color='#598885', opacity=0.8)), row=1,col=1)\n",
    "# Plot 2\n",
    "fig.append_trace(go.Bar(x=x2, y=y4, name='Men', text=y4, textposition='outside',\n",
    "                     texttemplate='%{text:.3s}%', width=0.4, legendgroup = '2',\n",
    "                     hovertemplate='Proportion of %{x} among Men = %{y:.2f}%',\n",
    "                     marker=dict(color='#646782', opacity=0.8)), row=2,col=1)\n",
    "fig.append_trace(go.Bar(x=x2, y=y5, name='Women', text=y5, textposition='outside',\n",
    "                     texttemplate='%{text:.3s}%', width=0.4, legendgroup = '2',\n",
    "                     hovertemplate='Proportion of %{x} among Women = %{y:.2f}%',\n",
    "                     marker=dict(color='#CDD5DE', opacity=0.8)), row=2,col=1)\n",
    "\n",
    "fig.update_traces(marker=dict(line=dict(width=1, color='#000000')))\n",
    "fig.update_layout(showlegend=True, template=temp, legend_tracegroupgap = 450, legend_title=\"Chest Pain Type\",\n",
    "                  barmode='group', bargap=.15, height=1000, width=700,\n",
    "                  yaxis1_range=[0,90], yaxis1_ticksuffix='%',\n",
    "                  yaxis2_range=[0,99], yaxis2_ticksuffix='%')\n",
    "fig.write_image('data/fig6.svg')"
   ]
  },
  {
   "cell_type": "markdown",
   "id": "c193d20c",
   "metadata": {},
   "source": [
    "![fig6](data/fig6.svg)"
   ]
  },
  {
   "cell_type": "markdown",
   "id": "4d737e06",
   "metadata": {
    "papermill": {
     "duration": 0.115254,
     "end_time": "2022-01-20T06:54:47.455286",
     "exception": false,
     "start_time": "2022-01-20T06:54:47.340032",
     "status": "completed"
    },
    "tags": []
   },
   "source": [
    "Among patients with heart disease, the absence of chest pain (asymptomatic) is the most common at over 77%. In addition, heart disease is more prevalent in men than women, occurring at a rate of nearly 9 to 1 in patients with a cardiovascular diagnosis."
   ]
  },
  {
   "cell_type": "markdown",
   "id": "7983d669",
   "metadata": {
    "papermill": {
     "duration": 0.116147,
     "end_time": "2022-01-20T06:54:47.688116",
     "exception": false,
     "start_time": "2022-01-20T06:54:47.571969",
     "status": "completed"
    },
    "tags": []
   },
   "source": [
    "## <b><span style='color:#CB7272'>3.3</span> | Chi-Squared Tests</b>"
   ]
  },
  {
   "cell_type": "code",
   "execution_count": 8,
   "id": "1b75e726",
   "metadata": {
    "_kg_hide-input": true,
    "execution": {
     "iopub.execute_input": "2022-01-20T06:54:47.926994Z",
     "iopub.status.busy": "2022-01-20T06:54:47.926334Z",
     "iopub.status.idle": "2022-01-20T06:54:47.987189Z",
     "shell.execute_reply": "2022-01-20T06:54:47.987856Z",
     "shell.execute_reply.started": "2022-01-20T06:33:52.159764Z"
    },
    "papermill": {
     "duration": 0.185231,
     "end_time": "2022-01-20T06:54:47.988046",
     "exception": false,
     "start_time": "2022-01-20T06:54:47.802815",
     "status": "completed"
    },
    "tags": []
   },
   "outputs": [
    {
     "data": {
      "text/html": [
       "<style type=\"text/css\">\n",
       "</style>\n",
       "<table id=\"T_43312_\">\n",
       "  <thead>\n",
       "    <tr>\n",
       "      <th class=\"blank level0\" >&nbsp;</th>\n",
       "      <th class=\"col_heading level0 col0\" >Chi Statistic</th>\n",
       "      <th class=\"col_heading level0 col1\" >P-value</th>\n",
       "    </tr>\n",
       "  </thead>\n",
       "  <tbody>\n",
       "    <tr>\n",
       "      <th id=\"T_43312_level0_row0\" class=\"row_heading level0 row0\" >ST_Slope</th>\n",
       "      <td id=\"T_43312_row0_col0\" class=\"data row0 col0\" >355.92</td>\n",
       "      <td id=\"T_43312_row0_col1\" class=\"data row0 col1\" >0.00000</td>\n",
       "    </tr>\n",
       "    <tr>\n",
       "      <th id=\"T_43312_level0_row1\" class=\"row_heading level0 row1\" >ChestPainType</th>\n",
       "      <td id=\"T_43312_row1_col0\" class=\"data row1 col0\" >268.07</td>\n",
       "      <td id=\"T_43312_row1_col1\" class=\"data row1 col1\" >0.00000</td>\n",
       "    </tr>\n",
       "    <tr>\n",
       "      <th id=\"T_43312_level0_row2\" class=\"row_heading level0 row2\" >ExerciseAngina</th>\n",
       "      <td id=\"T_43312_row2_col0\" class=\"data row2 col0\" >222.26</td>\n",
       "      <td id=\"T_43312_row2_col1\" class=\"data row2 col1\" >0.00000</td>\n",
       "    </tr>\n",
       "    <tr>\n",
       "      <th id=\"T_43312_level0_row3\" class=\"row_heading level0 row3\" >Sex</th>\n",
       "      <td id=\"T_43312_row3_col0\" class=\"data row3 col0\" >84.15</td>\n",
       "      <td id=\"T_43312_row3_col1\" class=\"data row3 col1\" >0.00000</td>\n",
       "    </tr>\n",
       "    <tr>\n",
       "      <th id=\"T_43312_level0_row4\" class=\"row_heading level0 row4\" >RestingECG</th>\n",
       "      <td id=\"T_43312_row4_col0\" class=\"data row4 col0\" >10.93</td>\n",
       "      <td id=\"T_43312_row4_col1\" class=\"data row4 col1\" >0.00423</td>\n",
       "    </tr>\n",
       "  </tbody>\n",
       "</table>\n"
      ],
      "text/plain": [
       "<pandas.io.formats.style.Styler at 0x1f03a087fa0>"
      ]
     },
     "metadata": {},
     "output_type": "display_data"
    }
   ],
   "source": [
    "# Chi Squared Tests\n",
    "chi_statistic=[]\n",
    "p_val=[]\n",
    "vars_rm=[]\n",
    "\n",
    "for i in heart[cat]:\n",
    "    observed=pd.crosstab(index=heart[\"HeartDisease\"], columns=heart[i])\n",
    "    stat, p, dof, expected=chi2_contingency(observed)\n",
    "    chi_statistic.append(stat)\n",
    "    p_val.append(p)\n",
    "    if p >= 0.05:\n",
    "        print(\"Heart Disease and {} are independent (p-value = {:.2f}).\\n\".format(i,p))\n",
    "        vars_rm.append(i)\n",
    "\n",
    "chi_df = pd.DataFrame(index=cat)\n",
    "chi_df[\"Chi Statistic\"] = chi_statistic\n",
    "chi_df[\"P-value\"] = p_val\n",
    "chi_df=chi_df.sort_values(\"P-value\", ascending=True)\n",
    "display(chi_df.style.format({\"Chi Statistic\": \"{:.2f}\", \"P-value\": \"{:.5f}\"}))"
   ]
  },
  {
   "cell_type": "markdown",
   "id": "c80c8308",
   "metadata": {
    "papermill": {
     "duration": 0.115609,
     "end_time": "2022-01-20T06:54:48.220593",
     "exception": false,
     "start_time": "2022-01-20T06:54:48.104984",
     "status": "completed"
    },
    "tags": []
   },
   "source": [
    "Based on the chi-squared results, all discrete variables have a significant association to Heart Disease with a p-value < 0.05, and will therefore be included as predictors in the models."
   ]
  },
  {
   "cell_type": "markdown",
   "id": "e418f87b",
   "metadata": {
    "papermill": {
     "duration": 0.114949,
     "end_time": "2022-01-20T06:54:48.451501",
     "exception": false,
     "start_time": "2022-01-20T06:54:48.336552",
     "status": "completed"
    },
    "tags": []
   },
   "source": [
    "# <div style=\"color:white;display:fill;border-radius:5px;background-color:#CB7272;font-size:140%;letter-spacing:0.5px;overflow:hidden\"><p style=\"padding:20px;color:white;overflow:hidden;margin:0\"><b>4 |</b> Data Cleaning</p></div>\n",
    "Before fitting the models, I am going to replace the missing values in `Cholesterol` that were entered as 0's. To do this, I will group the data by `HeartDisease` and fill the missing values with the mean for each group."
   ]
  },
  {
   "cell_type": "code",
   "execution_count": 9,
   "id": "ab9bd209",
   "metadata": {
    "_kg_hide-input": true,
    "execution": {
     "iopub.execute_input": "2022-01-20T06:54:48.713778Z",
     "iopub.status.busy": "2022-01-20T06:54:48.713098Z",
     "iopub.status.idle": "2022-01-20T06:54:48.735538Z",
     "shell.execute_reply": "2022-01-20T06:54:48.736172Z",
     "shell.execute_reply.started": "2022-01-20T06:33:52.232226Z"
    },
    "papermill": {
     "duration": 0.144942,
     "end_time": "2022-01-20T06:54:48.736346",
     "exception": false,
     "start_time": "2022-01-20T06:54:48.591404",
     "status": "completed"
    },
    "tags": []
   },
   "outputs": [
    {
     "data": {
      "text/html": [
       "<div>\n",
       "<style scoped>\n",
       "    .dataframe tbody tr th:only-of-type {\n",
       "        vertical-align: middle;\n",
       "    }\n",
       "\n",
       "    .dataframe tbody tr th {\n",
       "        vertical-align: top;\n",
       "    }\n",
       "\n",
       "    .dataframe thead th {\n",
       "        text-align: right;\n",
       "    }\n",
       "</style>\n",
       "<table border=\"1\" class=\"dataframe\">\n",
       "  <thead>\n",
       "    <tr style=\"text-align: right;\">\n",
       "      <th></th>\n",
       "      <th>count</th>\n",
       "      <th>mean</th>\n",
       "      <th>std</th>\n",
       "      <th>min</th>\n",
       "      <th>25%</th>\n",
       "      <th>50%</th>\n",
       "      <th>75%</th>\n",
       "      <th>max</th>\n",
       "    </tr>\n",
       "    <tr>\n",
       "      <th>HeartDisease</th>\n",
       "      <th></th>\n",
       "      <th></th>\n",
       "      <th></th>\n",
       "      <th></th>\n",
       "      <th></th>\n",
       "      <th></th>\n",
       "      <th></th>\n",
       "      <th></th>\n",
       "    </tr>\n",
       "  </thead>\n",
       "  <tbody>\n",
       "    <tr>\n",
       "      <th>0</th>\n",
       "      <td>410.0</td>\n",
       "      <td>238.769231</td>\n",
       "      <td>54.023250</td>\n",
       "      <td>85.0</td>\n",
       "      <td>204.0</td>\n",
       "      <td>235.000000</td>\n",
       "      <td>266.75</td>\n",
       "      <td>564.0</td>\n",
       "    </tr>\n",
       "    <tr>\n",
       "      <th>1</th>\n",
       "      <td>508.0</td>\n",
       "      <td>251.061798</td>\n",
       "      <td>52.267417</td>\n",
       "      <td>100.0</td>\n",
       "      <td>225.0</td>\n",
       "      <td>251.061798</td>\n",
       "      <td>267.00</td>\n",
       "      <td>603.0</td>\n",
       "    </tr>\n",
       "  </tbody>\n",
       "</table>\n",
       "</div>"
      ],
      "text/plain": [
       "              count        mean        std    min    25%         50%     75%  \\\n",
       "HeartDisease                                                                   \n",
       "0             410.0  238.769231  54.023250   85.0  204.0  235.000000  266.75   \n",
       "1             508.0  251.061798  52.267417  100.0  225.0  251.061798  267.00   \n",
       "\n",
       "                max  \n",
       "HeartDisease         \n",
       "0             564.0  \n",
       "1             603.0  "
      ]
     },
     "metadata": {},
     "output_type": "display_data"
    }
   ],
   "source": [
    "# Replace 0's in Cholesterol to mean by Heart Disease group\n",
    "heart['Cholesterol'] = heart['Cholesterol'].replace(0, np.nan)\n",
    "heart['Cholesterol'] = heart['Cholesterol'].fillna(heart.groupby('HeartDisease')['Cholesterol'].transform('mean'))\n",
    "display(pd.DataFrame(heart.groupby('HeartDisease')['Cholesterol'].describe()))"
   ]
  },
  {
   "cell_type": "markdown",
   "id": "b25d78a0",
   "metadata": {
    "papermill": {
     "duration": 0.141575,
     "end_time": "2022-01-20T06:54:49.012064",
     "exception": false,
     "start_time": "2022-01-20T06:54:48.870489",
     "status": "completed"
    },
    "tags": []
   },
   "source": [
    "# <div style=\"color:white;display:fill;border-radius:5px;background-color:#CB7272;font-size:140%;letter-spacing:0.5px;overflow:hidden\"><p style=\"padding:20px;color:white;overflow:hidden;margin:0\"><b>5 |</b> Shapley Feature Selection</p></div>\n",
    "To capture the relationships that may exist between the features in the data, I will add interaction terms to the models and determine whether these variables are influential in predicting heart disease based on their [Shapley Values](https://christophm.github.io/interpretable-ml-book/shap.html). SHAP (**Sh**apley **a**dditive ex**p**lanations) uses a game theory approach to determine the importance of each feature and can be used to explain individual model predictions as well as aggregated model results. To measure feature importance, Shap calculates the magnitude that each predictor contributes to the model's output based on the feature's marginal contributions averaged across all possible combinations of features in the model [(Molnar, 2019)](https://christophm.github.io/interpretable-ml-book/shapley.html#general-idea).\n",
    "\n",
    "After adding the interaction terms to the model, the number of features increases from 11 to 120. To perform feature selection using Shapley values, I will first fit a gradient boosting model, due to its speed and accuracy, with all variables included. Features that contribute to the model's prediction with a Shapley value of greater than 0.1 will be selected as the final predictors. I will then use these predictors to select the best performing model. Due to the multicollinearity between the interaction terms, I'll compare a variety of nonparametric tree-based methods to predict the risk of heart disease."
   ]
  },
  {
   "cell_type": "code",
   "execution_count": 10,
   "id": "48467f46",
   "metadata": {
    "_kg_hide-input": true,
    "execution": {
     "iopub.execute_input": "2022-01-20T06:54:49.331506Z",
     "iopub.status.busy": "2022-01-20T06:54:49.330745Z",
     "iopub.status.idle": "2022-01-20T06:54:49.356792Z",
     "shell.execute_reply": "2022-01-20T06:54:49.357540Z",
     "shell.execute_reply.started": "2022-01-20T06:33:52.262629Z"
    },
    "papermill": {
     "duration": 0.197048,
     "end_time": "2022-01-20T06:54:49.357791",
     "exception": false,
     "start_time": "2022-01-20T06:54:49.160743",
     "status": "completed"
    },
    "tags": []
   },
   "outputs": [
    {
     "name": "stdout",
     "output_type": "stream",
     "text": [
      "New data shape with interaction terms: (918, 120)\n"
     ]
    }
   ],
   "source": [
    "y=heart.HeartDisease\n",
    "X=heart.drop('HeartDisease', axis=1)\n",
    "X=pd.get_dummies(X, columns=cat, drop_first=True)\n",
    "pf = PolynomialFeatures(interaction_only=True, include_bias=False)\n",
    "X_pf = pd.DataFrame(data=pf.fit_transform(X), columns=pf.get_feature_names(X.columns))\n",
    "print(\"New data shape with interaction terms:\",X_pf.shape)"
   ]
  },
  {
   "cell_type": "code",
   "execution_count": 11,
   "id": "f0d21958",
   "metadata": {
    "_kg_hide-input": true,
    "execution": {
     "iopub.execute_input": "2022-01-20T06:54:49.617416Z",
     "iopub.status.busy": "2022-01-20T06:54:49.616270Z",
     "iopub.status.idle": "2022-01-20T06:54:49.658736Z",
     "shell.execute_reply": "2022-01-20T06:54:49.659368Z",
     "shell.execute_reply.started": "2022-01-20T06:33:52.290477Z"
    },
    "papermill": {
     "duration": 0.17447,
     "end_time": "2022-01-20T06:54:49.659583",
     "exception": false,
     "start_time": "2022-01-20T06:54:49.485113",
     "status": "completed"
    },
    "tags": []
   },
   "outputs": [
    {
     "name": "stdout",
     "output_type": "stream",
     "text": [
      "Train Shape: (504, 120)\n",
      "Validation Shape: (207, 120)\n",
      "Test Shape: (207, 120)\n"
     ]
    }
   ],
   "source": [
    "# Create training sets\n",
    "X_train, X2, y_train, y2 = train_test_split(X_pf, y, train_size=0.55, shuffle=True, \n",
    "                                            stratify=heart.HeartDisease, random_state=21)\n",
    "\n",
    "# Create validation and test sets\n",
    "X_val, X_test, y_val, y_test = train_test_split(X2, y2, test_size=0.5, shuffle=True,\n",
    "                                                stratify=y2, random_state=21)\n",
    "\n",
    "# Scale features\n",
    "scaler=StandardScaler()\n",
    "X_train=pd.DataFrame(scaler.fit_transform(X_train), columns=X_train.columns)\n",
    "X_val=pd.DataFrame(scaler.transform(X_val), columns=X_val.columns)\n",
    "X_test=pd.DataFrame(scaler.transform(X_test), columns=X_test.columns)\n",
    "print(\"Train Shape:\",X_train.shape)\n",
    "print(\"Validation Shape:\",X_val.shape)\n",
    "print(\"Test Shape:\",X_test.shape)"
   ]
  },
  {
   "cell_type": "code",
   "execution_count": 12,
   "id": "47314b73",
   "metadata": {
    "_kg_hide-input": true,
    "execution": {
     "iopub.execute_input": "2022-01-20T06:54:49.907264Z",
     "iopub.status.busy": "2022-01-20T06:54:49.906509Z",
     "iopub.status.idle": "2022-01-20T06:54:52.229643Z",
     "shell.execute_reply": "2022-01-20T06:54:52.228469Z",
     "shell.execute_reply.started": "2022-01-20T06:33:52.324948Z"
    },
    "papermill": {
     "duration": 2.44422,
     "end_time": "2022-01-20T06:54:52.229841",
     "exception": false,
     "start_time": "2022-01-20T06:54:49.785621",
     "status": "completed"
    },
    "tags": []
   },
   "outputs": [
    {
     "name": "stdout",
     "output_type": "stream",
     "text": [
      "[100]\ttraining's binary_logloss: 0.369797\ttraining's auc: 0.971262\tvalid_1's binary_logloss: 0.425896\tvalid_1's auc: 0.92242\n",
      "[200]\ttraining's binary_logloss: 0.237562\ttraining's auc: 0.98724\tvalid_1's binary_logloss: 0.351926\tvalid_1's auc: 0.928315\n",
      "[300]\ttraining's binary_logloss: 0.156989\ttraining's auc: 0.996018\tvalid_1's binary_logloss: 0.323827\tvalid_1's auc: 0.933032\n",
      "[400]\ttraining's binary_logloss: 0.104429\ttraining's auc: 0.99949\tvalid_1's binary_logloss: 0.313084\tvalid_1's auc: 0.937653\n",
      "[500]\ttraining's binary_logloss: 0.0689869\ttraining's auc: 0.999984\tvalid_1's binary_logloss: 0.321905\tvalid_1's auc: 0.936521\n"
     ]
    },
    {
     "data": {
      "text/plain": [
       "LGBMClassifier(learning_rate=0.01, n_estimators=500, random_state=92)"
      ]
     },
     "execution_count": 12,
     "metadata": {},
     "output_type": "execute_result"
    }
   ],
   "source": [
    "# Initial GBM model\n",
    "import shap\n",
    "lgbm = lgb.LGBMClassifier(n_estimators=500, learning_rate=0.01, max_depth=-1, random_state=92)\n",
    "lgbm.fit(X_train, y_train, \n",
    "         eval_set=[(X_train, y_train), (X_val, y_val)],\n",
    "         verbose=100,\n",
    "         eval_metric=['binary_logloss','auc'])"
   ]
  },
  {
   "cell_type": "markdown",
   "id": "5c388fdf",
   "metadata": {
    "papermill": {
     "duration": 0.117552,
     "end_time": "2022-01-20T06:54:52.480405",
     "exception": false,
     "start_time": "2022-01-20T06:54:52.362853",
     "status": "completed"
    },
    "tags": []
   },
   "source": [
    "# <div style=\"color:white;display:fill;border-radius:5px;background-color:#CB7272;font-size:140%;letter-spacing:0.5px;overflow:hidden\"><p style=\"padding:20px;color:white;overflow:hidden;margin:0\"><b>6 |</b> Feature Importance</p></div>"
   ]
  },
  {
   "cell_type": "code",
   "execution_count": 13,
   "id": "eea616a4",
   "metadata": {
    "_kg_hide-input": true,
    "execution": {
     "iopub.execute_input": "2022-01-20T06:54:52.724945Z",
     "iopub.status.busy": "2022-01-20T06:54:52.722923Z",
     "iopub.status.idle": "2022-01-20T06:55:04.042850Z",
     "shell.execute_reply": "2022-01-20T06:55:04.043378Z",
     "shell.execute_reply.started": "2022-01-20T06:33:53.402857Z"
    },
    "papermill": {
     "duration": 11.444969,
     "end_time": "2022-01-20T06:55:04.043562",
     "exception": false,
     "start_time": "2022-01-20T06:54:52.598593",
     "status": "completed"
    },
    "tags": []
   },
   "outputs": [
    {
     "data": {
      "image/png": "[encoded data removed]",
      "text/plain": [
       "<Figure size 648x864 with 2 Axes>"
      ]
     },
     "metadata": {
      "needs_background": "light"
     },
     "output_type": "display_data"
    }
   ],
   "source": [
    "sunset=LinearSegmentedColormap.from_list('sunset', [(0, '#2C3298'), (0.5, '#B53679'),\n",
    "                                                    (.75, '#F56C5B'), (1, '#FDDEA0')], N=256)\n",
    "explainer = shap.Explainer(lgbm, X_train)\n",
    "shap_values = explainer(X_train)\n",
    "shap.plots.beeswarm(shap_values, order=shap_values.abs.mean(0), max_display=20, \n",
    "                    color=sunset, plot_size=[9,12]) "
   ]
  },
  {
   "cell_type": "markdown",
   "id": "94023f33",
   "metadata": {
    "papermill": {
     "duration": 0.125898,
     "end_time": "2022-01-20T06:55:04.296180",
     "exception": false,
     "start_time": "2022-01-20T06:55:04.170282",
     "status": "completed"
    },
    "tags": []
   },
   "source": [
    "The summary plot of Shapley values shows the top 20 predictors of heart disease arranged in order of importance. Each point on the graph represents an observation from the training set. When the points are to the right of the 0-line, this indicates there is a higher likelihood of being diagnosed with heart disease, while points to the left indicate a lower likelihood. The values for each feature is shown by the color of the points, with light orange representing high feature values and dark blue representing low feature values. The shape of the points in each row is based on the amount of overlapping observations for that feature.\n",
    "\n",
    "Nearly all of the variables in the plot are interaction terms that were added to the model, along with three individual features, Cholesterol, Age, and Atypical Chest Pain. The variable in the first row is the interaction between `RestingBP` and `ST_Slope_Up`. Based on the feature's Shapley values, the risk of heart disease is lower in patients who have an upward ST slope and high blood pressure. For the second variable, `Sex_M ST_Slope_Flat`, the Shapley values indicate patients who are male and have a flat ST Slope are at a higher risk of cardiovascular disease. The fourth variable in the plot, `Cholesterol Sex_M`, shows that men who have high cholesterol are more likely to be diagnosed with heart disease.\n",
    "\n",
    "The order of importance in the summary plot is calculated by the feature's average absolute Shapley value, which measures how much the feature changes the predicted probability of heart disease on average. There are 18 features that contribute to the model's prediction by an absolute value of at least 0.1 on average. Below is a list of the final predictors selected and their feature importance. Among the most important predictors, `RestingBP` and `ST_Slope` appear in 5 of the top 20. "
   ]
  },
  {
   "cell_type": "code",
   "execution_count": 14,
   "id": "c2556eff",
   "metadata": {
    "_kg_hide-input": true,
    "execution": {
     "iopub.execute_input": "2022-01-20T06:55:04.549903Z",
     "iopub.status.busy": "2022-01-20T06:55:04.548851Z",
     "iopub.status.idle": "2022-01-20T06:55:04.568786Z",
     "shell.execute_reply": "2022-01-20T06:55:04.569342Z",
     "shell.execute_reply.started": "2022-01-20T06:34:03.920371Z"
    },
    "papermill": {
     "duration": 0.148522,
     "end_time": "2022-01-20T06:55:04.569527",
     "exception": false,
     "start_time": "2022-01-20T06:55:04.421005",
     "status": "completed"
    },
    "tags": []
   },
   "outputs": [
    {
     "data": {
      "text/html": [
       "<style type=\"text/css\">\n",
       "#T_30e5d_row0_col0 {\n",
       "  background-color: #fddea0;\n",
       "  color: #000000;\n",
       "}\n",
       "#T_30e5d_row1_col0 {\n",
       "  background-color: #fbc792;\n",
       "  color: #000000;\n",
       "}\n",
       "#T_30e5d_row2_col0 {\n",
       "  background-color: #f89c78;\n",
       "  color: #000000;\n",
       "}\n",
       "#T_30e5d_row3_col0 {\n",
       "  background-color: #c74571;\n",
       "  color: #f1f1f1;\n",
       "}\n",
       "#T_30e5d_row4_col0 {\n",
       "  background-color: #bd3c75;\n",
       "  color: #f1f1f1;\n",
       "}\n",
       "#T_30e5d_row5_col0 {\n",
       "  background-color: #a2357d;\n",
       "  color: #f1f1f1;\n",
       "}\n",
       "#T_30e5d_row6_col0 {\n",
       "  background-color: #9f357e;\n",
       "  color: #f1f1f1;\n",
       "}\n",
       "#T_30e5d_row7_col0 {\n",
       "  background-color: #753487;\n",
       "  color: #f1f1f1;\n",
       "}\n",
       "#T_30e5d_row8_col0 {\n",
       "  background-color: #743488;\n",
       "  color: #f1f1f1;\n",
       "}\n",
       "#T_30e5d_row9_col0, #T_30e5d_row10_col0 {\n",
       "  background-color: #713488;\n",
       "  color: #f1f1f1;\n",
       "}\n",
       "#T_30e5d_row11_col0 {\n",
       "  background-color: #703489;\n",
       "  color: #f1f1f1;\n",
       "}\n",
       "#T_30e5d_row12_col0 {\n",
       "  background-color: #6e3489;\n",
       "  color: #f1f1f1;\n",
       "}\n",
       "#T_30e5d_row13_col0 {\n",
       "  background-color: #6c3489;\n",
       "  color: #f1f1f1;\n",
       "}\n",
       "#T_30e5d_row14_col0 {\n",
       "  background-color: #65348b;\n",
       "  color: #f1f1f1;\n",
       "}\n",
       "#T_30e5d_row15_col0 {\n",
       "  background-color: #64348b;\n",
       "  color: #f1f1f1;\n",
       "}\n",
       "#T_30e5d_row16_col0 {\n",
       "  background-color: #62348c;\n",
       "  color: #f1f1f1;\n",
       "}\n",
       "#T_30e5d_row17_col0 {\n",
       "  background-color: #60348c;\n",
       "  color: #f1f1f1;\n",
       "}\n",
       "#T_30e5d_row18_col0 {\n",
       "  background-color: #59338e;\n",
       "  color: #f1f1f1;\n",
       "}\n",
       "</style>\n",
       "<table id=\"T_30e5d_\">\n",
       "  <thead>\n",
       "    <tr>\n",
       "      <th class=\"blank level0\" >&nbsp;</th>\n",
       "      <th class=\"col_heading level0 col0\" >Feature Importance</th>\n",
       "    </tr>\n",
       "  </thead>\n",
       "  <tbody>\n",
       "    <tr>\n",
       "      <th id=\"T_30e5d_level0_row0\" class=\"row_heading level0 row0\" >Cholesterol ST_Slope_Flat</th>\n",
       "      <td id=\"T_30e5d_row0_col0\" class=\"data row0 col0\" >0.941</td>\n",
       "    </tr>\n",
       "    <tr>\n",
       "      <th id=\"T_30e5d_level0_row1\" class=\"row_heading level0 row1\" >RestingBP ST_Slope_Up</th>\n",
       "      <td id=\"T_30e5d_row1_col0\" class=\"data row1 col0\" >0.569</td>\n",
       "    </tr>\n",
       "    <tr>\n",
       "      <th id=\"T_30e5d_level0_row2\" class=\"row_heading level0 row2\" >Sex_M ST_Slope_Flat</th>\n",
       "      <td id=\"T_30e5d_row2_col0\" class=\"data row2 col0\" >0.512</td>\n",
       "    </tr>\n",
       "    <tr>\n",
       "      <th id=\"T_30e5d_level0_row3\" class=\"row_heading level0 row3\" >ChestPainType_ATA RestingECG_Normal</th>\n",
       "      <td id=\"T_30e5d_row3_col0\" class=\"data row3 col0\" >0.341</td>\n",
       "    </tr>\n",
       "    <tr>\n",
       "      <th id=\"T_30e5d_level0_row4\" class=\"row_heading level0 row4\" >Cholesterol Sex_M</th>\n",
       "      <td id=\"T_30e5d_row4_col0\" class=\"data row4 col0\" >0.319</td>\n",
       "    </tr>\n",
       "    <tr>\n",
       "      <th id=\"T_30e5d_level0_row5\" class=\"row_heading level0 row5\" >Oldpeak Sex_M</th>\n",
       "      <td id=\"T_30e5d_row5_col0\" class=\"data row5 col0\" >0.260</td>\n",
       "    </tr>\n",
       "    <tr>\n",
       "      <th id=\"T_30e5d_level0_row6\" class=\"row_heading level0 row6\" >Cholesterol</th>\n",
       "      <td id=\"T_30e5d_row6_col0\" class=\"data row6 col0\" >0.252</td>\n",
       "    </tr>\n",
       "    <tr>\n",
       "      <th id=\"T_30e5d_level0_row7\" class=\"row_heading level0 row7\" >RestingBP ST_Slope_Flat</th>\n",
       "      <td id=\"T_30e5d_row7_col0\" class=\"data row7 col0\" >0.160</td>\n",
       "    </tr>\n",
       "    <tr>\n",
       "      <th id=\"T_30e5d_level0_row8\" class=\"row_heading level0 row8\" >Cholesterol RestingECG_Normal</th>\n",
       "      <td id=\"T_30e5d_row8_col0\" class=\"data row8 col0\" >0.159</td>\n",
       "    </tr>\n",
       "    <tr>\n",
       "      <th id=\"T_30e5d_level0_row9\" class=\"row_heading level0 row9\" >Age Sex_M</th>\n",
       "      <td id=\"T_30e5d_row9_col0\" class=\"data row9 col0\" >0.153</td>\n",
       "    </tr>\n",
       "    <tr>\n",
       "      <th id=\"T_30e5d_level0_row10\" class=\"row_heading level0 row10\" >RestingBP MaxHR</th>\n",
       "      <td id=\"T_30e5d_row10_col0\" class=\"data row10 col0\" >0.151</td>\n",
       "    </tr>\n",
       "    <tr>\n",
       "      <th id=\"T_30e5d_level0_row11\" class=\"row_heading level0 row11\" >Age MaxHR</th>\n",
       "      <td id=\"T_30e5d_row11_col0\" class=\"data row11 col0\" >0.150</td>\n",
       "    </tr>\n",
       "    <tr>\n",
       "      <th id=\"T_30e5d_level0_row12\" class=\"row_heading level0 row12\" >ChestPainType_ATA ST_Slope_Up</th>\n",
       "      <td id=\"T_30e5d_row12_col0\" class=\"data row12 col0\" >0.146</td>\n",
       "    </tr>\n",
       "    <tr>\n",
       "      <th id=\"T_30e5d_level0_row13\" class=\"row_heading level0 row13\" >ChestPainType_NAP ST_Slope_Up</th>\n",
       "      <td id=\"T_30e5d_row13_col0\" class=\"data row13 col0\" >0.144</td>\n",
       "    </tr>\n",
       "    <tr>\n",
       "      <th id=\"T_30e5d_level0_row14\" class=\"row_heading level0 row14\" >Age</th>\n",
       "      <td id=\"T_30e5d_row14_col0\" class=\"data row14 col0\" >0.127</td>\n",
       "    </tr>\n",
       "    <tr>\n",
       "      <th id=\"T_30e5d_level0_row15\" class=\"row_heading level0 row15\" >RestingBP Oldpeak</th>\n",
       "      <td id=\"T_30e5d_row15_col0\" class=\"data row15 col0\" >0.124</td>\n",
       "    </tr>\n",
       "    <tr>\n",
       "      <th id=\"T_30e5d_level0_row16\" class=\"row_heading level0 row16\" >RestingBP Cholesterol</th>\n",
       "      <td id=\"T_30e5d_row16_col0\" class=\"data row16 col0\" >0.118</td>\n",
       "    </tr>\n",
       "    <tr>\n",
       "      <th id=\"T_30e5d_level0_row17\" class=\"row_heading level0 row17\" >ChestPainType_ATA</th>\n",
       "      <td id=\"T_30e5d_row17_col0\" class=\"data row17 col0\" >0.115</td>\n",
       "    </tr>\n",
       "    <tr>\n",
       "      <th id=\"T_30e5d_level0_row18\" class=\"row_heading level0 row18\" >Oldpeak ExerciseAngina_Y</th>\n",
       "      <td id=\"T_30e5d_row18_col0\" class=\"data row18 col0\" >0.100</td>\n",
       "    </tr>\n",
       "  </tbody>\n",
       "</table>\n"
      ],
      "text/plain": [
       "<pandas.io.formats.style.Styler at 0x1f045271700>"
      ]
     },
     "execution_count": 14,
     "metadata": {},
     "output_type": "execute_result"
    }
   ],
   "source": [
    "ft_importance = pd.DataFrame({\"Feature Importance\":np.abs(shap_values.values).mean(0)}, index=X_train.columns)\n",
    "X_cols=ft_importance.query('`Feature Importance` > 0.1').sort_values(by=\"Feature Importance\", ascending=False)\n",
    "X_cols.style.background_gradient(cmap=sunset, vmin=.001, vmax=.6).format({\"Feature Importance\": \"{:.3f}\"})"
   ]
  },
  {
   "cell_type": "code",
   "execution_count": 15,
   "id": "7fd270b1",
   "metadata": {
    "_kg_hide-input": true,
    "execution": {
     "iopub.execute_input": "2022-01-20T06:55:04.835511Z",
     "iopub.status.busy": "2022-01-20T06:55:04.834740Z",
     "iopub.status.idle": "2022-01-20T06:55:04.837584Z",
     "shell.execute_reply": "2022-01-20T06:55:04.838143Z",
     "shell.execute_reply.started": "2022-01-20T06:34:03.922427Z"
    },
    "papermill": {
     "duration": 0.141402,
     "end_time": "2022-01-20T06:55:04.838330",
     "exception": false,
     "start_time": "2022-01-20T06:55:04.696928",
     "status": "completed"
    },
    "tags": []
   },
   "outputs": [
    {
     "name": "stdout",
     "output_type": "stream",
     "text": [
      "New Dataset Shapes with Shapley Values above 0.1:\n",
      "Train Shape: (504, 19)\n",
      "Validation Shape: (207, 19)\n",
      "Test Shape: (207, 19)\n"
     ]
    }
   ],
   "source": [
    "# New datasets \n",
    "X_train_shap=X_train[X_cols.index]\n",
    "X_val_shap=X_val[X_cols.index]\n",
    "X_test_shap=X_test[X_cols.index]\n",
    "print(\"New Dataset Shapes with Shapley Values above 0.1:\")\n",
    "print(\"Train Shape:\",X_train_shap.shape)\n",
    "print(\"Validation Shape:\",X_val_shap.shape)\n",
    "print(\"Test Shape:\",X_test_shap.shape)"
   ]
  },
  {
   "cell_type": "markdown",
   "id": "f2fdd9ef",
   "metadata": {
    "papermill": {
     "duration": 0.126884,
     "end_time": "2022-01-20T06:55:05.093689",
     "exception": false,
     "start_time": "2022-01-20T06:55:04.966805",
     "status": "completed"
    },
    "tags": []
   },
   "source": [
    "# <div style=\"color:white;display:fill;border-radius:5px;background-color:#CB7272;font-size:140%;letter-spacing:0.5px;overflow:hidden\"><p style=\"padding:20px;color:white;overflow:hidden;margin:0\"><b>7 |</b> Heart Disease Predictions</p></div>\n",
    "## <b><span style='color:#CB7272'>7.1</span> | Extra Trees Classifier</b>"
   ]
  },
  {
   "cell_type": "code",
   "execution_count": 16,
   "id": "2d13fa57",
   "metadata": {
    "_kg_hide-input": true,
    "execution": {
     "iopub.execute_input": "2022-01-20T06:55:05.348023Z",
     "iopub.status.busy": "2022-01-20T06:55:05.347295Z",
     "iopub.status.idle": "2022-01-20T06:56:50.928310Z",
     "shell.execute_reply": "2022-01-20T06:56:50.928887Z",
     "shell.execute_reply.started": "2022-01-20T06:34:03.924384Z"
    },
    "papermill": {
     "duration": 105.710624,
     "end_time": "2022-01-20T06:56:50.929083",
     "exception": false,
     "start_time": "2022-01-20T06:55:05.218459",
     "status": "completed"
    },
    "tags": []
   },
   "outputs": [
    {
     "name": "stdout",
     "output_type": "stream",
     "text": [
      "Grid Search CV Best AUC = 0.920\n",
      "Best Params: ExtraTreesClassifier(class_weight='balanced', criterion='entropy', max_depth=15,\n",
      "                     min_samples_leaf=4, n_estimators=300, random_state=92)\n",
      "\n",
      "84.54% Accuracy on the validation set with a standard deviation of 6.7\n",
      "86.26% F1-score on the validation set with a standard deviation of 6.6\n"
     ]
    }
   ],
   "source": [
    "et=ExtraTreesClassifier(class_weight='balanced', random_state=92)\n",
    "\n",
    "# Parameter tuning\n",
    "grid = {'n_estimators': [int(x) for x in np.linspace(start = 100, stop = 500, num = 5)],\n",
    "        'criterion':['gini', 'entropy'],\n",
    "        'max_depth': [5, 10, 15, 20],\n",
    "        'min_samples_split': [2, 4, 6],\n",
    "        'min_samples_leaf':  [4, 5, 6]}\n",
    "\n",
    "et_cv=RandomizedSearchCV(estimator=et, param_distributions=grid, scoring='roc_auc', \n",
    "                         n_iter=100, cv=5, random_state=42, n_jobs=-1)\n",
    "et_cv.fit(X_train_shap, y_train)\n",
    "\n",
    "# Best estimator\n",
    "ext=et_cv.best_estimator_\n",
    "\n",
    "# CV Scores\n",
    "k_fold = StratifiedKFold(n_splits=8, shuffle=True, random_state=21) \n",
    "\n",
    "et_f1_cv=cross_val_score(ext, X_val_shap, y_val, cv=k_fold, scoring='f1', n_jobs=-1)\n",
    "et_f1 = pd.DataFrame(data={'Score': et_f1_cv, 'Metric': 'F1', 'Model': 'Extra Trees'})\n",
    "et_acc_cv=cross_val_score(ext, X_val_shap, y_val, cv=k_fold, scoring='accuracy', n_jobs=-1)\n",
    "et_acc = pd.DataFrame(data={'Score': et_acc_cv, 'Metric': 'Accuracy', 'Model': 'Extra Trees'})\n",
    "et_df=pd.concat([et_f1, et_acc], axis=0)\n",
    "\n",
    "print(\"Grid Search CV Best AUC = {:.3f}\\nBest Params: {}\".format(et_cv.best_score_, et_cv.best_estimator_))\n",
    "print()\n",
    "print(\"{:.2f}% Accuracy on the validation set with a standard deviation of {:.1f}\"\\\n",
    "      .format(et_acc_cv.mean()*100, et_acc_cv.std()*100))\n",
    "print(\"{:.2f}% F1-score on the validation set with a standard deviation of {:.1f}\"\\\n",
    "      .format(et_f1_cv.mean()*100, et_f1_cv.std()*100))"
   ]
  },
  {
   "cell_type": "markdown",
   "id": "1829a92b",
   "metadata": {
    "papermill": {
     "duration": 0.124143,
     "end_time": "2022-01-20T06:56:51.177347",
     "exception": false,
     "start_time": "2022-01-20T06:56:51.053204",
     "status": "completed"
    },
    "tags": []
   },
   "source": [
    "Using the Shapley features above 0.1, the Extra Trees classifier produces an Area Under the Curve (AUC) of 0.92. After tuning the hyperparameters in the model, the classifier produces an average accuracy of 84.5% and an F1-score of 86.3% on the validation set, with a standard deviation of about 6.7."
   ]
  },
  {
   "cell_type": "markdown",
   "id": "fd2b2aa1",
   "metadata": {
    "papermill": {
     "duration": 0.123186,
     "end_time": "2022-01-20T06:56:51.424469",
     "exception": false,
     "start_time": "2022-01-20T06:56:51.301283",
     "status": "completed"
    },
    "tags": []
   },
   "source": [
    "## <b><span style='color:#CB7272'>7.2</span> | Random Forest Classifier</b>"
   ]
  },
  {
   "cell_type": "code",
   "execution_count": 17,
   "id": "4ab133af",
   "metadata": {
    "_kg_hide-input": true,
    "execution": {
     "iopub.execute_input": "2022-01-20T06:56:51.682230Z",
     "iopub.status.busy": "2022-01-20T06:56:51.681080Z",
     "iopub.status.idle": "2022-01-20T06:59:12.357559Z",
     "shell.execute_reply": "2022-01-20T06:59:12.358130Z",
     "shell.execute_reply.started": "2022-01-20T06:34:03.926176Z"
    },
    "papermill": {
     "duration": 140.80903,
     "end_time": "2022-01-20T06:59:12.358338",
     "exception": false,
     "start_time": "2022-01-20T06:56:51.549308",
     "status": "completed"
    },
    "tags": []
   },
   "outputs": [
    {
     "name": "stdout",
     "output_type": "stream",
     "text": [
      "Grid Search CV Best AUC = 0.924\n",
      "Best Params: RandomForestClassifier(class_weight='balanced', max_depth=14,\n",
      "                       max_features='sqrt', max_leaf_nodes=15,\n",
      "                       min_impurity_decrease=0.001, min_samples_leaf=3,\n",
      "                       min_samples_split=10, n_estimators=200, random_state=92)\n",
      "\n",
      "85.52% Accuracy on the validation set with a standard deviation of 6.0\n",
      "86.99% F1-score on the validation with set a standard deviation of 6.0\n"
     ]
    }
   ],
   "source": [
    "rf=RandomForestClassifier(class_weight='balanced', random_state=92)\n",
    "\n",
    "# Parameter tuning\n",
    "grid = {'n_estimators': [int(x) for x in np.linspace(start = 100, stop = 500, num = 5)],\n",
    "        'criterion':['gini', 'entropy'],\n",
    "        'max_depth': [3, 7, 14, 21],\n",
    "        'min_samples_split': [2, 5, 10],\n",
    "        'min_samples_leaf':  [3, 5, 7],\n",
    "        'max_features': [None, 'sqrt'],\n",
    "        'max_leaf_nodes': [None, 5, 10, 15, 20],\n",
    "        'min_impurity_decrease': [0.001, 0.01, 0.05, 0.1],\n",
    "        'bootstrap': [True, False]}\n",
    "\n",
    "rf_cv=RandomizedSearchCV(estimator=rf, param_distributions=grid, scoring='roc_auc', \n",
    "                         n_iter=100, cv=5, random_state=42, n_jobs=-1)\n",
    "rf_cv.fit(X_train_shap, y_train)\n",
    "\n",
    "# Best estimator\n",
    "rf=rf_cv.best_estimator_\n",
    "\n",
    "# CV Scores\n",
    "rf_f1_cv=cross_val_score(rf, X_val_shap, y_val, cv=k_fold, scoring='f1', n_jobs=-1)\n",
    "rf_f1 = pd.DataFrame(data={'Score': rf_f1_cv, 'Metric': 'F1', 'Model': 'Random Forest'})\n",
    "rf_acc_cv=cross_val_score(rf, X_val_shap, y_val, cv=k_fold, scoring='accuracy', n_jobs=-1)\n",
    "rf_acc = pd.DataFrame(data={'Score': rf_acc_cv, 'Metric': 'Accuracy', 'Model': 'Random Forest'})\n",
    "rf_df=pd.concat([rf_f1, rf_acc], axis=0)\n",
    "\n",
    "print(\"Grid Search CV Best AUC = {:.3f}\\nBest Params: {}\".format(rf_cv.best_score_, rf_cv.best_estimator_))\n",
    "print()\n",
    "print(\"{:.2f}% Accuracy on the validation set with a standard deviation of {:.1f}\"\\\n",
    "      .format(rf_acc_cv.mean()*100, rf_acc_cv.std()*100))\n",
    "print(\"{:.2f}% F1-score on the validation with set a standard deviation of {:.1f}\"\\\n",
    "      .format(rf_f1_cv.mean()*100, rf_f1_cv.std()*100))"
   ]
  },
  {
   "cell_type": "markdown",
   "id": "cfc78182",
   "metadata": {
    "papermill": {
     "duration": 0.147725,
     "end_time": "2022-01-20T06:59:12.633202",
     "exception": false,
     "start_time": "2022-01-20T06:59:12.485477",
     "status": "completed"
    },
    "tags": []
   },
   "source": [
    "The Random Forest model improves on the performance of the Extra Trees classifier across all 3 metrics, with an Area Under the Curve of 0.924. On the validation set, the model produces an average accuracy of 85.5% and an F1-score of about 87%."
   ]
  },
  {
   "cell_type": "markdown",
   "id": "210007b9",
   "metadata": {
    "papermill": {
     "duration": 0.125827,
     "end_time": "2022-01-20T06:59:12.884703",
     "exception": false,
     "start_time": "2022-01-20T06:59:12.758876",
     "status": "completed"
    },
    "tags": []
   },
   "source": [
    "## <b><span style='color:#CB7272'>7.3</span> | AdaBoost Classifier</b>"
   ]
  },
  {
   "cell_type": "code",
   "execution_count": 18,
   "id": "826956db",
   "metadata": {
    "_kg_hide-input": true,
    "execution": {
     "iopub.execute_input": "2022-01-20T06:59:13.139395Z",
     "iopub.status.busy": "2022-01-20T06:59:13.138591Z",
     "iopub.status.idle": "2022-01-20T06:59:48.532759Z",
     "shell.execute_reply": "2022-01-20T06:59:48.533368Z",
     "shell.execute_reply.started": "2022-01-20T06:34:03.928372Z"
    },
    "papermill": {
     "duration": 35.52272,
     "end_time": "2022-01-20T06:59:48.533547",
     "exception": false,
     "start_time": "2022-01-20T06:59:13.010827",
     "status": "completed"
    },
    "tags": []
   },
   "outputs": [
    {
     "name": "stdout",
     "output_type": "stream",
     "text": [
      "Grid Search CV Best AUC = 0.897\n",
      "Best Params: AdaBoostClassifier(base_estimator=DecisionTreeClassifier(class_weight='balanced',\n",
      "                                                         max_depth=1),\n",
      "                   learning_rate=0.25, n_estimators=100, random_state=92)\n",
      "\n",
      "84.06% accuracy on the validation set with a standard deviation of 4.0\n",
      "85.35% F1-score on the validation set with a standard deviation of 3.7\n"
     ]
    }
   ],
   "source": [
    "ada = AdaBoostClassifier(DecisionTreeClassifier(max_depth=1, class_weight='balanced'), random_state=92)\n",
    "\n",
    "# Parameter tuning\n",
    "grid = {'n_estimators': [int(x) for x in np.linspace(start = 100, stop = 500, num = 5)],\n",
    "        'learning_rate': [0.25, 0.5, 0.75, 0.9]}\n",
    "\n",
    "ada_cv=RandomizedSearchCV(estimator=ada, param_distributions=grid, scoring='roc_auc', \n",
    "                          n_iter=20, cv=5, random_state=92, n_jobs=-1, error_score='raise')\n",
    "\n",
    "ada_cv.fit(X_train_shap, y_train)\n",
    "\n",
    "# Best estimator\n",
    "ada = ada_cv.best_estimator_\n",
    "\n",
    "# CV Scores\n",
    "ada_f1_cv=cross_val_score(ada, X_val_shap, y_val, cv=k_fold, scoring='f1', n_jobs=-1)\n",
    "ada_f1 = pd.DataFrame(data={'Score': ada_f1_cv, 'Metric': 'F1', 'Model': 'AdaBoost'})\n",
    "ada_acc_cv=cross_val_score(ada, X_val_shap, y_val, cv=k_fold, scoring='accuracy', n_jobs=-1)\n",
    "ada_acc = pd.DataFrame(data={'Score': ada_acc_cv, 'Metric': 'Accuracy', 'Model': 'AdaBoost'})\n",
    "ada_df=pd.concat([ada_f1, ada_acc], axis=0)\n",
    "\n",
    "print(\"Grid Search CV Best AUC = {:.3f}\\nBest Params: {}\".format(ada_cv.best_score_, ada_cv.best_estimator_))\n",
    "print()\n",
    "print(\"{:.2f}% accuracy on the validation set with a standard deviation of {:.1f}\"\\\n",
    "      .format(ada_acc_cv.mean()*100, ada_acc_cv.std()*100))\n",
    "print(\"{:.2f}% F1-score on the validation set with a standard deviation of {:.1f}\"\\\n",
    "      .format(ada_f1_cv.mean()*100, ada_f1_cv.std()*100))"
   ]
  },
  {
   "cell_type": "markdown",
   "id": "336353de",
   "metadata": {
    "papermill": {
     "duration": 0.124928,
     "end_time": "2022-01-20T06:59:48.783387",
     "exception": false,
     "start_time": "2022-01-20T06:59:48.658459",
     "status": "completed"
    },
    "tags": []
   },
   "source": [
    "We see a slight decline in performance in the AdaBoost model. The AUC decreased to 0.897 and the overall accuracy and F1-score dropped to 84% and 85% respectively, although the model produces a smaller standard deviation than the others."
   ]
  },
  {
   "cell_type": "markdown",
   "id": "5985afeb",
   "metadata": {
    "papermill": {
     "duration": 0.123447,
     "end_time": "2022-01-20T06:59:49.030468",
     "exception": false,
     "start_time": "2022-01-20T06:59:48.907021",
     "status": "completed"
    },
    "tags": []
   },
   "source": [
    "## <b><span style='color:#CB7272'>7.4</span> | Gradient Boosting</b>"
   ]
  },
  {
   "cell_type": "code",
   "execution_count": 19,
   "id": "c081950d",
   "metadata": {
    "_kg_hide-input": true,
    "execution": {
     "iopub.execute_input": "2022-01-20T06:59:49.293424Z",
     "iopub.status.busy": "2022-01-20T06:59:49.292665Z",
     "iopub.status.idle": "2022-01-20T07:00:46.372331Z",
     "shell.execute_reply": "2022-01-20T07:00:46.372898Z",
     "shell.execute_reply.started": "2022-01-20T06:34:03.930854Z"
    },
    "papermill": {
     "duration": 57.218375,
     "end_time": "2022-01-20T07:00:46.373079",
     "exception": false,
     "start_time": "2022-01-20T06:59:49.154704",
     "status": "completed"
    },
    "tags": []
   },
   "outputs": [
    {
     "name": "stdout",
     "output_type": "stream",
     "text": [
      "Grid Search CV Best AUC = 0.925\n",
      "Best Params: LGBMClassifier(boosting_type='dart', class_weight='balanced',\n",
      "               colsample_bytree=1, learning_rate=0.5, max_depth=3,\n",
      "               min_child_samples=7, min_split_gain=1e-05, num_leaves=30,\n",
      "               random_state=92, subsample=0.5)\n",
      "\n",
      "88.9% average accuracy on the validation set with a standard deviation of 2.96\n",
      "90.0% average F1-score on the validation set with a standard deviation of 3.06\n"
     ]
    }
   ],
   "source": [
    "gbm = lgb.LGBMClassifier(class_weight='balanced', random_state=92)\n",
    "\n",
    "# Parameter tuning\n",
    "grid = {'boosting_type': ['gbdt', 'dart'],\n",
    "        'num_leaves': [int(x) for x in np.linspace(start = 20, stop = 50, num = 7)],\n",
    "        'max_depth' : [-1, 3, 7, 14, 21],\n",
    "        'learning_rate': [0.0001, 0.001, 0.01, 0.1, 0.5, 1],\n",
    "        'n_estimators': [int(x) for x in np.linspace(start = 100, stop = 500, num = 5)],\n",
    "        'min_split_gain': [0.00001, 0.0001, 0.001, 0.01, 0.1],\n",
    "        'min_child_samples': [3, 5, 7],\n",
    "        'subsample': [0.5, 0.8, 0.95],\n",
    "        'colsample_bytree': [0.6, 0.75, 1]}\n",
    "\n",
    "gbm_cv=RandomizedSearchCV(estimator=gbm, param_distributions=grid, scoring='roc_auc', \n",
    "                         n_iter=100, cv=5, random_state=92, n_jobs=-1)\n",
    "\n",
    "gbm_cv.fit(X_train_shap, y_train)\n",
    "\n",
    "# Best params\n",
    "gbm = gbm_cv.best_estimator_\n",
    "\n",
    "# CV Scores\n",
    "gbm_f1_cv=cross_val_score(gbm, X_val_shap, y_val, cv=k_fold, scoring='f1', n_jobs=-1)\n",
    "gbm_f1 = pd.DataFrame(data={'Score': gbm_f1_cv, 'Metric': 'F1', 'Model': 'Gradient Boosting'})\n",
    "gbm_acc_cv=cross_val_score(gbm, X_val_shap, y_val, cv=k_fold, scoring='accuracy', n_jobs=-1)\n",
    "gbm_acc = pd.DataFrame(data={'Score': gbm_acc_cv, 'Metric': 'Accuracy', 'Model': 'Gradient Boosting'})\n",
    "gbm_df = pd.concat([gbm_f1, gbm_acc], axis=0)\n",
    "\n",
    "print(\"Grid Search CV Best AUC = {:.3f}\\nBest Params: {}\".format(gbm_cv.best_score_, gbm_cv.best_estimator_))\n",
    "print()\n",
    "print(\"{:.1f}% average accuracy on the validation set with a standard deviation of {:.2f}\"\\\n",
    "      .format(gbm_acc_cv.mean()*100, gbm_acc_cv.std()*100))\n",
    "print(\"{:.1f}% average F1-score on the validation set with a standard deviation of {:.2f}\"\\\n",
    "      .format(gbm_f1_cv.mean()*100, gbm_f1_cv.std()*100))"
   ]
  },
  {
   "cell_type": "markdown",
   "id": "02825b89",
   "metadata": {
    "papermill": {
     "duration": 0.12483,
     "end_time": "2022-01-20T07:00:46.625171",
     "exception": false,
     "start_time": "2022-01-20T07:00:46.500341",
     "status": "completed"
    },
    "tags": []
   },
   "source": [
    "The Gradient Boosting model produces the highest Area Under the Curve out of the classifiers at 0.925. In addition, the model increases the accuracy to almost 89% and the F1-score to 90% on the validation set."
   ]
  },
  {
   "cell_type": "markdown",
   "id": "edda1e17",
   "metadata": {
    "papermill": {
     "duration": 0.125666,
     "end_time": "2022-01-20T07:00:46.876659",
     "exception": false,
     "start_time": "2022-01-20T07:00:46.750993",
     "status": "completed"
    },
    "tags": []
   },
   "source": [
    "# <div style=\"color:white;display:fill;border-radius:5px;background-color:#CB7272;font-size:140%;letter-spacing:0.5px;overflow:hidden\"><p style=\"padding:20px;color:white;overflow:hidden;margin:0\"><b>8 |</b> Model Comparison</p></div>\n",
    "## <b><span style='color:#CB7272'>8.1</span> | Model Performance on the Validation Set</b>"
   ]
  },
  {
   "cell_type": "code",
   "execution_count": 20,
   "id": "fa564a30",
   "metadata": {
    "_kg_hide-input": true,
    "execution": {
     "iopub.execute_input": "2022-01-20T07:00:47.133061Z",
     "iopub.status.busy": "2022-01-20T07:00:47.132268Z",
     "iopub.status.idle": "2022-01-20T07:00:47.223357Z",
     "shell.execute_reply": "2022-01-20T07:00:47.223890Z",
     "shell.execute_reply.started": "2022-01-20T06:34:03.932566Z"
    },
    "papermill": {
     "duration": 0.223409,
     "end_time": "2022-01-20T07:00:47.224067",
     "exception": false,
     "start_time": "2022-01-20T07:00:47.000658",
     "status": "completed"
    },
    "tags": []
   },
   "outputs": [],
   "source": [
    "plot_df=pd.concat([et_df, rf_df, ada_df, gbm_df], axis=0)\n",
    "plot_df['Score']=plot_df.Score.mul(100)\n",
    "fig = px.box(plot_df, x=\"Model\", y=\"Score\", color=\"Metric\", \n",
    "             title=\"Model Performance on the Validation Set\",\n",
    "             color_discrete_sequence = ['#95C8C3' , '#45968E'])\n",
    "fig.update_layout(template=temp, xaxis_title='Model', yaxis_ticksuffix='%')\n",
    "fig.update_xaxes(categoryorder='median descending')\n",
    "fig.write_image('data/fig7.svg')"
   ]
  },
  {
   "cell_type": "markdown",
   "id": "1ff1ec3a",
   "metadata": {},
   "source": [
    "![fig7](data/fig7.svg)"
   ]
  },
  {
   "cell_type": "markdown",
   "id": "cc431b53",
   "metadata": {
    "papermill": {
     "duration": 0.129239,
     "end_time": "2022-01-20T07:00:47.483106",
     "exception": false,
     "start_time": "2022-01-20T07:00:47.353867",
     "status": "completed"
    },
    "tags": []
   },
   "source": [
    "Comparing the cross-validation results in the boxplots above, we see the Gradient Boosting model produces the highest median F1-score of 90.3% and the highest median accuracy of 88.5%. It also has the smallest spread in the distribution with a standard deviation of about 3. The Random Forest model comes in a close second place with an 89.7% median F1-score and an 88.2% median accuracy, although it has slightly more variability in the scores."
   ]
  },
  {
   "cell_type": "markdown",
   "id": "39dafa86",
   "metadata": {
    "papermill": {
     "duration": 0.129922,
     "end_time": "2022-01-20T07:00:47.742236",
     "exception": false,
     "start_time": "2022-01-20T07:00:47.612314",
     "status": "completed"
    },
    "tags": []
   },
   "source": [
    "## <b><span style='color:#CB7272'>8.2</span> | Model Performance on the Test Set</b>"
   ]
  },
  {
   "cell_type": "code",
   "execution_count": 21,
   "id": "81ce98c7",
   "metadata": {
    "_kg_hide-input": true,
    "execution": {
     "iopub.execute_input": "2022-01-20T07:00:48.011295Z",
     "iopub.status.busy": "2022-01-20T07:00:48.010561Z",
     "iopub.status.idle": "2022-01-20T07:00:49.150329Z",
     "shell.execute_reply": "2022-01-20T07:00:49.150880Z",
     "shell.execute_reply.started": "2022-01-20T06:34:03.934396Z"
    },
    "papermill": {
     "duration": 1.276305,
     "end_time": "2022-01-20T07:00:49.151060",
     "exception": false,
     "start_time": "2022-01-20T07:00:47.874755",
     "status": "completed"
    },
    "tags": []
   },
   "outputs": [
    {
     "data": {
      "image/png": "[encoded data removed]",
      "text/plain": [
       "<Figure size 1080x864 with 8 Axes>"
      ]
     },
     "metadata": {
      "needs_background": "light"
     },
     "output_type": "display_data"
    }
   ],
   "source": [
    "# Confusion Matrix\n",
    "models={\"Extra Trees Classifier\":ext, \"Random Forest\": rf,\n",
    "        \"AdaBoost\": ada, \"Gradient Boosting\": gbm}\n",
    "\n",
    "plt.figure(figsize=(15, 12))\n",
    "plt.subplots_adjust(hspace=0.5)\n",
    "\n",
    "for i, mod in enumerate(models.items()):\n",
    "    ax = plt.subplot(2, 2, i+1)\n",
    "    m=list(models.values())[i]\n",
    "    y_preds=m.predict(X_test_shap)\n",
    "    cm = confusion_matrix(y_test, y_preds, labels=[1,0])\n",
    "    classes=['Heart Disease','No Disease']\n",
    "    label = ['True Positives', 'False Negatives', 'False Positives', 'True Negatives']\n",
    "    annot = [f'{i}\\n\\n{j}' for i, j in zip(cm.flatten(), label)]\n",
    "    annot = np.asarray(annot).reshape(2,2)\n",
    "\n",
    "    sns.set_context('notebook') \n",
    "    ax = sns.heatmap(cm, annot=annot, fmt='', cmap='flare', linecolor='white', linewidths=8)\n",
    "    ax.set_title(list(models.keys())[i])\n",
    "    ax.set_xlabel('\\nPredicted Label')\n",
    "    ax.set_ylabel('True Label\\n')\n",
    "    ax.xaxis.set_ticklabels(classes)\n",
    "    ax.yaxis.set_ticklabels(classes)"
   ]
  },
  {
   "cell_type": "markdown",
   "id": "e49aed6a",
   "metadata": {
    "papermill": {
     "duration": 0.134169,
     "end_time": "2022-01-20T07:00:49.422341",
     "exception": false,
     "start_time": "2022-01-20T07:00:49.288172",
     "status": "completed"
    },
    "tags": []
   },
   "source": [
    "The confusion matrix results show how many patients the models correctly predicted heart disease in and how many were misclassified. On the test set, the Gradient Boosting model classified the highest amount of True Positives (patients with heart disease), as well as the highest amount of True Negative (patients without heart disease)."
   ]
  },
  {
   "cell_type": "markdown",
   "id": "3d9f33e0",
   "metadata": {
    "papermill": {
     "duration": 0.133004,
     "end_time": "2022-01-20T07:00:49.688472",
     "exception": false,
     "start_time": "2022-01-20T07:00:49.555468",
     "status": "completed"
    },
    "tags": []
   },
   "source": [
    "# <div style=\"color:white;display:fill;border-radius:5px;background-color:#CB7272;font-size:140%;letter-spacing:0.5px;overflow:hidden\"><p style=\"padding:20px;color:white;overflow:hidden;margin:0\"><b>9 |</b> ROC Curves</p></div>"
   ]
  },
  {
   "cell_type": "code",
   "execution_count": 22,
   "id": "6d97c413",
   "metadata": {
    "_kg_hide-input": true,
    "execution": {
     "iopub.execute_input": "2022-01-20T07:00:49.968416Z",
     "iopub.status.busy": "2022-01-20T07:00:49.967608Z",
     "iopub.status.idle": "2022-01-20T07:00:54.228895Z",
     "shell.execute_reply": "2022-01-20T07:00:54.229408Z",
     "shell.execute_reply.started": "2022-01-20T06:34:03.936136Z"
    },
    "papermill": {
     "duration": 4.407058,
     "end_time": "2022-01-20T07:00:54.229587",
     "exception": false,
     "start_time": "2022-01-20T07:00:49.822529",
     "status": "completed"
    },
    "tags": []
   },
   "outputs": [],
   "source": [
    "# ROC Curves\n",
    "fpr = {}\n",
    "tpr = {}\n",
    "roc_auc = {}\n",
    "thresh = {}\n",
    "\n",
    "models=[ext, rf, ada, gbm]\n",
    "    \n",
    "for i in range(len(models)):\n",
    "    m=models[i]\n",
    "    y_probs=m.predict_proba(X_test_shap)\n",
    "    fpr[i], tpr[i], thresh[i] = roc_curve(y_test, y_probs[:,1], pos_label=1)\n",
    "    roc_auc[i] = cross_val_score(m, X_test_shap, y_test, cv=k_fold, \n",
    "                                 scoring='roc_auc', n_jobs=-1).mean()\n",
    "    \n",
    "fig = go.Figure()\n",
    "fig.add_trace(go.Scatter(x=fpr[0], y=tpr[0], line=dict(color='#5758A3', width=2.5), opacity=0.7,\n",
    "                         hovertemplate = 'Extra Trees True positive rate = %{y:.3f}, False positive rate = %{x:.3f}<extra></extra>',\n",
    "                         name='Extra Trees ROC Curve (AUC = {:.3f})'.format(roc_auc[0])))\n",
    "fig.add_trace(go.Scatter(x=fpr[1], y=tpr[1], line=dict(color='#53A9BA', width=2.5), opacity=0.7,\n",
    "                         hovertemplate = 'Random Forest True positive rate = %{y:.3f}, False positive rate = %{x:.3f}<extra></extra>',\n",
    "                         name='Random Forest ROC Curve (AUC = {:.3f})'.format(roc_auc[1])))\n",
    "fig.add_trace(go.Scatter(x=fpr[2], y=tpr[2], line=dict(color='#026964', width=2.5), opacity=0.7,\n",
    "                         hovertemplate = 'AdaBoost True positive rate = %{y:.3f}, False positive rate = %{x:.3f}<extra></extra>',\n",
    "                         name='AdaBoost ROC Curve (AUC = {:.3f})'.format(roc_auc[2])))\n",
    "fig.add_trace(go.Scatter(x=fpr[3], y=tpr[3], line=dict(color='#82C394', width=2.5), opacity=0.8,\n",
    "                         hovertemplate = 'Gradient Boosting True positive rate = %{y:.3f}, False positive rate = %{x:.3f}<extra></extra>',\n",
    "                         name='Gradient Boosting ROC Curve (AUC = {:.3f})'.format(roc_auc[3])))\n",
    "fig.add_shape(type=\"line\", xref=\"x\", yref=\"y\", x0=0, y0=0, x1=1, y1=1, \n",
    "              line=dict(color=\"Black\", width=1, dash=\"dot\"))\n",
    "fig.update_layout(template=temp, title=\"ROC Curve Comparison on the Test Set\", hovermode=\"x unified\", \n",
    "                  hoverlabel = dict(bgcolor=\"white\",font_size=12), xaxis=dict(hoverformat=\".2f\"),\n",
    "                  xaxis_title='False Positive Rate (1 - Specificity)', yaxis_title='True Positive Rate (Sensitivity)', \n",
    "                  legend=dict(y=.12, x=1, xanchor=\"right\",bordercolor=\"black\",borderwidth=.5, font=dict(size=14)),\n",
    "                  height=600, width=700)\n",
    "fig.write_image('data/fig8.svg')"
   ]
  },
  {
   "cell_type": "markdown",
   "id": "6690dca8",
   "metadata": {},
   "source": [
    "![fig8](data/fig8.svg)"
   ]
  },
  {
   "cell_type": "markdown",
   "id": "82b25470",
   "metadata": {
    "papermill": {
     "duration": 0.139993,
     "end_time": "2022-01-20T07:00:54.511584",
     "exception": false,
     "start_time": "2022-01-20T07:00:54.371591",
     "status": "completed"
    },
    "tags": []
   },
   "source": [
    "The ROC Curves show how well the models perform at different thresholds. The y-axis shows the True Positive Rate, or Sensitivity of the models, which is a measure of how well the model identifies patients with heart disease (true positives) and the False Positive Rate along the x-axis shows how many patients the model misclassifies as false positives. In general, you want the model to have a higher true positive rate and a lower false positive rate, with a curve near the top left of the graph. In the plot above, all of the models produce strong results on the test set. Gradient Boosting provides the highest Area Under the Curve overall at 0.927, although at certain thresholds, we see the Random Forest model produces slightly better results where the curve surpasses the Gradient Boosting model."
   ]
  },
  {
   "cell_type": "markdown",
   "id": "3966c75d",
   "metadata": {
    "papermill": {
     "duration": 0.138932,
     "end_time": "2022-01-20T07:00:54.789043",
     "exception": false,
     "start_time": "2022-01-20T07:00:54.650111",
     "status": "completed"
    },
    "tags": []
   },
   "source": [
    "# <div style=\"color:white;display:fill;border-radius:5px;background-color:#CB7272;font-size:140%;letter-spacing:0.5px;overflow:hidden\"><p style=\"padding:20px;color:white;overflow:hidden;margin:0\"><b>10 |</b> Conclusion</p></div>\n",
    "In detecting cardiovascular disease, Shapley values were used to develop a Gradient Boosting model that can predict the likelihood of a heart disease diagnosis with an Area Under the Curve of 0.927. Using Shapley values, we also identified key indicators of heart disease and their influence in predicting a positive diagnosis. Some of the most important predictors in the model were the interaction effects between a patient's medical information, especially in features that included a patient's Age, Cholesterol, Blood Pressure, ST Slope, and Chest Pain type. In selecting the best model, Gradient Boosting provided the strongest results overall and can be used in the early detection and diagnosis of heart disease with an overall F1-Score of 90% and an accuracy of about 89%."
   ]
  },
  {
   "cell_type": "markdown",
   "id": "f1443e94",
   "metadata": {
    "papermill": {
     "duration": 0.139228,
     "end_time": "2022-01-20T07:00:55.069884",
     "exception": false,
     "start_time": "2022-01-20T07:00:54.930656",
     "status": "completed"
    },
    "tags": []
   },
   "source": [
    "## <b><span style='color:#CB7272'>10.1</span> | References</b>\n",
    "\n",
    "Lundberg, Scott M., and Lee, Su-In. \"A unified approach to interpreting model predictions.\" Advances in Neural Information Processing Systems. (2017).\n",
    "\n",
    "Molnar, Christoph. \"Interpretable machine learning: A Guide for Making Black Box Models Explainable.\" (2019). Retrieved from https://christophm.github.io/interpretable-ml-book/.\n",
    "\n",
    "Shapley, Lloyd S. \"A value for n-person games.\" Contributions to the Theory of Games 2.28 (1953): 307-317.\n",
    "\n",
    "Virani, S. S., Alonso, A., Aparicio, H. J., Benjamin, E. J., Bittencourt, M. S., Callaway, C. W., Carson, A. P., Chamberlain, A. M., Cheng, S., Delling, F. N., Elkind, M. S. V., Evenson, K. R., Ferguson, J. F., Gupta, D. K., Khan, S. S., Kissela, B. M., Knutson, K. L., Lee, C. D., Lewis, T. T., … Tsao, C. W. (2021). Heart disease and stroke statistics—2021 update. Circulation, 143(8). https://doi.org/10.1161/cir.0000000000000950.\n",
    "\n",
    "World Health Organization. Cardiovascular diseases (CVDs). World Health Organization. (2021, June 11). Retrieved from https://www.who.int/news-room/fact-sheets/detail/cardiovascular-diseases-(cvds)."
   ]
  }
 ],
 "metadata": {
  "kernelspec": {
   "display_name": "Python 3 (ipykernel)",
   "language": "python",
   "name": "python3"
  },
  "language_info": {
   "codemirror_mode": {
    "name": "ipython",
    "version": 3
   },
   "file_extension": ".py",
   "mimetype": "text/x-python",
   "name": "python",
   "nbconvert_exporter": "python",
   "pygments_lexer": "ipython3",
   "version": "3.9.7"
  },
  "papermill": {
   "default_parameters": {},
   "duration": 387.712746,
   "end_time": "2022-01-20T07:00:56.423163",
   "environment_variables": {},
   "exception": null,
   "input_path": "__notebook__.ipynb",
   "output_path": "__notebook__.ipynb",
   "parameters": {},
   "start_time": "2022-01-20T06:54:28.710417",
   "version": "2.3.3"
  }
 },
 "nbformat": 4,
 "nbformat_minor": 5
}
